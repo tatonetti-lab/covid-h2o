{
 "cells": [
  {
   "cell_type": "markdown",
   "metadata": {},
   "source": [
    "## Basics"
   ]
  },
  {
   "cell_type": "code",
   "execution_count": 43,
   "metadata": {
    "ExecuteTime": {
     "end_time": "2023-11-03T20:25:03.921222Z",
     "start_time": "2023-11-03T20:25:03.900335Z"
    }
   },
   "outputs": [],
   "source": [
    "import numpy as np\n",
    "import scipy.stats as stats\n",
    "import pymysql\n",
    "import pandas as pd\n",
    "import os\n",
    "\n",
    "from collections import defaultdict\n",
    "import paramiko\n",
    "\n",
    "\n",
    "from sshtunnel import SSHTunnelForwarder\n",
    "from collections import defaultdict\n",
    "%matplotlib inline  \n",
    "import seaborn as sns\n",
    "import gzip\n",
    "\n",
    "from collections import Counter\n",
    "import matplotlib.pyplot as plt\n",
    "from tqdm import tqdm"
   ]
  },
  {
   "cell_type": "code",
   "execution_count": 48,
   "metadata": {
    "ExecuteTime": {
     "end_time": "2023-11-03T20:27:13.619709Z",
     "start_time": "2023-11-03T20:27:13.608820Z"
    }
   },
   "outputs": [],
   "source": [
    "def return_sign_in(login_loc = '/home/kel2158/login.txt'):\n",
    "    login_dict = dict()\n",
    "    with open(login_loc, \"r\") as file:\n",
    "        for line in file.readlines():\n",
    "            login_dict[ line.split(\",\")[0]] = line.split(\",\")[1].strip()\n",
    "    return(login_dict)\n",
    "\n",
    "login_dict = return_sign_in()"
   ]
  },
  {
   "cell_type": "code",
   "execution_count": 45,
   "metadata": {
    "ExecuteTime": {
     "end_time": "2023-11-03T20:25:04.174997Z",
     "start_time": "2023-11-03T20:25:04.060687Z"
    }
   },
   "outputs": [],
   "source": [
    "#Technically 2 binary outcomes (covid, negative covid OR hosp/not )\n",
    "limit_to_covid = 1\n",
    "\n",
    "database = \"user_kel2158\"\n",
    "hhid_folder = '/home/kel2158/Projects/hhid_update/data/'\n",
    "base_pedigree_folder = '/home/kel2158/Projects/Heritability_Base_Data/pedigree_v3_updated_results/'\n",
    "\n",
    "#Figure output directory\n",
    "figure_directory = '/home/kel2158/Projects/COVIDHerit/figures'\n",
    "\n",
    "#Input files\n",
    "filename_hhid =  hhid_folder+'hhid_trimmed_notcln.txt.gz'\n",
    "filename_buildingid =  hhid_folder+'buildid_notcln.txt.gz'\n",
    "finename_fam_input = base_pedigree_folder+ \"family_v3.txt.gz\"\n",
    "\n",
    "output_folder= '/home/kel2158/Projects/COVIDHerit/data/12_29_21/'\n",
    "covid_nopro_file = output_folder+'covid_noproband.txt.gz'\n",
    "covid_file = output_folder+'covid.txt.gz'\n",
    "\n"
   ]
  },
  {
   "cell_type": "code",
   "execution_count": 49,
   "metadata": {
    "ExecuteTime": {
     "end_time": "2023-11-03T20:27:16.187302Z",
     "start_time": "2023-11-03T20:27:15.668413Z"
    }
   },
   "outputs": [],
   "source": [
    "server = SSHTunnelForwarder(\n",
    "    '10.144.220.21',\n",
    "    ssh_username='kel2158',\n",
    "    ssh_password=login_dict['mimir_pw'],\n",
    "    remote_bind_address=('127.0.0.1', 3306)\n",
    ")\n",
    "server.start()\n",
    "\n",
    "db = pymysql.connect(\n",
    "    host='127.0.0.1',\n",
    "    port=server.local_bind_port,\n",
    "    user=login_dict['user'],\n",
    "    password=login_dict[\"db_pw\"],\n",
    "    db=database\n",
    ")\n",
    "\n",
    "cur = db.cursor()\n"
   ]
  },
  {
   "cell_type": "code",
   "execution_count": 50,
   "metadata": {
    "ExecuteTime": {
     "end_time": "2023-11-03T20:27:17.208684Z",
     "start_time": "2023-11-03T20:27:17.193976Z"
    }
   },
   "outputs": [
    {
     "data": {
      "text/plain": [
       "0"
      ]
     },
     "execution_count": 50,
     "metadata": {},
     "output_type": "execute_result"
    }
   ],
   "source": [
    "cur.execute( \"SET sql_mode=(SELECT REPLACE(@@sql_mode,'ONLY_FULL_GROUP_BY',''));\" )"
   ]
  },
  {
   "cell_type": "code",
   "execution_count": 51,
   "metadata": {
    "ExecuteTime": {
     "end_time": "2023-11-03T20:27:18.486815Z",
     "start_time": "2023-11-03T20:27:17.636433Z"
    }
   },
   "outputs": [],
   "source": [
    "#Read in family file \n",
    "file_name = finename_fam_input\n",
    "gfile = gzip.open(file_name)\n",
    "\n",
    "fam_df = pd.read_csv(gfile,sep='\\t')\n",
    "mrn2famid = dict(zip (fam_df[\"ptid\"],fam_df[\"famid\"]))"
   ]
  },
  {
   "cell_type": "code",
   "execution_count": 52,
   "metadata": {
    "ExecuteTime": {
     "end_time": "2023-11-03T20:27:20.008211Z",
     "start_time": "2023-11-03T20:27:18.964106Z"
    }
   },
   "outputs": [],
   "source": [
    "#Read in hhid file (apt level)\n",
    "file_name = filename_hhid\n",
    "gfile = gzip.open(file_name)\n",
    "hhid_df = pd.read_csv(gfile,sep='\\t')\n"
   ]
  },
  {
   "cell_type": "code",
   "execution_count": 53,
   "metadata": {
    "ExecuteTime": {
     "end_time": "2023-11-03T20:27:33.148626Z",
     "start_time": "2023-11-03T20:27:20.012737Z"
    }
   },
   "outputs": [],
   "source": [
    "#Read in buildingID file (apt level)\n",
    "file_name = filename_buildingid\n",
    "gfile = gzip.open(file_name)\n",
    "build_df = pd.read_csv(gfile,sep='\\t')\n"
   ]
  },
  {
   "cell_type": "code",
   "execution_count": 54,
   "metadata": {
    "ExecuteTime": {
     "end_time": "2023-11-03T20:27:33.212533Z",
     "start_time": "2023-11-03T20:27:33.156875Z"
    }
   },
   "outputs": [],
   "source": [
    "#Read in time to first pcr trait file \n",
    "file_name = covid_nopro_file\n",
    "gfile = gzip.open(file_name)\n",
    "covnopro_df = pd.read_csv(gfile,sep='\\t')\n"
   ]
  },
  {
   "cell_type": "code",
   "execution_count": 55,
   "metadata": {
    "ExecuteTime": {
     "end_time": "2023-11-03T20:27:42.014793Z",
     "start_time": "2023-11-03T20:27:33.216901Z"
    }
   },
   "outputs": [],
   "source": [
    "#Make relevant \n",
    "mrn2hhid = dict( zip( hhid_df[\"mrn\"], hhid_df[\"trimmed_hhid\"] ) )\n",
    "mrn2buildid = dict( zip( build_df[\"mrn\"], build_df[\"building_id\"] ) )"
   ]
  },
  {
   "cell_type": "code",
   "execution_count": 56,
   "metadata": {
    "ExecuteTime": {
     "end_time": "2023-11-03T20:27:43.406693Z",
     "start_time": "2023-11-03T20:27:42.019403Z"
    }
   },
   "outputs": [],
   "source": [
    "#Equivalent to first_pcr_nohospreq_df in pull pheno script\n",
    "\n",
    "#Get earliest PCR! Positive covid test for subsetting on patients that have\n",
    "#gotten infected within 30 days of relative's infection\n",
    "pull_data_query = \"\"\" SELECT DISTINCT pat_mrn_id, MIN(order_time) AS order_time, MAX(order_time)\n",
    "                      FROM user_kel2158.covid_lab_table\n",
    "                      WHERE test_result = \"pos\" \n",
    "                    GROUP BY pat_mrn_id;  \"\"\"\n",
    "\n",
    "cur.execute(pull_data_query)\n",
    "rawdata = cur.fetchall()\n",
    "\n",
    "db.close()\n",
    "server.stop()\n",
    "\n",
    "\n",
    "pheno_df = pd.DataFrame(list( rawdata ), columns=[\"mrn\",\n",
    "                           \"order_time\",\"latest_pcr_order_time\"\n",
    "                           ] )\n",
    "\n",
    "\n"
   ]
  },
  {
   "cell_type": "code",
   "execution_count": 57,
   "metadata": {
    "ExecuteTime": {
     "end_time": "2023-11-03T20:27:43.425289Z",
     "start_time": "2023-11-03T20:27:43.410076Z"
    }
   },
   "outputs": [],
   "source": [
    "def pull_fam_count( pheno, df, print_res = True, \\\n",
    "                   return_fams_df=False, type_pheno=\"binary_withproband\",\n",
    "                   return_patient_limited_df = False ):\n",
    "    \n",
    "    \"\"\"Returns the number of families in a phenotype for SOLAR based on pheno \n",
    "     Needs phenotype column, famid column and ptid column\"\"\"    \n",
    "    \n",
    "    #subset on phenotype of interest and those in our pedigree\n",
    "    df_phenosub = df[ (df[\"pheno\"] == pheno ) \n",
    "                       &  (~df[\"famid\"].isnull())] \n",
    "    \n",
    "    #Get the total number of  members in each fam and then number of cases\n",
    "    df_phenogrouped = df_phenosub.groupby( 'famid' )\\\n",
    "        .agg({ \"ptid\":\"count\",\"value\":sum })\\\n",
    "        .reset_index()\\\n",
    "        .rename(columns={ \"ptid\":\"num_fam_members\",\"value\":\"num_cases\" })\n",
    "    \n",
    "    #Subset to fams that will be included in SOLAR\n",
    "    #ie has more than one family member an at least one case in each family\n",
    "    if type_pheno == \"binary_withproband\":\n",
    "        solar_fams_df = df_phenogrouped[ (df_phenogrouped[\"num_fam_members\"] > 1) \\\n",
    "                                        & (df_phenogrouped[\"num_cases\"] > 0) ]\n",
    "    \n",
    "    else:\n",
    "         solar_fams_df = df_phenogrouped[ (df_phenogrouped[\"num_fam_members\"] > 1)]\n",
    "    \n",
    "    solar_limited_df = df_phenosub[ df_phenosub[\"famid\"].isin(solar_fams_df[\"famid\"].unique())]\n",
    "    solar_limited_df.drop_duplicates(inplace=True)\n",
    "    solar_patients = set( solar_limited_df[\"ptid\"] )\n",
    "    \n",
    "    \n",
    "    \n",
    "    if print_res:\n",
    "            print(f'There are {len(solar_fams_df)} SOLAR families')\n",
    "    \n",
    "    if return_fams_df:\n",
    "        return solar_fams_df, solar_patients\n",
    "    \n",
    "    elif return_patient_limited_df == True:\n",
    "        return solar_limited_df\n",
    "    \n",
    "    else:\n",
    "        return(len( solar_fams_df) )\n",
    "    "
   ]
  },
  {
   "cell_type": "code",
   "execution_count": 58,
   "metadata": {
    "ExecuteTime": {
     "end_time": "2023-11-03T20:27:43.555000Z",
     "start_time": "2023-11-03T20:27:43.428876Z"
    }
   },
   "outputs": [],
   "source": [
    "pheno_df.rename(columns={\"mrn\":\"ptid\"},inplace=True)"
   ]
  },
  {
   "cell_type": "code",
   "execution_count": 59,
   "metadata": {
    "ExecuteTime": {
     "end_time": "2023-11-03T20:27:43.675112Z",
     "start_time": "2023-11-03T20:27:43.558470Z"
    }
   },
   "outputs": [],
   "source": [
    "#Add in controls\n",
    "pheno_df = pd.concat([ pheno_df, covnopro_df[covnopro_df[\"value\"] == 0]])\n",
    "\n",
    "pheno_df[\"value\"].fillna(1,inplace=True)"
   ]
  },
  {
   "cell_type": "code",
   "execution_count": 60,
   "metadata": {
    "ExecuteTime": {
     "end_time": "2023-11-03T20:27:56.820523Z",
     "start_time": "2023-11-03T20:27:43.678144Z"
    }
   },
   "outputs": [],
   "source": [
    "pheno_df[\"pheno\"] = \"covid_noproband\"\n",
    "pheno_df[\"famid\"] = pheno_df[\"ptid\"].map(mrn2famid)\n",
    "pheno_df[\"hhid\"] = pheno_df[\"ptid\"].map(mrn2hhid)\n",
    "pheno_df[\"buildid\"] = pheno_df[\"ptid\"].map(mrn2buildid)"
   ]
  },
  {
   "cell_type": "code",
   "execution_count": 61,
   "metadata": {
    "ExecuteTime": {
     "end_time": "2023-11-03T20:27:56.985537Z",
     "start_time": "2023-11-03T20:27:56.829405Z"
    }
   },
   "outputs": [
    {
     "name": "stdout",
     "output_type": "stream",
     "text": [
      "There are 5676 SOLAR families\n"
     ]
    }
   ],
   "source": [
    "#Subset to families used by solar (ie at least 2 patients per family)\n",
    "\n",
    "solar_nopro_df = pull_fam_count(\"covid_noproband\", pheno_df,\\\n",
    "                                return_patient_limited_df=True,type_pheno=\"no_proband\")"
   ]
  },
  {
   "cell_type": "code",
   "execution_count": 62,
   "metadata": {
    "ExecuteTime": {
     "end_time": "2023-11-03T20:27:56.995018Z",
     "start_time": "2023-11-03T20:27:56.988017Z"
    }
   },
   "outputs": [],
   "source": [
    "# Initialize a list to keep track of all figures\n",
    "all_figures = []\n",
    "\n",
    "# Create a function to save a figure and add it to the list\n",
    "def save_and_track_figure(fig, filename, save_directory = figure_directory):\n",
    "    # Combine the save_directory and filename to create the full path\n",
    "    save_path = os.path.join(save_directory, filename)\n",
    "    \n",
    "    fig.patch.set_facecolor('white')\n",
    "    # Save the figure with the full path\n",
    "    fig.savefig(save_path, dpi=300, bbox_inches=\"tight\")\n",
    "    \n",
    "    # Append the saved file path to the list of saved figures\n",
    "    all_figures.append(save_path)\n",
    "\n"
   ]
  },
  {
   "cell_type": "markdown",
   "metadata": {},
   "source": [
    "## Compare Shared Environment Groupings"
   ]
  },
  {
   "cell_type": "code",
   "execution_count": 95,
   "metadata": {
    "ExecuteTime": {
     "end_time": "2023-11-06T14:22:55.281853Z",
     "start_time": "2023-11-06T14:22:54.624975Z"
    }
   },
   "outputs": [],
   "source": [
    "#Limit to cases\n",
    "pheno_cases_df = solar_nopro_df[ solar_nopro_df[\"value\"] == 1 ]\n",
    "\n",
    "group_dict = defaultdict(list)\n",
    "\n",
    "samplesize_groupings_dict = dict()\n",
    "\n",
    "for bubble in [\"famid\",\"buildid\",\"hhid\"]:\n",
    "    \n",
    "    time_from_last_pos = list()\n",
    "    groups = pheno_cases_df.groupby(bubble)\n",
    "    \n",
    "    patients_n = 0\n",
    "    \n",
    "    for num,group in enumerate(groups):\n",
    "        \n",
    "        df = group[1]\n",
    "        #If there is more than one individual in the group\n",
    "        if len(df) > 1:\n",
    "            \n",
    "            patients_n += len(df)\n",
    "            \n",
    "            df.sort_values(by=\"order_time\",inplace=True)\n",
    "            counter = 0\n",
    "\n",
    "            #For each first positive pcr test for a patient\n",
    "            for subsequent_pcr_time in df[\"order_time\"]:\n",
    "\n",
    "                #If first in group continue\n",
    "                if counter == 0:\n",
    "                    counter += 1\n",
    "                    last_pcr_time = subsequent_pcr_time\n",
    "                    continue\n",
    "                \n",
    "                #If not first pos test get time from last group member's test\n",
    "                else:\n",
    "                    time_diff = subsequent_pcr_time - last_pcr_time\n",
    "                    time_from_last_pos.append(time_diff.days)\n",
    "                    counter += 1\n",
    "\n",
    "                    last_pcr_time = subsequent_pcr_time\n",
    "    \n",
    "    group_dict[bubble] = time_from_last_pos\n",
    "    samplesize_groupings_dict[bubble] = patients_n"
   ]
  },
  {
   "cell_type": "code",
   "execution_count": 96,
   "metadata": {
    "ExecuteTime": {
     "end_time": "2023-11-06T14:22:56.477643Z",
     "start_time": "2023-11-06T14:22:56.469144Z"
    }
   },
   "outputs": [
    {
     "data": {
      "text/plain": [
       "{'famid': 485, 'buildid': 519, 'hhid': 269}"
      ]
     },
     "execution_count": 96,
     "metadata": {},
     "output_type": "execute_result"
    }
   ],
   "source": [
    "samplesize_groupings_dict"
   ]
  },
  {
   "cell_type": "code",
   "execution_count": 64,
   "metadata": {
    "ExecuteTime": {
     "end_time": "2023-11-03T20:27:57.753619Z",
     "start_time": "2023-11-03T20:27:57.744678Z"
    }
   },
   "outputs": [
    {
     "data": {
      "text/plain": [
       "62.1796875"
      ]
     },
     "execution_count": 64,
     "metadata": {},
     "output_type": "execute_result"
    }
   ],
   "source": [
    "np.mean( group_dict[\"famid\"] )"
   ]
  },
  {
   "cell_type": "code",
   "execution_count": 65,
   "metadata": {
    "ExecuteTime": {
     "end_time": "2023-11-03T20:27:57.832622Z",
     "start_time": "2023-11-03T20:27:57.756728Z"
    }
   },
   "outputs": [
    {
     "data": {
      "text/plain": [
       "121.15188901706132"
      ]
     },
     "execution_count": 65,
     "metadata": {},
     "output_type": "execute_result"
    }
   ],
   "source": [
    "np.std( group_dict[\"famid\"] )"
   ]
  },
  {
   "cell_type": "code",
   "execution_count": 66,
   "metadata": {
    "ExecuteTime": {
     "end_time": "2023-11-03T20:27:57.945922Z",
     "start_time": "2023-11-03T20:27:57.835989Z"
    }
   },
   "outputs": [
    {
     "data": {
      "text/plain": [
       "33.44285714285714"
      ]
     },
     "execution_count": 66,
     "metadata": {},
     "output_type": "execute_result"
    }
   ],
   "source": [
    "np.mean( group_dict[\"hhid\"] )"
   ]
  },
  {
   "cell_type": "code",
   "execution_count": 67,
   "metadata": {
    "ExecuteTime": {
     "end_time": "2023-11-03T20:27:58.077390Z",
     "start_time": "2023-11-03T20:27:57.949636Z"
    }
   },
   "outputs": [
    {
     "data": {
      "text/plain": [
       "97.59678503403477"
      ]
     },
     "execution_count": 67,
     "metadata": {},
     "output_type": "execute_result"
    }
   ],
   "source": [
    "np.std( group_dict[\"hhid\"] )"
   ]
  },
  {
   "cell_type": "code",
   "execution_count": 68,
   "metadata": {
    "ExecuteTime": {
     "end_time": "2023-11-03T20:27:58.155898Z",
     "start_time": "2023-11-03T20:27:58.080860Z"
    }
   },
   "outputs": [
    {
     "data": {
      "text/plain": [
       "93.45578231292517"
      ]
     },
     "execution_count": 68,
     "metadata": {},
     "output_type": "execute_result"
    }
   ],
   "source": [
    "np.mean( group_dict[\"buildid\"] )"
   ]
  },
  {
   "cell_type": "code",
   "execution_count": 69,
   "metadata": {
    "ExecuteTime": {
     "end_time": "2023-11-03T20:27:58.243470Z",
     "start_time": "2023-11-03T20:27:58.159098Z"
    }
   },
   "outputs": [
    {
     "data": {
      "text/plain": [
       "137.32905174419363"
      ]
     },
     "execution_count": 69,
     "metadata": {},
     "output_type": "execute_result"
    }
   ],
   "source": [
    "np.std( group_dict[\"buildid\"] )"
   ]
  },
  {
   "cell_type": "code",
   "execution_count": 70,
   "metadata": {
    "ExecuteTime": {
     "end_time": "2023-11-03T20:27:58.320138Z",
     "start_time": "2023-11-03T20:27:58.247116Z"
    }
   },
   "outputs": [],
   "source": [
    "#See if there is a difference\n",
    "f_val, p_val = stats.f_oneway( group_dict[\"hhid\"],\n",
    "                              group_dict[\"famid\"],\n",
    "                              group_dict[\"buildid\"])"
   ]
  },
  {
   "cell_type": "code",
   "execution_count": 71,
   "metadata": {
    "ExecuteTime": {
     "end_time": "2023-11-03T20:27:58.444652Z",
     "start_time": "2023-11-03T20:27:58.324062Z"
    }
   },
   "outputs": [
    {
     "name": "stdout",
     "output_type": "stream",
     "text": [
      "f value:  11.770135799891959\n",
      "p value:  9.417194371448607e-06\n"
     ]
    }
   ],
   "source": [
    "print( \"f value: \",f_val)\n",
    "print( \"p value: \",p_val)"
   ]
  },
  {
   "cell_type": "code",
   "execution_count": 72,
   "metadata": {
    "ExecuteTime": {
     "end_time": "2023-11-03T20:27:58.537617Z",
     "start_time": "2023-11-03T20:27:58.448912Z"
    }
   },
   "outputs": [],
   "source": [
    "def get_95_ci(data1,data2):\n",
    "    #n greater than 30 so use z score for 95% ci (1.96())\n",
    "    #ci for difference of the means\n",
    "    mean1 = np.mean(data1)\n",
    "    mean2 = np.mean(data2)\n",
    "    \n",
    "    n1 = len(data1)\n",
    "    n2 = len(data2)\n",
    "    \n",
    "    sd1 = np.std(data1)\n",
    "    sd2 = np.std(data2)\n",
    "    \n",
    "    pooled_sd = ( (n1-1)*sd1 + (n2-1)*sd2 )/ (n1+n2-2)\n",
    "\n",
    "    \n",
    "    high_ci = (mean1-mean2) + 1.96*pooled_sd*(1/n1 + 1/n2)**.5\n",
    "    low_ci = (mean1-mean2) - 1.96*pooled_sd*(1/n1 + 1/n2)**.5\n",
    "    \n",
    "    degrees_freedom = n1+n2-2\n",
    "    \n",
    "    return(high_ci,low_ci,degrees_freedom)"
   ]
  },
  {
   "cell_type": "code",
   "execution_count": 99,
   "metadata": {
    "ExecuteTime": {
     "end_time": "2023-11-07T01:53:29.472536Z",
     "start_time": "2023-11-07T01:53:29.460717Z"
    },
    "code_folding": []
   },
   "outputs": [
    {
     "data": {
      "text/plain": [
       "Ttest_indResult(statistic=2.559206532596979, pvalue=0.01092357015218149)"
      ]
     },
     "execution_count": 99,
     "metadata": {},
     "output_type": "execute_result"
    }
   ],
   "source": [
    "#perform two sample t-test hhid vs famid\n",
    "stats.ttest_ind(a=group_dict[\"famid\"], b=group_dict[\"hhid\"], equal_var=False)"
   ]
  },
  {
   "cell_type": "code",
   "execution_count": 74,
   "metadata": {
    "ExecuteTime": {
     "end_time": "2023-11-03T20:27:58.747242Z",
     "start_time": "2023-11-03T20:27:58.652866Z"
    }
   },
   "outputs": [
    {
     "data": {
      "text/plain": [
       "(51.98505650555608, 5.488604208729633, 394)"
      ]
     },
     "execution_count": 74,
     "metadata": {},
     "output_type": "execute_result"
    }
   ],
   "source": [
    "get_95_ci(group_dict[\"famid\"],group_dict[\"hhid\"])"
   ]
  },
  {
   "cell_type": "code",
   "execution_count": 75,
   "metadata": {
    "ExecuteTime": {
     "end_time": "2023-11-03T20:27:58.824569Z",
     "start_time": "2023-11-03T20:27:58.750840Z"
    }
   },
   "outputs": [
    {
     "data": {
      "text/plain": [
       "Ttest_indResult(statistic=5.205890036846074, pvalue=3.215389623116209e-07)"
      ]
     },
     "execution_count": 75,
     "metadata": {},
     "output_type": "execute_result"
    }
   ],
   "source": [
    "#perform two sample t-test hhid vs buildID\n",
    "stats.ttest_ind(a=group_dict[\"buildid\"], b=group_dict[\"hhid\"], equal_var=False)"
   ]
  },
  {
   "cell_type": "code",
   "execution_count": 76,
   "metadata": {
    "ExecuteTime": {
     "end_time": "2023-11-03T20:27:58.950023Z",
     "start_time": "2023-11-03T20:27:58.827706Z"
    }
   },
   "outputs": [
    {
     "data": {
      "text/plain": [
       "(85.07915093468498, 34.94669940545107, 432)"
      ]
     },
     "execution_count": 76,
     "metadata": {},
     "output_type": "execute_result"
    }
   ],
   "source": [
    "get_95_ci(group_dict[\"buildid\"],group_dict[\"hhid\"])"
   ]
  },
  {
   "cell_type": "code",
   "execution_count": 77,
   "metadata": {
    "ExecuteTime": {
     "end_time": "2023-11-03T20:27:59.044528Z",
     "start_time": "2023-11-03T20:27:58.953264Z"
    }
   },
   "outputs": [
    {
     "data": {
      "text/plain": [
       "Ttest_indResult(statistic=-2.8324634274599827, pvalue=0.004789060501311233)"
      ]
     },
     "execution_count": 77,
     "metadata": {},
     "output_type": "execute_result"
    }
   ],
   "source": [
    "#perform two sample t-test famid vs buildID\n",
    "stats.ttest_ind(a=group_dict[\"famid\"], b=group_dict[\"buildid\"], equal_var=False)"
   ]
  },
  {
   "cell_type": "code",
   "execution_count": 78,
   "metadata": {
    "ExecuteTime": {
     "end_time": "2023-11-03T20:27:59.123275Z",
     "start_time": "2023-11-03T20:27:59.047508Z"
    }
   },
   "outputs": [
    {
     "data": {
      "text/plain": [
       "(53.02427899922239, 9.52791062662794, 548)"
      ]
     },
     "execution_count": 78,
     "metadata": {},
     "output_type": "execute_result"
    }
   ],
   "source": [
    "get_95_ci(group_dict[\"buildid\"],group_dict[\"famid\"])"
   ]
  },
  {
   "cell_type": "code",
   "execution_count": 79,
   "metadata": {
    "ExecuteTime": {
     "end_time": "2023-11-03T20:27:59.221433Z",
     "start_time": "2023-11-03T20:27:59.130951Z"
    }
   },
   "outputs": [],
   "source": [
    "#Create dataframe for graphing\n",
    "shared_env_df = pd.DataFrame( list( zip( group_dict[\"hhid\"], len(group_dict[\"hhid\"]) * [\"hhid\"]) ) +\\\n",
    "list( zip( group_dict[\"famid\"], len(group_dict[\"famid\"]) * [\"famid\"]) ) +\\\n",
    "list( zip( group_dict[\"buildid\"], len(group_dict[\"buildid\"]) * [\"buildid\"]) ),\\\n",
    "                               columns=[\"Time to Last Pos PCR\",\"Shared Environment Grouping\"] )\n",
    "\n",
    "\n",
    "shared_env_df[\"Shared Environment Grouping\"].replace( {\"hhid\":\"Household\",\n",
    "                                                      \"famid\":\"Family\",\n",
    "                                                      \"buildid\":\"Building\"},inplace=True)"
   ]
  },
  {
   "cell_type": "code",
   "execution_count": 80,
   "metadata": {
    "ExecuteTime": {
     "end_time": "2023-11-03T20:27:59.325663Z",
     "start_time": "2023-11-03T20:27:59.223657Z"
    }
   },
   "outputs": [],
   "source": [
    "#Manuscript figure width requirements\n",
    "plt.rcParams['font.size'] = 7\n",
    "plt.rcParams['font.family'] = 'Arial'\n",
    "figsize_2colw = 175/25.4\n",
    "figsize_1colw= 85/25.4"
   ]
  },
  {
   "cell_type": "code",
   "execution_count": 100,
   "metadata": {
    "ExecuteTime": {
     "end_time": "2023-11-07T04:30:59.892585Z",
     "start_time": "2023-11-07T04:30:59.500044Z"
    }
   },
   "outputs": [
    {
     "data": {
      "image/png": "[encoded data removed]",
      "text/plain": [
       "<Figure size 240.945x216 with 1 Axes>"
      ]
     },
     "metadata": {},
     "output_type": "display_data"
    }
   ],
   "source": [
    "\n",
    "fig, ax = plt.subplots(figsize=(figsize_1colw,3))\n",
    "\n",
    "sns.boxplot(data=shared_env_df, x=\"Shared Environment Grouping\", y=\"Time to Last Pos PCR\",palette=\"Set2\",\\\n",
    "                 order=[ \"Household\",\"Family\",\"Building\"])\\\n",
    ".set( \n",
    "    ylabel='Days To Subsequent Infection',\n",
    "    xlabel='Shared Environment Grouping'\n",
    ")\n",
    "sns.despine()\n",
    "\n",
    "\n",
    "save_and_track_figure(fig, \"shared_env_comparison.pdf\")"
   ]
  },
  {
   "cell_type": "code",
   "execution_count": null,
   "metadata": {},
   "outputs": [],
   "source": []
  }
 ],
 "metadata": {
  "kernelspec": {
   "display_name": "covid_herit",
   "language": "python",
   "name": "covid_herit"
  },
  "language_info": {
   "codemirror_mode": {
    "name": "ipython",
    "version": 3
   },
   "file_extension": ".py",
   "mimetype": "text/x-python",
   "name": "python",
   "nbconvert_exporter": "python",
   "pygments_lexer": "ipython3",
   "version": "3.8.10"
  },
  "toc": {
   "base_numbering": 1,
   "nav_menu": {},
   "number_sections": true,
   "sideBar": true,
   "skip_h1_title": false,
   "title_cell": "Table of Contents",
   "title_sidebar": "Contents",
   "toc_cell": false,
   "toc_position": {},
   "toc_section_display": true,
   "toc_window_display": false
  },
  "varInspector": {
   "cols": {
    "lenName": 16,
    "lenType": 16,
    "lenVar": 40
   },
   "kernels_config": {
    "python": {
     "delete_cmd_postfix": "",
     "delete_cmd_prefix": "del ",
     "library": "var_list.py",
     "varRefreshCmd": "print(var_dic_list())"
    },
    "r": {
     "delete_cmd_postfix": ") ",
     "delete_cmd_prefix": "rm(",
     "library": "var_list.r",
     "varRefreshCmd": "cat(var_dic_list()) "
    }
   },
   "types_to_exclude": [
    "module",
    "function",
    "builtin_function_or_method",
    "instance",
    "_Feature"
   ],
   "window_display": false
  }
 },
 "nbformat": 4,
 "nbformat_minor": 4
}
