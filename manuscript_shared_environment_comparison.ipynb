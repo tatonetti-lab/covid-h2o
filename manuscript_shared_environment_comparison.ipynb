{
 "cells": [
  {
   "cell_type": "markdown",
   "metadata": {},
   "source": [
    "## Basics"
   ]
  },
  {
   "cell_type": "code",
   "execution_count": 28,
   "metadata": {
    "ExecuteTime": {
     "end_time": "2022-07-01T16:56:35.864569Z",
     "start_time": "2022-07-01T16:56:35.738933Z"
    }
   },
   "outputs": [],
   "source": [
    "import numpy as np\n",
    "import scipy.stats as stats\n",
    "import pymysql\n",
    "import pandas as pd\n",
    "\n",
    "from collections import defaultdict\n",
    "import paramiko\n",
    "\n",
    "\n",
    "from sshtunnel import SSHTunnelForwarder\n",
    "from collections import defaultdict\n",
    "%matplotlib inline  \n",
    "import seaborn as sns\n",
    "import gzip\n",
    "\n",
    "from collections import Counter\n",
    "\n",
    "from tqdm import tqdm"
   ]
  },
  {
   "cell_type": "code",
   "execution_count": 29,
   "metadata": {
    "ExecuteTime": {
     "end_time": "2022-07-01T16:56:35.985515Z",
     "start_time": "2022-07-01T16:56:35.875920Z"
    }
   },
   "outputs": [],
   "source": [
    "def return_sign_in(login_loc = '/home/kel2158/login.txt'):\n",
    "    login_dict = dict()\n",
    "    with open(login_loc, \"r\") as file:\n",
    "        for line in file.readlines():\n",
    "            login_dict[ line.split(\",\")[0]] = line.split(\",\")[1].strip()\n",
    "    return(login_dict)\n",
    "\n",
    "login_dict = return_sign_in()"
   ]
  },
  {
   "cell_type": "code",
   "execution_count": 30,
   "metadata": {
    "ExecuteTime": {
     "end_time": "2022-07-01T16:56:36.120983Z",
     "start_time": "2022-07-01T16:56:35.988770Z"
    }
   },
   "outputs": [],
   "source": [
    "#Technically 2 binary outcomes (covid, negative covid OR hosp/not )\n",
    "limit_to_covid = 1\n",
    "\n",
    "database = \"user_kel2158\"\n",
    "hhid_folder = '/home/kel2158/Projects/hhid_update/data/'\n",
    "base_pedigree_folder = '/home/kel2158/Projects/Heritability_Base_Data/pedigree_v3_updated_results/'\n",
    "\n",
    "#Input files\n",
    "filename_hhid =  hhid_folder+'hhid_trimmed_notcln.txt.gz'\n",
    "filename_buildingid =  hhid_folder+'buildid_notcln.txt.gz'\n",
    "finename_fam_input = base_pedigree_folder+ \"family_v3.txt.gz\"\n",
    "\n",
    "output_folder= '/home/kel2158/Projects/COVIDHerit/data/12_29_21/'\n",
    "covid_nopro_file = output_folder+'covid_noproband.txt.gz'\n",
    "covid_file = output_folder+'covid.txt.gz'\n",
    "\n"
   ]
  },
  {
   "cell_type": "code",
   "execution_count": 31,
   "metadata": {
    "ExecuteTime": {
     "end_time": "2022-07-01T16:56:36.515685Z",
     "start_time": "2022-07-01T16:56:36.124863Z"
    }
   },
   "outputs": [],
   "source": [
    "server = SSHTunnelForwarder(\n",
    "    '10.144.220.21',\n",
    "    ssh_username='kel2158',\n",
    "    ssh_password=login_dict['mimir_pw'],\n",
    "    remote_bind_address=('127.0.0.1', 3306)\n",
    ")\n",
    "server.start()\n",
    "\n",
    "db = pymysql.connect(\n",
    "    host='127.0.0.1',\n",
    "    port=server.local_bind_port,\n",
    "    user=login_dict['user'],\n",
    "    password=login_dict[\"db_pw\"],\n",
    "    db=database\n",
    ")\n",
    "\n",
    "cur = db.cursor()\n"
   ]
  },
  {
   "cell_type": "code",
   "execution_count": 32,
   "metadata": {
    "ExecuteTime": {
     "end_time": "2022-07-01T16:56:36.532696Z",
     "start_time": "2022-07-01T16:56:36.520671Z"
    }
   },
   "outputs": [
    {
     "data": {
      "text/plain": [
       "0"
      ]
     },
     "execution_count": 32,
     "metadata": {},
     "output_type": "execute_result"
    }
   ],
   "source": [
    "cur.execute( \"SET sql_mode=(SELECT REPLACE(@@sql_mode,'ONLY_FULL_GROUP_BY',''));\" )"
   ]
  },
  {
   "cell_type": "code",
   "execution_count": 33,
   "metadata": {
    "ExecuteTime": {
     "end_time": "2022-07-01T16:56:37.449432Z",
     "start_time": "2022-07-01T16:56:36.535865Z"
    }
   },
   "outputs": [],
   "source": [
    "#Read in family file \n",
    "file_name = finename_fam_input\n",
    "gfile = gzip.open(file_name)\n",
    "\n",
    "fam_df = pd.read_csv(gfile,sep='\\t')\n",
    "mrn2famid = dict(zip (fam_df[\"ptid\"],fam_df[\"famid\"]))"
   ]
  },
  {
   "cell_type": "code",
   "execution_count": 34,
   "metadata": {
    "ExecuteTime": {
     "end_time": "2022-07-01T16:56:38.478856Z",
     "start_time": "2022-07-01T16:56:37.451897Z"
    }
   },
   "outputs": [],
   "source": [
    "#Read in hhid file (apt level)\n",
    "file_name = filename_hhid\n",
    "gfile = gzip.open(file_name)\n",
    "hhid_df = pd.read_csv(gfile,sep='\\t')\n"
   ]
  },
  {
   "cell_type": "code",
   "execution_count": 35,
   "metadata": {
    "ExecuteTime": {
     "end_time": "2022-07-01T16:56:50.561034Z",
     "start_time": "2022-07-01T16:56:38.481694Z"
    }
   },
   "outputs": [],
   "source": [
    "#Read in buildingID file (apt level)\n",
    "file_name = filename_buildingid\n",
    "gfile = gzip.open(file_name)\n",
    "build_df = pd.read_csv(gfile,sep='\\t')\n"
   ]
  },
  {
   "cell_type": "code",
   "execution_count": 36,
   "metadata": {
    "ExecuteTime": {
     "end_time": "2022-07-01T16:56:50.609742Z",
     "start_time": "2022-07-01T16:56:50.564324Z"
    }
   },
   "outputs": [],
   "source": [
    "#Read in time to first pcr trait file \n",
    "file_name = covid_nopro_file\n",
    "gfile = gzip.open(file_name)\n",
    "covnopro_df = pd.read_csv(gfile,sep='\\t')\n"
   ]
  },
  {
   "cell_type": "code",
   "execution_count": 37,
   "metadata": {
    "ExecuteTime": {
     "end_time": "2022-07-01T16:56:58.679243Z",
     "start_time": "2022-07-01T16:56:50.612956Z"
    }
   },
   "outputs": [],
   "source": [
    "#Make relevant \n",
    "mrn2hhid = dict( zip( hhid_df[\"mrn\"], hhid_df[\"trimmed_hhid\"] ) )\n",
    "mrn2buildid = dict( zip( build_df[\"mrn\"], build_df[\"building_id\"] ) )"
   ]
  },
  {
   "cell_type": "code",
   "execution_count": 38,
   "metadata": {
    "ExecuteTime": {
     "end_time": "2022-07-01T16:56:59.794450Z",
     "start_time": "2022-07-01T16:56:58.683552Z"
    }
   },
   "outputs": [],
   "source": [
    "#Equivalent to first_pcr_nohospreq_df in pull pheno script\n",
    "\n",
    "#Get earliest PCR! Positive covid test for subsetting on patients that have\n",
    "#gotten infected within 30 days of relative's infection\n",
    "pull_data_query = \"\"\" SELECT DISTINCT pat_mrn_id, MIN(order_time) AS order_time, MAX(order_time)\n",
    "                      FROM user_kel2158.covid_lab_table\n",
    "                      WHERE test_result = \"pos\" \n",
    "                    GROUP BY pat_mrn_id;  \"\"\"\n",
    "\n",
    "cur.execute(pull_data_query)\n",
    "rawdata = cur.fetchall()\n",
    "\n",
    "db.close()\n",
    "server.stop()\n",
    "\n",
    "\n",
    "pheno_df = pd.DataFrame(list( rawdata ), columns=[\"mrn\",\n",
    "                           \"order_time\",\"latest_pcr_order_time\"\n",
    "                           ] )\n",
    "\n",
    "\n"
   ]
  },
  {
   "cell_type": "code",
   "execution_count": 39,
   "metadata": {
    "ExecuteTime": {
     "end_time": "2022-07-01T16:56:59.815885Z",
     "start_time": "2022-07-01T16:56:59.797558Z"
    }
   },
   "outputs": [],
   "source": [
    "def pull_fam_count( pheno, df, print_res = True, \\\n",
    "                   return_fams_df=False, type_pheno=\"binary_withproband\",\n",
    "                   return_patient_limited_df = False ):\n",
    "    \n",
    "    \"\"\"Returns the number of families in a phenotype for SOLAR based on pheno \n",
    "     Needs phenotype column, famid column and ptid column\"\"\"    \n",
    "    \n",
    "    #subset on phenotype of interest and those in our pedigree\n",
    "    df_phenosub = df[ (df[\"pheno\"] == pheno ) \n",
    "                       &  (~df[\"famid\"].isnull())] \n",
    "    \n",
    "    #Get the total number of  members in each fam and then number of cases\n",
    "    df_phenogrouped = df_phenosub.groupby( 'famid' )\\\n",
    "        .agg({ \"ptid\":\"count\",\"value\":sum })\\\n",
    "        .reset_index()\\\n",
    "        .rename(columns={ \"ptid\":\"num_fam_members\",\"value\":\"num_cases\" })\n",
    "    \n",
    "    #Subset to fams that will be included in SOLAR\n",
    "    #ie has more than one family member an at least one case in each family\n",
    "    if type_pheno == \"binary_withproband\":\n",
    "        solar_fams_df = df_phenogrouped[ (df_phenogrouped[\"num_fam_members\"] > 1) \\\n",
    "                                        & (df_phenogrouped[\"num_cases\"] > 0) ]\n",
    "    \n",
    "    else:\n",
    "         solar_fams_df = df_phenogrouped[ (df_phenogrouped[\"num_fam_members\"] > 1)]\n",
    "    \n",
    "    solar_limited_df = df_phenosub[ df_phenosub[\"famid\"].isin(solar_fams_df[\"famid\"].unique())]\n",
    "    solar_limited_df.drop_duplicates(inplace=True)\n",
    "    solar_patients = set( solar_limited_df[\"ptid\"] )\n",
    "    \n",
    "    \n",
    "    \n",
    "    if print_res:\n",
    "            print(f'There are {len(solar_fams_df)} SOLAR families')\n",
    "    \n",
    "    if return_fams_df:\n",
    "        return solar_fams_df, solar_patients\n",
    "    \n",
    "    elif return_patient_limited_df == True:\n",
    "        return solar_limited_df\n",
    "    \n",
    "    else:\n",
    "        return(len( solar_fams_df) )\n",
    "    "
   ]
  },
  {
   "cell_type": "code",
   "execution_count": 40,
   "metadata": {
    "ExecuteTime": {
     "end_time": "2022-07-01T16:56:59.959374Z",
     "start_time": "2022-07-01T16:56:59.819511Z"
    }
   },
   "outputs": [],
   "source": [
    "pheno_df.rename(columns={\"mrn\":\"ptid\"},inplace=True)"
   ]
  },
  {
   "cell_type": "code",
   "execution_count": 41,
   "metadata": {
    "ExecuteTime": {
     "end_time": "2022-07-01T16:57:00.048056Z",
     "start_time": "2022-07-01T16:56:59.962988Z"
    }
   },
   "outputs": [],
   "source": [
    "#Add in controls\n",
    "pheno_df = pd.concat([ pheno_df, covnopro_df[covnopro_df[\"value\"] == 0]])\n",
    "\n",
    "pheno_df[\"value\"].fillna(1,inplace=True)"
   ]
  },
  {
   "cell_type": "code",
   "execution_count": 42,
   "metadata": {
    "ExecuteTime": {
     "end_time": "2022-07-01T16:57:10.377629Z",
     "start_time": "2022-07-01T16:57:00.050960Z"
    }
   },
   "outputs": [],
   "source": [
    "pheno_df[\"pheno\"] = \"covid_noproband\"\n",
    "pheno_df[\"famid\"] = pheno_df[\"ptid\"].map(mrn2famid)\n",
    "pheno_df[\"hhid\"] = pheno_df[\"ptid\"].map(mrn2hhid)\n",
    "pheno_df[\"buildid\"] = pheno_df[\"ptid\"].map(mrn2buildid)"
   ]
  },
  {
   "cell_type": "code",
   "execution_count": 43,
   "metadata": {
    "ExecuteTime": {
     "end_time": "2022-07-01T16:57:10.492590Z",
     "start_time": "2022-07-01T16:57:10.380444Z"
    }
   },
   "outputs": [
    {
     "name": "stdout",
     "output_type": "stream",
     "text": [
      "There are 5676 SOLAR families\n"
     ]
    }
   ],
   "source": [
    "#Subset to families used by solar (ie at least 2 patients per family)\n",
    "\n",
    "solar_nopro_df = pull_fam_count(\"covid_noproband\", pheno_df,\\\n",
    "                                return_patient_limited_df=True,type_pheno=\"no_proband\")"
   ]
  },
  {
   "cell_type": "markdown",
   "metadata": {},
   "source": [
    "## Compare Shared Environment Groupings"
   ]
  },
  {
   "cell_type": "code",
   "execution_count": 44,
   "metadata": {
    "ExecuteTime": {
     "end_time": "2022-07-01T16:57:11.156458Z",
     "start_time": "2022-07-01T16:57:10.495218Z"
    }
   },
   "outputs": [],
   "source": [
    "#Limit to cases\n",
    "pheno_cases_df = solar_nopro_df[ solar_nopro_df[\"value\"] == 1 ]\n",
    "\n",
    "group_dict = defaultdict(list)\n",
    "\n",
    "for bubble in [\"famid\",\"buildid\",\"hhid\"]:\n",
    "    \n",
    "    time_from_last_pos = list()\n",
    "    groups = pheno_cases_df.groupby(bubble)\n",
    "    \n",
    "    for num,group in enumerate(groups):\n",
    "        \n",
    "        df = group[1]\n",
    "        #If there is more than one individual in the group\n",
    "        if len(df) > 1:\n",
    "            \n",
    "            df.sort_values(by=\"order_time\",inplace=True)\n",
    "            counter = 0\n",
    "\n",
    "            #For each first positive pcr test for a patient\n",
    "            for subsequent_pcr_time in df[\"order_time\"]:\n",
    "\n",
    "                #If first in group continue\n",
    "                if counter == 0:\n",
    "                    counter += 1\n",
    "                    last_pcr_time = subsequent_pcr_time\n",
    "                    continue\n",
    "                \n",
    "                #If not first pos test get time from last group member's test\n",
    "                else:\n",
    "                    time_diff = subsequent_pcr_time - last_pcr_time\n",
    "                    time_from_last_pos.append(time_diff.days)\n",
    "                    counter += 1\n",
    "\n",
    "                    last_pcr_time = subsequent_pcr_time\n",
    "    \n",
    "    group_dict[bubble] = time_from_last_pos"
   ]
  },
  {
   "cell_type": "code",
   "execution_count": 45,
   "metadata": {
    "ExecuteTime": {
     "end_time": "2022-07-01T16:57:11.166401Z",
     "start_time": "2022-07-01T16:57:11.158547Z"
    }
   },
   "outputs": [
    {
     "data": {
      "text/plain": [
       "62.1796875"
      ]
     },
     "execution_count": 45,
     "metadata": {},
     "output_type": "execute_result"
    }
   ],
   "source": [
    "np.mean( group_dict[\"famid\"] )"
   ]
  },
  {
   "cell_type": "code",
   "execution_count": 59,
   "metadata": {
    "ExecuteTime": {
     "end_time": "2022-07-22T20:54:50.081325Z",
     "start_time": "2022-07-22T20:54:50.071146Z"
    }
   },
   "outputs": [
    {
     "data": {
      "text/plain": [
       "121.15188901706132"
      ]
     },
     "execution_count": 59,
     "metadata": {},
     "output_type": "execute_result"
    }
   ],
   "source": [
    "np.std( group_dict[\"famid\"] )"
   ]
  },
  {
   "cell_type": "code",
   "execution_count": 46,
   "metadata": {
    "ExecuteTime": {
     "end_time": "2022-07-01T16:57:11.251710Z",
     "start_time": "2022-07-01T16:57:11.169298Z"
    }
   },
   "outputs": [
    {
     "data": {
      "text/plain": [
       "33.44285714285714"
      ]
     },
     "execution_count": 46,
     "metadata": {},
     "output_type": "execute_result"
    }
   ],
   "source": [
    "np.mean( group_dict[\"hhid\"] )"
   ]
  },
  {
   "cell_type": "code",
   "execution_count": 60,
   "metadata": {
    "ExecuteTime": {
     "end_time": "2022-07-22T20:54:56.777972Z",
     "start_time": "2022-07-22T20:54:56.767459Z"
    }
   },
   "outputs": [
    {
     "data": {
      "text/plain": [
       "97.59678503403477"
      ]
     },
     "execution_count": 60,
     "metadata": {},
     "output_type": "execute_result"
    }
   ],
   "source": [
    "np.std( group_dict[\"hhid\"] )"
   ]
  },
  {
   "cell_type": "code",
   "execution_count": 47,
   "metadata": {
    "ExecuteTime": {
     "end_time": "2022-07-01T16:57:11.329880Z",
     "start_time": "2022-07-01T16:57:11.254775Z"
    }
   },
   "outputs": [
    {
     "data": {
      "text/plain": [
       "93.45578231292517"
      ]
     },
     "execution_count": 47,
     "metadata": {},
     "output_type": "execute_result"
    }
   ],
   "source": [
    "np.mean( group_dict[\"buildid\"] )"
   ]
  },
  {
   "cell_type": "code",
   "execution_count": 61,
   "metadata": {
    "ExecuteTime": {
     "end_time": "2022-07-22T20:55:04.549643Z",
     "start_time": "2022-07-22T20:55:04.539304Z"
    }
   },
   "outputs": [
    {
     "data": {
      "text/plain": [
       "137.32905174419363"
      ]
     },
     "execution_count": 61,
     "metadata": {},
     "output_type": "execute_result"
    }
   ],
   "source": [
    "np.std( group_dict[\"buildid\"] )"
   ]
  },
  {
   "cell_type": "code",
   "execution_count": 48,
   "metadata": {
    "ExecuteTime": {
     "end_time": "2022-07-01T16:57:11.413881Z",
     "start_time": "2022-07-01T16:57:11.332982Z"
    }
   },
   "outputs": [],
   "source": [
    "#See if there is a difference\n",
    "f_val, p_val = stats.f_oneway( group_dict[\"hhid\"],\n",
    "                              group_dict[\"famid\"],\n",
    "                              group_dict[\"buildid\"])"
   ]
  },
  {
   "cell_type": "code",
   "execution_count": 49,
   "metadata": {
    "ExecuteTime": {
     "end_time": "2022-07-01T16:57:11.519927Z",
     "start_time": "2022-07-01T16:57:11.417837Z"
    }
   },
   "outputs": [
    {
     "name": "stdout",
     "output_type": "stream",
     "text": [
      "f value:  11.770135799891959\n",
      "p value:  9.417194371448607e-06\n"
     ]
    }
   ],
   "source": [
    "print( \"f value: \",f_val)\n",
    "print( \"p value: \",p_val)"
   ]
  },
  {
   "cell_type": "code",
   "execution_count": 110,
   "metadata": {
    "ExecuteTime": {
     "end_time": "2022-07-22T21:59:08.232784Z",
     "start_time": "2022-07-22T21:59:08.220552Z"
    }
   },
   "outputs": [],
   "source": [
    "def get_95_ci(data1,data2):\n",
    "    #n greater than 30 so use z score for 95% ci (1.96())\n",
    "    #ci for difference of the means\n",
    "    mean1 = np.mean(data1)\n",
    "    mean2 = np.mean(data2)\n",
    "    \n",
    "    n1 = len(data1)\n",
    "    n2 = len(data2)\n",
    "    \n",
    "    sd1 = np.std(data1)\n",
    "    sd2 = np.std(data2)\n",
    "    \n",
    "    pooled_sd = ( (n1-1)*sd1 + (n2-1)*sd2 )/ (n1+n2-2)\n",
    "\n",
    "    \n",
    "    high_ci = (mean1-mean2) + 1.96*pooled_sd*(1/n1 + 1/n2)**.5\n",
    "    low_ci = (mean1-mean2) - 1.96*pooled_sd*(1/n1 + 1/n2)**.5\n",
    "    \n",
    "    degrees_freedom = n1+n2-2\n",
    "    \n",
    "    return(high_ci,low_ci,degrees_freedom)"
   ]
  },
  {
   "cell_type": "code",
   "execution_count": 111,
   "metadata": {
    "ExecuteTime": {
     "end_time": "2022-07-22T21:59:10.171815Z",
     "start_time": "2022-07-22T21:59:10.160527Z"
    },
    "code_folding": []
   },
   "outputs": [
    {
     "data": {
      "text/plain": [
       "Ttest_indResult(statistic=-2.559206532596979, pvalue=0.01092357015218149)"
      ]
     },
     "execution_count": 111,
     "metadata": {},
     "output_type": "execute_result"
    }
   ],
   "source": [
    "#perform two sample t-test hhid vs famid\n",
    "stats.ttest_ind(a=group_dict[\"hhid\"], b=group_dict[\"famid\"], equal_var=False)"
   ]
  },
  {
   "cell_type": "code",
   "execution_count": 112,
   "metadata": {
    "ExecuteTime": {
     "end_time": "2022-07-22T21:59:10.711098Z",
     "start_time": "2022-07-22T21:59:10.700585Z"
    }
   },
   "outputs": [
    {
     "data": {
      "text/plain": [
       "(51.98505650555608, 5.488604208729633, 394)"
      ]
     },
     "execution_count": 112,
     "metadata": {},
     "output_type": "execute_result"
    }
   ],
   "source": [
    "get_95_ci(group_dict[\"famid\"],group_dict[\"hhid\"])"
   ]
  },
  {
   "cell_type": "code",
   "execution_count": 113,
   "metadata": {
    "ExecuteTime": {
     "end_time": "2022-07-22T21:59:12.888710Z",
     "start_time": "2022-07-22T21:59:12.877746Z"
    }
   },
   "outputs": [
    {
     "data": {
      "text/plain": [
       "Ttest_indResult(statistic=5.205890036846074, pvalue=3.215389623116209e-07)"
      ]
     },
     "execution_count": 113,
     "metadata": {},
     "output_type": "execute_result"
    }
   ],
   "source": [
    "#perform two sample t-test hhid vs buildID\n",
    "stats.ttest_ind(a=group_dict[\"buildid\"], b=group_dict[\"hhid\"], equal_var=False)"
   ]
  },
  {
   "cell_type": "code",
   "execution_count": 114,
   "metadata": {
    "ExecuteTime": {
     "end_time": "2022-07-22T21:59:13.434703Z",
     "start_time": "2022-07-22T21:59:13.424509Z"
    }
   },
   "outputs": [
    {
     "data": {
      "text/plain": [
       "(85.07915093468498, 34.94669940545107, 432)"
      ]
     },
     "execution_count": 114,
     "metadata": {},
     "output_type": "execute_result"
    }
   ],
   "source": [
    "get_95_ci(group_dict[\"buildid\"],group_dict[\"hhid\"])"
   ]
  },
  {
   "cell_type": "code",
   "execution_count": 115,
   "metadata": {
    "ExecuteTime": {
     "end_time": "2022-07-22T21:59:15.029766Z",
     "start_time": "2022-07-22T21:59:15.019169Z"
    }
   },
   "outputs": [
    {
     "data": {
      "text/plain": [
       "Ttest_indResult(statistic=-2.8324634274599827, pvalue=0.004789060501311233)"
      ]
     },
     "execution_count": 115,
     "metadata": {},
     "output_type": "execute_result"
    }
   ],
   "source": [
    "#perform two sample t-test famid vs buildID\n",
    "stats.ttest_ind(a=group_dict[\"famid\"], b=group_dict[\"buildid\"], equal_var=False)"
   ]
  },
  {
   "cell_type": "code",
   "execution_count": 116,
   "metadata": {
    "ExecuteTime": {
     "end_time": "2022-07-22T21:59:15.641692Z",
     "start_time": "2022-07-22T21:59:15.631880Z"
    }
   },
   "outputs": [
    {
     "data": {
      "text/plain": [
       "(53.02427899922239, 9.52791062662794, 548)"
      ]
     },
     "execution_count": 116,
     "metadata": {},
     "output_type": "execute_result"
    }
   ],
   "source": [
    "get_95_ci(group_dict[\"buildid\"],group_dict[\"famid\"])"
   ]
  },
  {
   "cell_type": "code",
   "execution_count": 53,
   "metadata": {
    "ExecuteTime": {
     "end_time": "2022-07-01T16:57:11.976936Z",
     "start_time": "2022-07-01T16:57:11.854659Z"
    }
   },
   "outputs": [],
   "source": [
    "#Create dataframe for graphing\n",
    "shared_env_df = pd.DataFrame( list( zip( group_dict[\"hhid\"], len(group_dict[\"hhid\"]) * [\"hhid\"]) ) +\\\n",
    "list( zip( group_dict[\"famid\"], len(group_dict[\"famid\"]) * [\"famid\"]) ) +\\\n",
    "list( zip( group_dict[\"buildid\"], len(group_dict[\"buildid\"]) * [\"buildid\"]) ),\\\n",
    "                               columns=[\"Time to Last Pos PCR\",\"Shared Environment Grouping\"] )\n",
    "\n",
    "\n",
    "shared_env_df[\"Shared Environment Grouping\"].replace( {\"hhid\":\"Household\",\n",
    "                                                      \"famid\":\"Family\",\n",
    "                                                      \"buildid\":\"Building\"},inplace=True)"
   ]
  },
  {
   "cell_type": "code",
   "execution_count": 54,
   "metadata": {
    "ExecuteTime": {
     "end_time": "2022-07-01T16:57:12.505219Z",
     "start_time": "2022-07-01T16:57:11.978965Z"
    }
   },
   "outputs": [
    {
     "data": {
      "image/png": "[encoded data removed]",
      "text/plain": [
       "<Figure size 432x288 with 1 Axes>"
      ]
     },
     "metadata": {
      "needs_background": "light"
     },
     "output_type": "display_data"
    }
   ],
   "source": [
    "ax = sns.boxplot(data=shared_env_df, x=\"Shared Environment Grouping\", y=\"Time to Last Pos PCR\",palette=\"Set2\",\\\n",
    "                 order=[ \"Household\",\"Family\",\"Building\"])\\\n",
    ".set( \n",
    "    ylabel='Days Since Last Infection',\n",
    "    xlabel=None\n",
    ")\n",
    "sns.despine()"
   ]
  },
  {
   "cell_type": "code",
   "execution_count": 55,
   "metadata": {
    "ExecuteTime": {
     "end_time": "2022-07-01T16:57:12.794636Z",
     "start_time": "2022-07-01T16:57:12.507663Z"
    }
   },
   "outputs": [
    {
     "data": {
      "image/png": "[encoded data removed]",
      "text/plain": [
       "<Figure size 432x288 with 1 Axes>"
      ]
     },
     "metadata": {
      "needs_background": "light"
     },
     "output_type": "display_data"
    }
   ],
   "source": [
    "ax = sns.violinplot( data=shared_env_df, x=\"Shared Environment Grouping\", y=\"Time to Last Pos PCR\",palette=\"Set2\",\\\n",
    "                 cut=0, order=[\"Household\",\"Family\",\"Building\"])\\\n",
    "        .set( ylabel='Days Since Last Positive Infection Within Group' )\n",
    "\n",
    "\n",
    "sns.despine()"
   ]
  },
  {
   "cell_type": "code",
   "execution_count": null,
   "metadata": {},
   "outputs": [],
   "source": []
  }
 ],
 "metadata": {
  "kernelspec": {
   "display_name": "covid_herit",
   "language": "python",
   "name": "covid_herit"
  },
  "language_info": {
   "codemirror_mode": {
    "name": "ipython",
    "version": 3
   },
   "file_extension": ".py",
   "mimetype": "text/x-python",
   "name": "python",
   "nbconvert_exporter": "python",
   "pygments_lexer": "ipython3",
   "version": "3.8.10"
  },
  "toc": {
   "base_numbering": 1,
   "nav_menu": {},
   "number_sections": true,
   "sideBar": true,
   "skip_h1_title": false,
   "title_cell": "Table of Contents",
   "title_sidebar": "Contents",
   "toc_cell": false,
   "toc_position": {},
   "toc_section_display": true,
   "toc_window_display": false
  },
  "varInspector": {
   "cols": {
    "lenName": 16,
    "lenType": 16,
    "lenVar": 40
   },
   "kernels_config": {
    "python": {
     "delete_cmd_postfix": "",
     "delete_cmd_prefix": "del ",
     "library": "var_list.py",
     "varRefreshCmd": "print(var_dic_list())"
    },
    "r": {
     "delete_cmd_postfix": ") ",
     "delete_cmd_prefix": "rm(",
     "library": "var_list.r",
     "varRefreshCmd": "cat(var_dic_list()) "
    }
   },
   "types_to_exclude": [
    "module",
    "function",
    "builtin_function_or_method",
    "instance",
    "_Feature"
   ],
   "window_display": false
  }
 },
 "nbformat": 4,
 "nbformat_minor": 4
}
