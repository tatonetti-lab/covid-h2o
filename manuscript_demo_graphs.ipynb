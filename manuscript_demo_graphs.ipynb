{
 "cells": [
  {
   "cell_type": "code",
   "execution_count": 1,
   "id": "62fe277d",
   "metadata": {
    "ExecuteTime": {
     "end_time": "2023-08-21T19:50:50.514334Z",
     "start_time": "2023-08-21T19:50:48.972980Z"
    }
   },
   "outputs": [],
   "source": [
    "import os\n",
    "import csv\n",
    "import paramiko\n",
    "import gzip\n",
    "\n",
    "import pymysql\n",
    "from sshtunnel import SSHTunnelForwarder\n",
    "\n",
    "from tqdm import tqdm\n",
    "\n",
    "from datetime import timedelta\n",
    "from datetime import date\n",
    "from datetime import datetime\n",
    "\n",
    "import pandas as pd\n",
    "from collections import defaultdict\n",
    "\n",
    "import numpy as np\n",
    "\n",
    "\n",
    "import re"
   ]
  },
  {
   "cell_type": "code",
   "execution_count": 2,
   "id": "cf5555f6",
   "metadata": {
    "ExecuteTime": {
     "end_time": "2023-08-21T19:50:50.536831Z",
     "start_time": "2023-08-21T19:50:50.519454Z"
    }
   },
   "outputs": [
    {
     "data": {
      "text/plain": [
       "'3.8.10'"
      ]
     },
     "execution_count": 2,
     "metadata": {},
     "output_type": "execute_result"
    }
   ],
   "source": [
    "from platform import python_version \n",
    "python_version() "
   ]
  },
  {
   "cell_type": "code",
   "execution_count": 3,
   "id": "65168265",
   "metadata": {
    "ExecuteTime": {
     "end_time": "2023-08-21T19:50:50.646068Z",
     "start_time": "2023-08-21T19:50:50.539331Z"
    }
   },
   "outputs": [],
   "source": [
    "database = \"clinical_merge_v5_2020q4\"\n",
    "ped_data = \"/home/kel2158/Projects/Heritability_Base_Data/pedigree_v3_updated_results/\"\n",
    "output_folder = \"/home/kel2158/Projects/COVIDHerit/data/12_29_21/\"\n",
    "hhid_folder = \"/home/kel2158/Projects/hhid_update/data/\"\n",
    "\n",
    "demo_file = os.path.join(output_folder, \"demo.txt.gz\")\n",
    "hosp_days_file = os.path.join(output_folder, \"days_hosp.txt.gz\")\n",
    "covid_nopro_file = os.path.join(output_folder, \"covid_noproband.txt.gz\")\n",
    "covid_file = os.path.join(output_folder, \"covid.txt.gz\")\n",
    "\n",
    "hosp_stat_file = os.path.join(output_folder, \"hosp_stat.txt.gz\")\n",
    "hosp_stat_nopro_file = os.path.join(output_folder, \"hosp_stat_noproband.txt.gz\")\n",
    "high_deg_file = os.path.join(output_folder, \"covid_high_degfam.txt.gz\")\n",
    "high_deg_nopro_file = os.path.join(output_folder, \"covid_high_degfam_noproband.txt.gz\")\n",
    "\n",
    "time2pcr_file = os.path.join(output_folder, \"time2firstpcr.txt.gz\")\n",
    "\n",
    "cummulative_directory = os.path.join(output_folder, \"cummulative_classswitch\")\n",
    "\n",
    "# Input files\n",
    "finename_fam_input = os.path.join(ped_data, \"family_v3.txt.gz\")\n",
    "filename_hhid = os.path.join(hhid_folder, \"hhid_trimmed_notcln.txt.gz\")\n",
    "buildid_file = os.path.join(hhid_folder, \"buildid_notcln.txt.gz\")\n",
    "filename_ped_input = os.path.join(ped_data, \"pedigree_v3.txt.gz\")"
   ]
  },
  {
   "cell_type": "code",
   "execution_count": 4,
   "id": "9f1b5217",
   "metadata": {
    "ExecuteTime": {
     "end_time": "2023-08-21T19:50:50.804966Z",
     "start_time": "2023-08-21T19:50:50.649795Z"
    }
   },
   "outputs": [],
   "source": [
    "def return_sign_in(login_loc = '/home/kel2158/login.txt'):\n",
    "    login_dict = dict()\n",
    "    with open(login_loc, \"r\") as file:\n",
    "        for line in file.readlines():\n",
    "            login_dict[ line.split(\",\")[0]] = line.split(\",\")[1].strip()\n",
    "    return(login_dict)"
   ]
  },
  {
   "cell_type": "code",
   "execution_count": 5,
   "id": "55a2f3a1",
   "metadata": {
    "ExecuteTime": {
     "end_time": "2023-08-21T19:50:51.070016Z",
     "start_time": "2023-08-21T19:50:50.811525Z"
    }
   },
   "outputs": [],
   "source": [
    "login_dict = return_sign_in()\n",
    "\n",
    "ssh = paramiko.SSHClient()\n",
    "ssh.set_missing_host_key_policy(paramiko.AutoAddPolicy())\n",
    "ssh.connect('10.144.220.21', username=login_dict['user'], password=login_dict['mimir_pw'])\n"
   ]
  },
  {
   "cell_type": "code",
   "execution_count": 6,
   "id": "290e652b",
   "metadata": {
    "ExecuteTime": {
     "end_time": "2023-08-21T19:50:51.539427Z",
     "start_time": "2023-08-21T19:50:51.074340Z"
    }
   },
   "outputs": [],
   "source": [
    "server = SSHTunnelForwarder(\n",
    "    '10.144.220.21',\n",
    "    ssh_username='kel2158',\n",
    "    ssh_password=login_dict['mimir_pw'],\n",
    "    remote_bind_address=('127.0.0.1', 3306)\n",
    ")\n",
    "server.start()\n",
    "\n",
    "db = pymysql.connect(\n",
    "    host='127.0.0.1',\n",
    "    port=server.local_bind_port,\n",
    "    user=login_dict['user'],\n",
    "    password=login_dict[\"db_pw\"],\n",
    "    db=database\n",
    ")\n",
    "\n",
    "cur = db.cursor()\n",
    "\n"
   ]
  },
  {
   "cell_type": "code",
   "execution_count": null,
   "id": "d7dacc67",
   "metadata": {},
   "outputs": [],
   "source": []
  },
  {
   "cell_type": "markdown",
   "id": "446c04f8",
   "metadata": {},
   "source": [
    "## Pull Data"
   ]
  },
  {
   "cell_type": "code",
   "execution_count": 7,
   "id": "424eabcd",
   "metadata": {
    "ExecuteTime": {
     "end_time": "2023-08-21T19:50:54.308994Z",
     "start_time": "2023-08-21T19:50:51.543410Z"
    }
   },
   "outputs": [],
   "source": [
    "#Read in time to first pcr trait file \n",
    "file_name = filename_ped_input\n",
    "gfile = gzip.open(file_name)\n",
    "ped_df = pd.read_csv(gfile,sep='\\t')\n",
    "gfile.close()\n",
    "\n"
   ]
  },
  {
   "cell_type": "code",
   "execution_count": 8,
   "id": "05a9a457",
   "metadata": {
    "ExecuteTime": {
     "end_time": "2023-08-21T19:50:54.566501Z",
     "start_time": "2023-08-21T19:50:54.312794Z"
    }
   },
   "outputs": [],
   "source": [
    "#Read in demo df\n",
    "file_name = demo_file\n",
    "gfile = gzip.open(file_name)\n",
    "demo_df = pd.read_csv(gfile,sep='\\t')\n",
    "gfile.close()\n",
    "\n"
   ]
  },
  {
   "cell_type": "code",
   "execution_count": 9,
   "id": "f13cf9b8",
   "metadata": {
    "ExecuteTime": {
     "end_time": "2023-08-21T19:50:54.930618Z",
     "start_time": "2023-08-21T19:50:54.569418Z"
    }
   },
   "outputs": [],
   "source": [
    "#Read in family and id dataframe\n",
    "file_name = finename_fam_input\n",
    "gfile = gzip.open(file_name)\n",
    "fam_df = pd.read_csv(gfile,sep='\\t')\n",
    "gfile.close()\n"
   ]
  },
  {
   "cell_type": "code",
   "execution_count": 10,
   "id": "020de5ca",
   "metadata": {
    "ExecuteTime": {
     "end_time": "2023-08-21T19:50:56.374017Z",
     "start_time": "2023-08-21T19:50:54.934400Z"
    }
   },
   "outputs": [],
   "source": [
    "#Read in HHID file \n",
    "file_name = filename_hhid\n",
    "gfile = gzip.open(file_name)\n",
    "hhid_df = pd.read_csv(gfile,sep='\\t')\n",
    "gfile.close()\n",
    "\n",
    "\n",
    "mrn2hhid = dict(zip( hhid_df[\"mrn\"], hhid_df[\"trimmed_hhid\"] ))"
   ]
  },
  {
   "cell_type": "code",
   "execution_count": 11,
   "id": "77b4b888",
   "metadata": {
    "ExecuteTime": {
     "end_time": "2023-08-21T19:51:16.536196Z",
     "start_time": "2023-08-21T19:50:56.379506Z"
    }
   },
   "outputs": [],
   "source": [
    "#Read in BuildingID file \n",
    "file_name = buildid_file\n",
    "gfile = gzip.open(file_name)\n",
    "bid_df = pd.read_csv(gfile,sep='\\t')\n",
    "gfile.close()\n",
    "\n",
    "\n",
    "mrn2bid = dict(zip( bid_df[\"mrn\"], bid_df[\"building_id\"] ))"
   ]
  },
  {
   "cell_type": "code",
   "execution_count": 12,
   "id": "b421f195",
   "metadata": {
    "ExecuteTime": {
     "end_time": "2023-08-21T19:51:16.586833Z",
     "start_time": "2023-08-21T19:51:16.548830Z"
    }
   },
   "outputs": [],
   "source": [
    "#Read in time to first pcr trait file \n",
    "file_name = time2pcr_file\n",
    "gfile = gzip.open(file_name)\n",
    "time2pcr_df = pd.read_csv(gfile,sep='\\t')\n",
    "gfile.close()\n"
   ]
  },
  {
   "cell_type": "code",
   "execution_count": 13,
   "id": "ef8b1e4a",
   "metadata": {
    "ExecuteTime": {
     "end_time": "2023-08-21T19:51:16.725649Z",
     "start_time": "2023-08-21T19:51:16.590858Z"
    }
   },
   "outputs": [],
   "source": [
    "#Read in covid susceptibility file\n",
    "file_name = covid_file\n",
    "gfile = gzip.open(file_name)\n",
    "cov_df = pd.read_csv(gfile,sep='\\t')\n",
    "gfile.close()"
   ]
  },
  {
   "cell_type": "code",
   "execution_count": 14,
   "id": "a82a84db",
   "metadata": {
    "ExecuteTime": {
     "end_time": "2023-08-21T19:51:16.797605Z",
     "start_time": "2023-08-21T19:51:16.739514Z"
    }
   },
   "outputs": [],
   "source": [
    "#Read in cov noproband\n",
    "file_name = covid_nopro_file\n",
    "gfile = gzip.open(file_name)\n",
    "covnopro_df = pd.read_csv(gfile,sep='\\t')\n",
    "gfile.close()\n"
   ]
  },
  {
   "cell_type": "code",
   "execution_count": 15,
   "id": "f54dcbce",
   "metadata": {
    "ExecuteTime": {
     "end_time": "2023-08-21T19:51:16.862617Z",
     "start_time": "2023-08-21T19:51:16.801233Z"
    }
   },
   "outputs": [],
   "source": [
    "#Read in days_hosp\n",
    "file_name = hosp_days_file\n",
    "gfile = gzip.open(file_name)\n",
    "hospday_df = pd.read_csv(gfile,sep='\\t')\n",
    "\n",
    "gfile.close()\n"
   ]
  },
  {
   "cell_type": "code",
   "execution_count": 16,
   "id": "4f1208fa",
   "metadata": {
    "ExecuteTime": {
     "end_time": "2023-08-21T19:51:16.968088Z",
     "start_time": "2023-08-21T19:51:16.866385Z"
    }
   },
   "outputs": [],
   "source": [
    "#Read in hospitalization_stat\n",
    "file_name = hosp_stat_file\n",
    "gfile = gzip.open(file_name)\n",
    "hosp_df = pd.read_csv(gfile,sep='\\t')\n",
    "\n",
    "gfile.close()\n"
   ]
  },
  {
   "cell_type": "code",
   "execution_count": 17,
   "id": "9764af51",
   "metadata": {
    "ExecuteTime": {
     "end_time": "2023-08-21T19:51:17.075884Z",
     "start_time": "2023-08-21T19:51:16.970875Z"
    }
   },
   "outputs": [],
   "source": [
    "#Read in hospitalization_stat_noproband\n",
    "file_name = hosp_stat_nopro_file\n",
    "gfile = gzip.open(file_name)\n",
    "hosp_nopro_df = pd.read_csv(gfile,sep='\\t')\n",
    "\n",
    "gfile.close()\n"
   ]
  },
  {
   "cell_type": "code",
   "execution_count": 18,
   "id": "14b83792",
   "metadata": {
    "ExecuteTime": {
     "end_time": "2023-08-21T19:51:17.180130Z",
     "start_time": "2023-08-21T19:51:17.078891Z"
    }
   },
   "outputs": [],
   "source": [
    "#Read in high_deg\n",
    "file_name = high_deg_file\n",
    "gfile = gzip.open(file_name)\n",
    "high_deg_df = pd.read_csv(gfile,sep='\\t')\n",
    "\n",
    "gfile.close()\n"
   ]
  },
  {
   "cell_type": "code",
   "execution_count": 19,
   "id": "593143de",
   "metadata": {
    "ExecuteTime": {
     "end_time": "2023-08-21T19:51:17.297627Z",
     "start_time": "2023-08-21T19:51:17.182976Z"
    }
   },
   "outputs": [],
   "source": [
    "#Read in high_deg_noproband\n",
    "file_name = high_deg_nopro_file\n",
    "gfile = gzip.open(file_name)\n",
    "high_deg_nopro_df = pd.read_csv(gfile,sep='\\t')\n",
    "\n",
    "gfile.close()\n"
   ]
  },
  {
   "cell_type": "code",
   "execution_count": 20,
   "id": "01d843e2",
   "metadata": {
    "ExecuteTime": {
     "end_time": "2023-08-21T19:52:29.655055Z",
     "start_time": "2023-08-21T19:51:17.300482Z"
    }
   },
   "outputs": [],
   "source": [
    "pull_data_query = \"\"\"SELECT *\n",
    "FROM clinical_relationships_v3.all_relationships_to_generate_pedigree_file\"\"\"\n",
    "\n",
    "\n",
    "cur.execute(pull_data_query)\n",
    "rawdata = cur.fetchall()\n",
    "\n",
    "rel_df = pd.DataFrame(list(rawdata),\n",
    "                    columns=[\"mrn\",\"relationship\",\"relation_mrn\",\"provided_relationship\",\n",
    "                             ])"
   ]
  },
  {
   "cell_type": "code",
   "execution_count": 21,
   "id": "5a9c38fd",
   "metadata": {
    "ExecuteTime": {
     "end_time": "2023-08-21T19:52:29.874105Z",
     "start_time": "2023-08-21T19:52:29.659442Z"
    }
   },
   "outputs": [],
   "source": [
    "pull_data_query = \"\"\"SELECT *\n",
    "FROM clinical_relationships.relationships_degree\"\"\"\n",
    "\n",
    "\n",
    "cur.execute(pull_data_query)\n",
    "rawdata = cur.fetchall()\n",
    "\n",
    "reldegree_df = pd.DataFrame(list(rawdata),\n",
    "                    columns=[\"relationship\",\"degree\"\n",
    "                             ])\n",
    "\n",
    "rel2degree = dict( zip( reldegree_df[\"relationship\"],reldegree_df[\"degree\"] ) ) "
   ]
  },
  {
   "cell_type": "code",
   "execution_count": 22,
   "id": "b73d69f3",
   "metadata": {
    "ExecuteTime": {
     "end_time": "2023-08-21T19:52:29.971887Z",
     "start_time": "2023-08-21T19:52:29.877421Z"
    }
   },
   "outputs": [],
   "source": [
    "db.close()\n",
    "server.stop() "
   ]
  },
  {
   "cell_type": "markdown",
   "id": "7c191475",
   "metadata": {},
   "source": [
    "## Functions"
   ]
  },
  {
   "cell_type": "code",
   "execution_count": 23,
   "id": "e5d936ad",
   "metadata": {
    "ExecuteTime": {
     "end_time": "2023-08-21T19:52:30.006396Z",
     "start_time": "2023-08-21T19:52:29.976308Z"
    }
   },
   "outputs": [],
   "source": [
    "def pull_fam_count( pheno, df, print_res = True, \\\n",
    "                   return_fams_df=False, type_pheno=\"binary_withproband\",\n",
    "                   return_patient_limited_df = False ):\n",
    "    \n",
    "    \"\"\"Returns the number of families in a phenotype for SOLAR based on pheno \n",
    "     Needs phenotype column, famid column and ptid column\"\"\"    \n",
    "    \n",
    "    #subset on phenotype of interest and those in our pedigree\n",
    "    df_phenosub = df[ (df[\"pheno\"] == pheno ) \n",
    "                       &  (~df[\"famid\"].isnull())] \n",
    "    \n",
    "    #Get the total number of  members in each fam and then number of cases\n",
    "    df_phenogrouped = df_phenosub.groupby( 'famid' )\\\n",
    "        .agg({ \"ptid\":\"count\",\"value\":sum })\\\n",
    "        .reset_index()\\\n",
    "        .rename(columns={ \"ptid\":\"num_fam_members\",\"value\":\"num_cases\" })\n",
    "    \n",
    "    #Subset to fams that will be included in SOLAR\n",
    "    #ie has more than one family member an at least one case in each family\n",
    "    if type_pheno == \"binary_withproband\":\n",
    "        solar_fams_df = df_phenogrouped[ (df_phenogrouped[\"num_fam_members\"] > 1) \\\n",
    "                                        & (df_phenogrouped[\"num_cases\"] > 0) ]\n",
    "    \n",
    "    else:\n",
    "         solar_fams_df = df_phenogrouped[ (df_phenogrouped[\"num_fam_members\"] > 1)]\n",
    "    \n",
    "    solar_limited_df = df_phenosub[ df_phenosub[\"famid\"].isin(solar_fams_df[\"famid\"].unique())]\n",
    "    solar_limited_df.drop_duplicates(inplace=True)\n",
    "    solar_patients = set( solar_limited_df[\"ptid\"] )\n",
    "    \n",
    "    \n",
    "    \n",
    "    if print_res:\n",
    "            print(f'There are {len(solar_fams_df)} SOLAR families')\n",
    "    \n",
    "    if return_fams_df:\n",
    "        return solar_fams_df, solar_patients\n",
    "    \n",
    "    elif return_patient_limited_df:\n",
    "        return solar_limited_df\n",
    "    \n",
    "    else:\n",
    "        return(len( solar_fams_df) )\n",
    "    "
   ]
  },
  {
   "cell_type": "markdown",
   "id": "d07dc8cc",
   "metadata": {},
   "source": [
    "## Process Data"
   ]
  },
  {
   "cell_type": "code",
   "execution_count": 24,
   "id": "4f178eee",
   "metadata": {
    "ExecuteTime": {
     "end_time": "2023-08-21T19:52:30.166281Z",
     "start_time": "2023-08-21T19:52:30.009928Z"
    }
   },
   "outputs": [],
   "source": [
    "#Map for differences in how SOLAR includes people\n",
    "#Options: binary_withproband OR quant_or_binary_noproband\n",
    "pheno2type = {   \n",
    "\"covid\":\"binary_withproband\",\n",
    "\"covid_noproband\":\"binary_noproband\",\n",
    "\"days_hosp\":\"quant\",\n",
    "    \"hosp_stat\":\"binary_withproband\",\n",
    "    \"hosp_stat_nopro\":\"binary_noproband\",\n",
    "    \"covid_highdeg_fam\":\"binary_withproband\",\n",
    "    \"covid_highdeg_nopro\":\"binary_noproband\",\n",
    "}\n",
    "\n"
   ]
  },
  {
   "cell_type": "code",
   "execution_count": 25,
   "id": "c0f2b694",
   "metadata": {
    "ExecuteTime": {
     "end_time": "2023-08-21T19:52:31.602013Z",
     "start_time": "2023-08-21T19:52:30.170534Z"
    }
   },
   "outputs": [],
   "source": [
    "#Info for mapping\n",
    "mrn2sex = dict(zip( demo_df[\"ptid\"],demo_df[\"sex\"] ))\n",
    "mrn2famid = dict(zip( fam_df[\"ptid\"],fam_df[\"famid\"] ))\n",
    "\n",
    "#Map famid to demo df\n",
    "demo_df[\"famid\"]  = demo_df[\"ptid\"].map(mrn2famid)\n",
    "\n",
    "pheno_dfs = [cov_df, covnopro_df, \n",
    "             hospday_df,hosp_df,hosp_nopro_df,\n",
    "             high_deg_df,high_deg_nopro_df]\n"
   ]
  },
  {
   "cell_type": "code",
   "execution_count": 26,
   "id": "ef12ae92",
   "metadata": {
    "ExecuteTime": {
     "end_time": "2023-08-21T19:52:31.612789Z",
     "start_time": "2023-08-21T19:52:31.605792Z"
    }
   },
   "outputs": [],
   "source": [
    "def merge_limit2solar(df, pheno):\n",
    "    #Merge with demo data\n",
    "    df = df.merge(demo_df, how=\"left\", left_on=\"ptid\", right_on=\"ptid\") \n",
    "    \n",
    "    #Get patients included in solar runs\n",
    "    df = pull_fam_count(pheno, df,\n",
    "                                type_pheno=pheno2type[pheno],\n",
    "                                return_patient_limited_df=True)\n",
    "    return df\n",
    "\n"
   ]
  },
  {
   "cell_type": "code",
   "execution_count": 27,
   "id": "5d1e987b",
   "metadata": {
    "ExecuteTime": {
     "end_time": "2023-08-21T19:52:32.595203Z",
     "start_time": "2023-08-21T19:52:31.616115Z"
    }
   },
   "outputs": [
    {
     "name": "stdout",
     "output_type": "stream",
     "text": [
      "There are 5676 SOLAR families\n",
      "There are 1324 SOLAR families\n",
      "There are 158 SOLAR families\n",
      "There are 115 SOLAR families\n",
      "There are 158 SOLAR families\n",
      "There are 296 SOLAR families\n",
      "There are 962 SOLAR families\n"
     ]
    }
   ],
   "source": [
    "#Map demo and limit to SOLAR patients\n",
    "covnopro_limited_df = merge_limit2solar(covnopro_df,\"covid_noproband\")\n",
    "cov_limited_df = merge_limit2solar(cov_df,\"covid\")\n",
    "hospday_limited_df = merge_limit2solar(hospday_df,\"days_hosp\")\n",
    "\n",
    "hosp_limited_df = merge_limit2solar(hosp_df,\"hosp_stat\")\n",
    "hosp_nopro_limited_df = merge_limit2solar(hosp_nopro_df,\"hosp_stat_nopro\")\n",
    "highdeg_limited_df = merge_limit2solar(high_deg_df,\"covid_highdeg_fam\")\n",
    "highdeg_nopro_limited_df = merge_limit2solar(high_deg_nopro_df,\"covid_highdeg_nopro\")\n",
    "\n",
    "\n",
    "df_limited = [covnopro_limited_df,cov_limited_df,hospday_limited_df ,\n",
    "             hosp_limited_df,hosp_nopro_limited_df,highdeg_limited_df,highdeg_nopro_limited_df]"
   ]
  },
  {
   "cell_type": "code",
   "execution_count": 28,
   "id": "f4d24ecc",
   "metadata": {
    "ExecuteTime": {
     "end_time": "2023-08-21T19:52:32.606333Z",
     "start_time": "2023-08-21T19:52:32.598484Z"
    }
   },
   "outputs": [
    {
     "data": {
      "text/plain": [
       "12764"
      ]
     },
     "execution_count": 28,
     "metadata": {},
     "output_type": "execute_result"
    }
   ],
   "source": [
    "len( covnopro_limited_df[\"ptid\"].unique() )"
   ]
  },
  {
   "cell_type": "code",
   "execution_count": 29,
   "id": "30398be3",
   "metadata": {
    "ExecuteTime": {
     "end_time": "2023-08-21T19:52:33.236289Z",
     "start_time": "2023-08-21T19:52:32.609017Z"
    },
    "code_folding": []
   },
   "outputs": [],
   "source": [
    "covnopro_limited_rel_df = covnopro_limited_df.copy()\n",
    "covnopro_limited_rel_df[\"ptid\"] = covnopro_limited_rel_df[\"ptid\"].astype(str)\n",
    "\n",
    "#Merge relationship and pheno and limit to solar families AND both sides of relationship must\n",
    "#have covid tests so limit rel file where relation_mrn is in pheno_df also\n",
    "rel_limit_df = covnopro_limited_rel_df.merge( rel_df[ rel_df[\"relation_mrn\"].isin( covnopro_limited_rel_df[\"ptid\"] ) ]\n",
    "                                         , how='inner', left_on='ptid', right_on='mrn')\n",
    " \n",
    "#Map the degree of relationship    \n",
    "rel_limit_df[\"rel_degree\"] = rel_limit_df[\"relationship\"].map(rel2degree)"
   ]
  },
  {
   "cell_type": "markdown",
   "id": "5883515f",
   "metadata": {},
   "source": [
    "## Check Ethnicity"
   ]
  },
  {
   "cell_type": "code",
   "execution_count": 30,
   "id": "10622e96",
   "metadata": {
    "ExecuteTime": {
     "end_time": "2023-08-21T19:52:33.247574Z",
     "start_time": "2023-08-21T19:52:33.239420Z"
    }
   },
   "outputs": [],
   "source": [
    "#Dictionary to map ethnicity to SOLARStrap friendly coding\n",
    "map_ethnic_dict = { \"NOT HISPANIC OR LATINO OR SPANISH ORIGIN\":'U',\n",
    "\"DECLINED\":'U',\n",
    "\"HISPANIC OR LATINO OR SPANISH ORIGIN\":'H',\n",
    "\"AFRICAN AMERICAN\":'B',\n",
    "\"MULTI-RACIAL\":\"Other\",\n",
    "\"UNKNOWN\":\"U\",\n",
    "\"CAUCASIAN\":\"W\",\n",
    "None:\"U\",\n",
    "\"(null)\":'U',\n",
    "\"ASIAN / PACIFIC ISLANDER\":\"Other\",\n",
    "\"AMERICAN INDIAN / ESKIMO\":\"Other\"\n",
    "                  }\n",
    "\n",
    "map_race_dict = {'WHITE':'W'\n",
    "                    , 'BLACK OR AFRICAN AMERICAN':'B'\n",
    "                    , 'ASIAN':'Other'\n",
    "                    ,'OTHER COMBINATIONS NOT DESCRIBED':'Other'\n",
    "                   ,'AMERICAN INDIAN OR ALASKA NATION':'Other'\n",
    "                   ,'NAT.HAWAIIAN/OTH.PACIFIC ISLAND':'Other'\n",
    "                    ,'SEPHARDIC JEWISH':'Other'\n",
    "                       ,'ASHKENAZI JEWISH':'Other'\n",
    "                    ,'NULL':'NA'\n",
    "                  , '(null)':'NA'\n",
    "                  , 'DECLINED':'NA'\n",
    "              }\n"
   ]
  },
  {
   "cell_type": "code",
   "execution_count": 31,
   "id": "5a0f30d7",
   "metadata": {
    "ExecuteTime": {
     "end_time": "2023-08-21T19:52:33.397135Z",
     "start_time": "2023-08-21T19:52:33.250860Z"
    }
   },
   "outputs": [],
   "source": [
    "#Solar implementation on combining race and ethnicity\n",
    "def fe_ethnicity_race(mrn, race, ethnicity):\n",
    "    if race in ('NA','U', 'D'):\n",
    "        if ethnicity == 'W':\n",
    "            race = 'White'\n",
    "        elif ethnicity == 'B':\n",
    "            race = 'Black'\n",
    "        elif ethnicity in ('H', 'S', 'O'):\n",
    "            race = 'Hispanic'\n",
    "        elif ethnicity in ('NULL', '', 'U', 'D', '2'):\n",
    "            race = 'Unknown'\n",
    "        else:\n",
    "            race = 'Other'\n",
    "    else:\n",
    "        if race == 'W':\n",
    "            if ethnicity == 'H':\n",
    "                race = 'Hispanic'\n",
    "            else:\n",
    "                race = 'White'\n",
    "        elif race == 'B':\n",
    "            if ethnicity == 'H':\n",
    "                race = 'Hispanic'\n",
    "            else:\n",
    "                race = 'Black'\n",
    "        elif race == 'O':\n",
    "            race = 'Hispanic'\n",
    "        else:\n",
    "            race = 'Other'\n",
    "    \n",
    "    empi2race_eth[mrn] = race\n",
    "#    mrn2race_fe[race][mrn] = 1"
   ]
  },
  {
   "cell_type": "code",
   "execution_count": 32,
   "id": "5631a244",
   "metadata": {
    "ExecuteTime": {
     "end_time": "2023-08-21T19:52:33.559362Z",
     "start_time": "2023-08-21T19:52:33.400272Z"
    }
   },
   "outputs": [],
   "source": [
    "covnopro_limited_rel_df[\"ethnicity_mapped\"] = covnopro_limited_rel_df[\"ethnic_code\"].map(map_ethnic_dict).fillna(covnopro_limited_rel_df[\"ethnic_code\"])\n",
    "covnopro_limited_rel_df[\"race_mapped\"] = covnopro_limited_rel_df[\"race_code\"].map(map_race_dict).fillna(covnopro_limited_rel_df[\"race_code\"])"
   ]
  },
  {
   "cell_type": "code",
   "execution_count": 33,
   "id": "9ef39af6",
   "metadata": {
    "ExecuteTime": {
     "end_time": "2023-08-21T19:52:34.974243Z",
     "start_time": "2023-08-21T19:52:33.561897Z"
    }
   },
   "outputs": [],
   "source": [
    "empi2race_eth = defaultdict(dict)\n",
    "\n",
    "for row in covnopro_limited_rel_df.iterrows():\n",
    "    \n",
    "    mrn = str(row[1][\"ptid\"])\n",
    "    race = row[1][\"race_mapped\"]\n",
    "    ethnicity = row[1][\"ethnicity_mapped\"]\n",
    "    \n",
    "    fe_ethnicity_race(mrn, race, ethnicity)"
   ]
  },
  {
   "cell_type": "code",
   "execution_count": 34,
   "id": "cd4c84f9",
   "metadata": {
    "ExecuteTime": {
     "end_time": "2023-08-21T19:52:34.988440Z",
     "start_time": "2023-08-21T19:52:34.977483Z"
    }
   },
   "outputs": [],
   "source": [
    "def assign_family_ethnicities(fam2empi, empi2demog, print_breakdown=True):\n",
    "    \"\"\"\n",
    "    Assign each family a single ethnicity. This makes the (incorrect) assumption that everyone in the same\n",
    "    family will have the same ethnicity. However, because there are so much missing data, this is better\n",
    "    than nothing at all.\n",
    "\n",
    "    fam2empi        dict, map from family id to a set of patients identifiers that belong in that family\n",
    "    empi2demog      dict, map from patient identifiers to the demographic data (including self-reported race/ethnicity data)\n",
    "    \"\"\"\n",
    "\n",
    "    print(\"Identifying most commonly reported ethnicity for each family...\")\n",
    "\n",
    "    eth2fam = defaultdict(set)\n",
    "    fam2eth = dict()\n",
    "   \n",
    "    for fid, members in tqdm(fam2empi.items()):\n",
    "        \n",
    "\n",
    "        family_ethnicities = [empi2race_eth[e] for e in members if empi2race_eth.get(e,0) != 0 if empi2race_eth[e] != 'Unknown' ]\n",
    "        if len(family_ethnicities) == 0:\n",
    "            mode = 'Unknown'\n",
    "        else:\n",
    "            mode = max(set(family_ethnicities), key=family_ethnicities.count)\n",
    "\n",
    "        eth2fam[mode].add(fid)\n",
    "        fam2eth[fid] = mode\n",
    "\n",
    "    if print_breakdown:\n",
    "        for eth, families in eth2fam.items():\n",
    "            print( \"\\t%s: %d\" % (eth, len(families)))\n",
    "\n",
    "    return eth2fam, fam2eth\n"
   ]
  },
  {
   "cell_type": "code",
   "execution_count": 35,
   "id": "e8726430",
   "metadata": {
    "ExecuteTime": {
     "end_time": "2023-08-21T19:52:36.530823Z",
     "start_time": "2023-08-21T19:52:34.991687Z"
    },
    "code_folding": []
   },
   "outputs": [
    {
     "name": "stderr",
     "output_type": "stream",
     "text": [
      "12764it [00:01, 9903.49it/s] \n"
     ]
    }
   ],
   "source": [
    "#map family to patient ID\n",
    "fam2empi = defaultdict(list)\n",
    "\n",
    "for row in tqdm( fam_df[ fam_df[\"ptid\"].isin(covnopro_limited_rel_df[\"ptid\"].astype(int)) ]\\\n",
    "                .iterrows() ):\n",
    "    fam2empi[row[1][\"famid\"]].append(row[1][\"ptid\"].astype(str))"
   ]
  },
  {
   "cell_type": "code",
   "execution_count": 36,
   "id": "ee6a49cc",
   "metadata": {
    "ExecuteTime": {
     "end_time": "2023-08-21T19:52:36.587010Z",
     "start_time": "2023-08-21T19:52:36.534180Z"
    }
   },
   "outputs": [
    {
     "name": "stdout",
     "output_type": "stream",
     "text": [
      "Identifying most commonly reported ethnicity for each family...\n"
     ]
    },
    {
     "name": "stderr",
     "output_type": "stream",
     "text": [
      "100%|█████████████████████████████████████████████████████████████| 5676/5676 [00:00<00:00, 138596.56it/s]"
     ]
    },
    {
     "name": "stdout",
     "output_type": "stream",
     "text": [
      "\tWhite: 1295\n",
      "\tBlack: 784\n",
      "\tOther: 2533\n",
      "\tHispanic: 1064\n"
     ]
    },
    {
     "name": "stderr",
     "output_type": "stream",
     "text": [
      "\n"
     ]
    }
   ],
   "source": [
    "eth2fam, fam2eth = assign_family_ethnicities(fam2empi,empi2race_eth)"
   ]
  },
  {
   "cell_type": "code",
   "execution_count": 37,
   "id": "f61d39b2",
   "metadata": {
    "ExecuteTime": {
     "end_time": "2023-08-21T19:52:36.651220Z",
     "start_time": "2023-08-21T19:52:36.590894Z"
    }
   },
   "outputs": [],
   "source": [
    "covnopro_limited_rel_df[\"fam_race_eth\"] = covnopro_limited_rel_df[\"famid\"].map(fam2eth)\n",
    "covnopro_limited_rel_df[\"fe_race_eth\"] = covnopro_limited_rel_df[\"ptid\"].astype(str).map(empi2race_eth)"
   ]
  },
  {
   "cell_type": "code",
   "execution_count": 38,
   "id": "530d3e78",
   "metadata": {
    "ExecuteTime": {
     "end_time": "2023-08-21T19:52:36.914902Z",
     "start_time": "2023-08-21T19:52:36.655021Z"
    }
   },
   "outputs": [
    {
     "name": "stdout",
     "output_type": "stream",
     "text": [
      "covid_noproband\n",
      "covid\n",
      "days_hosp\n",
      "hosp_stat\n",
      "hosp_stat_nopro\n",
      "covid_highdeg_fam\n",
      "covid_highdeg_nopro\n"
     ]
    }
   ],
   "source": [
    "holder_list = []\n",
    "holder_list_cols = [\"pheno\", \"nfemale\", \"nnonfemales\", \"nfemale_cases\", \"nnon_female_cases\",\n",
    "                    \"percent_cases_female\", \"percent_cases_nonfemale\",\n",
    "                    \"percent_controls_female\", \"percent_controls_nonfemale\",\n",
    "                    \"percent_female_cases\", \"percent_nonfemale_cases\",\n",
    "                    \"percent_cases_overall\", \"variance\"]\n",
    "sample_dict = dict()\n",
    "\n",
    "for df in df_limited:\n",
    "    pheno = df[\"pheno\"].unique()[0]\n",
    "    print(pheno)\n",
    "\n",
    "    type_pheno = pheno2type[pheno]\n",
    "    \n",
    "    sample_dict[pheno] = dict()\n",
    "\n",
    "    \n",
    "    if type_pheno == \"quant\":\n",
    "        count_df = df.groupby([\"sex\"], dropna=False).count().reset_index()\n",
    "        total_f = count_df[count_df[\"sex\"] == \"F\"][\"ptid\"].sum()\n",
    "        total_nf = count_df[count_df[\"sex\"] != \"F\"][\"ptid\"].sum()\n",
    "\n",
    "        f_cases = nf_cases = None\n",
    "        f_controls = nf_controls=None\n",
    "        \n",
    "        percent_controls_overall = None\n",
    "        percent_cases_overall = None\n",
    "        \n",
    "\n",
    "        \n",
    "    else:\n",
    "        count_df = df.groupby([\"sex\", \"value\"], dropna=False).count().reset_index()\n",
    "        total_f = count_df[count_df[\"sex\"] == \"F\"][\"ptid\"].sum()\n",
    "        total_nf = count_df[count_df[\"sex\"] != \"F\"][\"ptid\"].sum()\n",
    "\n",
    "        f_cases = count_df[(count_df[\"sex\"] == \"F\") & (count_df[\"value\"] == 1)][\"ptid\"].sum()\n",
    "        nf_cases = count_df[(count_df[\"sex\"] != \"F\") & (count_df[\"value\"] == 1)][\"ptid\"].sum()\n",
    "        percent_cases_overall = round((f_cases + nf_cases) / (total_f + total_nf) * 100)\n",
    "\n",
    "        f_controls = count_df[(count_df[\"sex\"] == \"F\") & (count_df[\"value\"] == 0)][\"ptid\"].sum()\n",
    "        nf_controls = count_df[(count_df[\"sex\"] != \"F\") & (count_df[\"value\"] == 0)][\"ptid\"].sum()\n",
    "        percent_controls_overall = round((f_controls + nf_controls) / (total_f + total_nf) * 100)\n",
    "\n",
    "\n",
    "\n",
    "    percent_f = total_f / (total_f + total_nf)\n",
    "    percent_nf = total_nf / (total_f + total_nf)\n",
    "    percent_cases_f = round(f_cases / (f_cases + nf_cases) * 100,2) if f_cases is not None else None\n",
    "    percent_cases_nf = round(nf_cases / (f_cases + nf_cases) * 100,2) if nf_cases is not None else None\n",
    "    percent_f_cases = round(f_cases / total_f * 100,2) if f_cases is not None else None\n",
    "    percent_nf_cases = round(nf_cases / total_nf * 100,2) if nf_cases is not None else None\n",
    "\n",
    "    percent_controls_f = round(f_controls / (f_controls + nf_controls) * 100,2) if f_cases is not None else None\n",
    "    percent_controls_nf = round(nf_controls / (f_controls + nf_controls) * 100,2) if nf_cases is not None else None\n",
    "    percent_f_controls = round(f_controls / total_f * 100,2) if f_controls is not None else None\n",
    "    percent_nf_controls = round(nf_controls / total_nf * 100,2) if nf_cases is not None else None\n",
    "    \n",
    "    count_cases = f_cases + nf_cases if f_cases is not None else None\n",
    "    count_controls = f_controls + nf_controls if f_controls is not None else None\n",
    "    \n",
    "    x_variance = np.var(df[\"value\"])\n",
    "\n",
    "\n",
    "    sample_dict[pheno][\"Total Patients\"] = count_df\n",
    "    sample_dict[pheno][\"n Cases\"] = count_cases\n",
    "    sample_dict[pheno][\"n Controls\"] = count_controls\n",
    "    sample_dict[pheno][\"n Female\"] = total_f\n",
    "    sample_dict[pheno][\"n Not Female\"] = total_nf\n",
    "    sample_dict[pheno][\"Percent Female\"] = percent_f\n",
    "    sample_dict[pheno][\"Percent Non-female\"] = percent_nf\n",
    "    \n",
    "    sample_dict[pheno][\"Female Cases\"] = f_cases\n",
    "    sample_dict[pheno][\"Non-female Cases\"] = nf_cases\n",
    "    sample_dict[pheno][\"Female Controls\"] = f_controls\n",
    "    sample_dict[pheno][\"Non-female Controls\"] = nf_controls\n",
    "    sample_dict[pheno][\"Percent Cases\"] = percent_cases_overall\n",
    "    sample_dict[pheno][\"Percent Controls\"] = percent_controls_overall\n",
    "    sample_dict[pheno][\"Percent Cases (Female)\"] = percent_cases_f\n",
    "    sample_dict[pheno][\"Percent Cases (Non-female)\"] = percent_cases_nf\n",
    "    sample_dict[pheno][\"Percent Controls (Female)\"] = percent_controls_f\n",
    "    sample_dict[pheno][\"Percent Controls (Non-female)\"] = percent_controls_nf\n",
    "    sample_dict[pheno][\"Percent Female That Are Cases\"] = percent_f_cases\n",
    "    sample_dict[pheno][\"Percent Female That Are Controls\"] = percent_f_controls\n",
    "    sample_dict[pheno][\"Percent Non-female That Are Cases\"] = percent_nf_cases\n",
    "    sample_dict[pheno][\"Percent Non-female That Are Controls\"] = percent_nf_controls\n",
    "\n",
    "samp_df = pd.DataFrame(sample_dict).transpose()"
   ]
  },
  {
   "cell_type": "code",
   "execution_count": 39,
   "id": "edfabe8e",
   "metadata": {
    "ExecuteTime": {
     "end_time": "2023-08-21T19:52:36.961114Z",
     "start_time": "2023-08-21T19:52:36.920258Z"
    }
   },
   "outputs": [],
   "source": [
    "# set the max_columns option to 40\n",
    "pd.set_option('display.max_columns', 40)"
   ]
  },
  {
   "cell_type": "code",
   "execution_count": 40,
   "id": "533d5666",
   "metadata": {
    "ExecuteTime": {
     "end_time": "2023-08-21T19:52:37.143096Z",
     "start_time": "2023-08-21T19:52:36.964533Z"
    }
   },
   "outputs": [
    {
     "data": {
      "text/html": [
       "<div>\n",
       "<style scoped>\n",
       "    .dataframe tbody tr th:only-of-type {\n",
       "        vertical-align: middle;\n",
       "    }\n",
       "\n",
       "    .dataframe tbody tr th {\n",
       "        vertical-align: top;\n",
       "    }\n",
       "\n",
       "    .dataframe thead th {\n",
       "        text-align: right;\n",
       "    }\n",
       "</style>\n",
       "<table border=\"1\" class=\"dataframe\">\n",
       "  <thead>\n",
       "    <tr style=\"text-align: right;\">\n",
       "      <th></th>\n",
       "      <th>Total Patients</th>\n",
       "      <th>n Cases</th>\n",
       "      <th>n Controls</th>\n",
       "      <th>n Female</th>\n",
       "      <th>n Not Female</th>\n",
       "      <th>Percent Female</th>\n",
       "      <th>Percent Non-female</th>\n",
       "      <th>Female Cases</th>\n",
       "      <th>Non-female Cases</th>\n",
       "      <th>Female Controls</th>\n",
       "      <th>Non-female Controls</th>\n",
       "      <th>Percent Cases</th>\n",
       "      <th>Percent Controls</th>\n",
       "      <th>Percent Cases (Female)</th>\n",
       "      <th>Percent Cases (Non-female)</th>\n",
       "      <th>Percent Controls (Female)</th>\n",
       "      <th>Percent Controls (Non-female)</th>\n",
       "      <th>Percent Female That Are Cases</th>\n",
       "      <th>Percent Female That Are Controls</th>\n",
       "      <th>Percent Non-female That Are Cases</th>\n",
       "      <th>Percent Non-female That Are Controls</th>\n",
       "    </tr>\n",
       "  </thead>\n",
       "  <tbody>\n",
       "    <tr>\n",
       "      <th>covid_noproband</th>\n",
       "      <td>sex  value  ptid  pheno  birth_decade  race...</td>\n",
       "      <td>1580</td>\n",
       "      <td>11184</td>\n",
       "      <td>8554</td>\n",
       "      <td>4210</td>\n",
       "      <td>0.670166</td>\n",
       "      <td>0.329834</td>\n",
       "      <td>1091</td>\n",
       "      <td>489</td>\n",
       "      <td>7463</td>\n",
       "      <td>3721</td>\n",
       "      <td>12</td>\n",
       "      <td>88</td>\n",
       "      <td>69.05</td>\n",
       "      <td>30.95</td>\n",
       "      <td>66.73</td>\n",
       "      <td>33.27</td>\n",
       "      <td>12.75</td>\n",
       "      <td>87.25</td>\n",
       "      <td>11.62</td>\n",
       "      <td>88.38</td>\n",
       "    </tr>\n",
       "    <tr>\n",
       "      <th>covid</th>\n",
       "      <td>sex  value  ptid  pheno  birth_decade  race...</td>\n",
       "      <td>1580</td>\n",
       "      <td>1594</td>\n",
       "      <td>2133</td>\n",
       "      <td>1041</td>\n",
       "      <td>0.672023</td>\n",
       "      <td>0.327977</td>\n",
       "      <td>1091</td>\n",
       "      <td>489</td>\n",
       "      <td>1042</td>\n",
       "      <td>552</td>\n",
       "      <td>50</td>\n",
       "      <td>50</td>\n",
       "      <td>69.05</td>\n",
       "      <td>30.95</td>\n",
       "      <td>65.37</td>\n",
       "      <td>34.63</td>\n",
       "      <td>51.15</td>\n",
       "      <td>48.85</td>\n",
       "      <td>46.97</td>\n",
       "      <td>53.03</td>\n",
       "    </tr>\n",
       "    <tr>\n",
       "      <th>days_hosp</th>\n",
       "      <td>sex  ptid  pheno  value  birth_decade  race_...</td>\n",
       "      <td>None</td>\n",
       "      <td>None</td>\n",
       "      <td>214</td>\n",
       "      <td>122</td>\n",
       "      <td>0.636905</td>\n",
       "      <td>0.363095</td>\n",
       "      <td>None</td>\n",
       "      <td>None</td>\n",
       "      <td>None</td>\n",
       "      <td>None</td>\n",
       "      <td>None</td>\n",
       "      <td>None</td>\n",
       "      <td>None</td>\n",
       "      <td>None</td>\n",
       "      <td>None</td>\n",
       "      <td>None</td>\n",
       "      <td>None</td>\n",
       "      <td>None</td>\n",
       "      <td>None</td>\n",
       "      <td>None</td>\n",
       "    </tr>\n",
       "    <tr>\n",
       "      <th>hosp_stat</th>\n",
       "      <td>sex  value  ptid  pheno  birth_decade  race_...</td>\n",
       "      <td>196</td>\n",
       "      <td>49</td>\n",
       "      <td>158</td>\n",
       "      <td>87</td>\n",
       "      <td>0.644898</td>\n",
       "      <td>0.355102</td>\n",
       "      <td>126</td>\n",
       "      <td>70</td>\n",
       "      <td>32</td>\n",
       "      <td>17</td>\n",
       "      <td>80</td>\n",
       "      <td>20</td>\n",
       "      <td>64.29</td>\n",
       "      <td>35.71</td>\n",
       "      <td>65.31</td>\n",
       "      <td>34.69</td>\n",
       "      <td>79.75</td>\n",
       "      <td>20.25</td>\n",
       "      <td>80.46</td>\n",
       "      <td>19.54</td>\n",
       "    </tr>\n",
       "    <tr>\n",
       "      <th>hosp_stat_nopro</th>\n",
       "      <td>sex  value  ptid  pheno  birth_decade  race_...</td>\n",
       "      <td>196</td>\n",
       "      <td>140</td>\n",
       "      <td>214</td>\n",
       "      <td>122</td>\n",
       "      <td>0.636905</td>\n",
       "      <td>0.363095</td>\n",
       "      <td>126</td>\n",
       "      <td>70</td>\n",
       "      <td>88</td>\n",
       "      <td>52</td>\n",
       "      <td>58</td>\n",
       "      <td>42</td>\n",
       "      <td>64.29</td>\n",
       "      <td>35.71</td>\n",
       "      <td>62.86</td>\n",
       "      <td>37.14</td>\n",
       "      <td>58.88</td>\n",
       "      <td>41.12</td>\n",
       "      <td>57.38</td>\n",
       "      <td>42.62</td>\n",
       "    </tr>\n",
       "    <tr>\n",
       "      <th>covid_highdeg_fam</th>\n",
       "      <td>sex  value  ptid  pheno  birth_decade  race_...</td>\n",
       "      <td>369</td>\n",
       "      <td>558</td>\n",
       "      <td>624</td>\n",
       "      <td>303</td>\n",
       "      <td>0.673139</td>\n",
       "      <td>0.326861</td>\n",
       "      <td>257</td>\n",
       "      <td>112</td>\n",
       "      <td>367</td>\n",
       "      <td>191</td>\n",
       "      <td>40</td>\n",
       "      <td>60</td>\n",
       "      <td>69.65</td>\n",
       "      <td>30.35</td>\n",
       "      <td>65.77</td>\n",
       "      <td>34.23</td>\n",
       "      <td>41.19</td>\n",
       "      <td>58.81</td>\n",
       "      <td>36.96</td>\n",
       "      <td>63.04</td>\n",
       "    </tr>\n",
       "    <tr>\n",
       "      <th>covid_highdeg_nopro</th>\n",
       "      <td>sex  value  ptid  pheno  birth_decade  race_...</td>\n",
       "      <td>369</td>\n",
       "      <td>2332</td>\n",
       "      <td>1832</td>\n",
       "      <td>869</td>\n",
       "      <td>0.678267</td>\n",
       "      <td>0.321733</td>\n",
       "      <td>257</td>\n",
       "      <td>112</td>\n",
       "      <td>1575</td>\n",
       "      <td>757</td>\n",
       "      <td>14</td>\n",
       "      <td>86</td>\n",
       "      <td>69.65</td>\n",
       "      <td>30.35</td>\n",
       "      <td>67.54</td>\n",
       "      <td>32.46</td>\n",
       "      <td>14.03</td>\n",
       "      <td>85.97</td>\n",
       "      <td>12.89</td>\n",
       "      <td>87.11</td>\n",
       "    </tr>\n",
       "  </tbody>\n",
       "</table>\n",
       "</div>"
      ],
      "text/plain": [
       "                                                        Total Patients  \\\n",
       "covid_noproband         sex  value  ptid  pheno  birth_decade  race...   \n",
       "covid                   sex  value  ptid  pheno  birth_decade  race...   \n",
       "days_hosp              sex  ptid  pheno  value  birth_decade  race_...   \n",
       "hosp_stat              sex  value  ptid  pheno  birth_decade  race_...   \n",
       "hosp_stat_nopro        sex  value  ptid  pheno  birth_decade  race_...   \n",
       "covid_highdeg_fam      sex  value  ptid  pheno  birth_decade  race_...   \n",
       "covid_highdeg_nopro    sex  value  ptid  pheno  birth_decade  race_...   \n",
       "\n",
       "                    n Cases n Controls n Female n Not Female Percent Female  \\\n",
       "covid_noproband        1580      11184     8554         4210       0.670166   \n",
       "covid                  1580       1594     2133         1041       0.672023   \n",
       "days_hosp              None       None      214          122       0.636905   \n",
       "hosp_stat               196         49      158           87       0.644898   \n",
       "hosp_stat_nopro         196        140      214          122       0.636905   \n",
       "covid_highdeg_fam       369        558      624          303       0.673139   \n",
       "covid_highdeg_nopro     369       2332     1832          869       0.678267   \n",
       "\n",
       "                    Percent Non-female Female Cases Non-female Cases  \\\n",
       "covid_noproband               0.329834         1091              489   \n",
       "covid                         0.327977         1091              489   \n",
       "days_hosp                     0.363095         None             None   \n",
       "hosp_stat                     0.355102          126               70   \n",
       "hosp_stat_nopro               0.363095          126               70   \n",
       "covid_highdeg_fam             0.326861          257              112   \n",
       "covid_highdeg_nopro           0.321733          257              112   \n",
       "\n",
       "                    Female Controls Non-female Controls Percent Cases  \\\n",
       "covid_noproband                7463                3721            12   \n",
       "covid                          1042                 552            50   \n",
       "days_hosp                      None                None          None   \n",
       "hosp_stat                        32                  17            80   \n",
       "hosp_stat_nopro                  88                  52            58   \n",
       "covid_highdeg_fam               367                 191            40   \n",
       "covid_highdeg_nopro            1575                 757            14   \n",
       "\n",
       "                    Percent Controls Percent Cases (Female)  \\\n",
       "covid_noproband                   88                  69.05   \n",
       "covid                             50                  69.05   \n",
       "days_hosp                       None                   None   \n",
       "hosp_stat                         20                  64.29   \n",
       "hosp_stat_nopro                   42                  64.29   \n",
       "covid_highdeg_fam                 60                  69.65   \n",
       "covid_highdeg_nopro               86                  69.65   \n",
       "\n",
       "                    Percent Cases (Non-female) Percent Controls (Female)  \\\n",
       "covid_noproband                          30.95                     66.73   \n",
       "covid                                    30.95                     65.37   \n",
       "days_hosp                                 None                      None   \n",
       "hosp_stat                                35.71                     65.31   \n",
       "hosp_stat_nopro                          35.71                     62.86   \n",
       "covid_highdeg_fam                        30.35                     65.77   \n",
       "covid_highdeg_nopro                      30.35                     67.54   \n",
       "\n",
       "                    Percent Controls (Non-female)  \\\n",
       "covid_noproband                             33.27   \n",
       "covid                                       34.63   \n",
       "days_hosp                                    None   \n",
       "hosp_stat                                   34.69   \n",
       "hosp_stat_nopro                             37.14   \n",
       "covid_highdeg_fam                           34.23   \n",
       "covid_highdeg_nopro                         32.46   \n",
       "\n",
       "                    Percent Female That Are Cases  \\\n",
       "covid_noproband                             12.75   \n",
       "covid                                       51.15   \n",
       "days_hosp                                    None   \n",
       "hosp_stat                                   79.75   \n",
       "hosp_stat_nopro                             58.88   \n",
       "covid_highdeg_fam                           41.19   \n",
       "covid_highdeg_nopro                         14.03   \n",
       "\n",
       "                    Percent Female That Are Controls  \\\n",
       "covid_noproband                                87.25   \n",
       "covid                                          48.85   \n",
       "days_hosp                                       None   \n",
       "hosp_stat                                      20.25   \n",
       "hosp_stat_nopro                                41.12   \n",
       "covid_highdeg_fam                              58.81   \n",
       "covid_highdeg_nopro                            85.97   \n",
       "\n",
       "                    Percent Non-female That Are Cases  \\\n",
       "covid_noproband                                 11.62   \n",
       "covid                                           46.97   \n",
       "days_hosp                                        None   \n",
       "hosp_stat                                       80.46   \n",
       "hosp_stat_nopro                                 57.38   \n",
       "covid_highdeg_fam                               36.96   \n",
       "covid_highdeg_nopro                             12.89   \n",
       "\n",
       "                    Percent Non-female That Are Controls  \n",
       "covid_noproband                                    88.38  \n",
       "covid                                              53.03  \n",
       "days_hosp                                           None  \n",
       "hosp_stat                                          19.54  \n",
       "hosp_stat_nopro                                    42.62  \n",
       "covid_highdeg_fam                                  63.04  \n",
       "covid_highdeg_nopro                                87.11  "
      ]
     },
     "execution_count": 40,
     "metadata": {},
     "output_type": "execute_result"
    }
   ],
   "source": [
    "samp_df"
   ]
  },
  {
   "cell_type": "code",
   "execution_count": 41,
   "id": "f04dd773",
   "metadata": {
    "ExecuteTime": {
     "end_time": "2023-08-21T19:52:37.222734Z",
     "start_time": "2023-08-21T19:52:37.155346Z"
    }
   },
   "outputs": [],
   "source": [
    "#Get race/ethnicity data broken out by case and control status\n",
    "total = len( covnopro_limited_rel_df )\n",
    "\n",
    "race_eth_df = covnopro_limited_rel_df.groupby([\"fe_race_eth\",\"value\"],dropna=False ).count()\\\n",
    "[\"ptid\"].reset_index()\n",
    "\n",
    "race_eth_df.rename(columns={\"ptid\":\"n\"},inplace=True)\n",
    "\n",
    "race_eth_df[\"percent_race_eth\"] = round( (race_eth_df[\"n\"]/total)*100, 2)"
   ]
  },
  {
   "cell_type": "code",
   "execution_count": 42,
   "id": "83540719",
   "metadata": {
    "ExecuteTime": {
     "end_time": "2023-08-21T19:52:37.365250Z",
     "start_time": "2023-08-21T19:52:37.225821Z"
    }
   },
   "outputs": [
    {
     "data": {
      "text/html": [
       "<div>\n",
       "<style scoped>\n",
       "    .dataframe tbody tr th:only-of-type {\n",
       "        vertical-align: middle;\n",
       "    }\n",
       "\n",
       "    .dataframe tbody tr th {\n",
       "        vertical-align: top;\n",
       "    }\n",
       "\n",
       "    .dataframe thead th {\n",
       "        text-align: right;\n",
       "    }\n",
       "</style>\n",
       "<table border=\"1\" class=\"dataframe\">\n",
       "  <thead>\n",
       "    <tr style=\"text-align: right;\">\n",
       "      <th></th>\n",
       "      <th>fe_race_eth</th>\n",
       "      <th>value</th>\n",
       "      <th>n</th>\n",
       "      <th>percent_race_eth</th>\n",
       "    </tr>\n",
       "  </thead>\n",
       "  <tbody>\n",
       "    <tr>\n",
       "      <th>0</th>\n",
       "      <td>Black</td>\n",
       "      <td>0</td>\n",
       "      <td>1226</td>\n",
       "      <td>9.61</td>\n",
       "    </tr>\n",
       "    <tr>\n",
       "      <th>1</th>\n",
       "      <td>Black</td>\n",
       "      <td>1</td>\n",
       "      <td>192</td>\n",
       "      <td>1.50</td>\n",
       "    </tr>\n",
       "    <tr>\n",
       "      <th>2</th>\n",
       "      <td>Hispanic</td>\n",
       "      <td>0</td>\n",
       "      <td>2180</td>\n",
       "      <td>17.08</td>\n",
       "    </tr>\n",
       "    <tr>\n",
       "      <th>3</th>\n",
       "      <td>Hispanic</td>\n",
       "      <td>1</td>\n",
       "      <td>348</td>\n",
       "      <td>2.73</td>\n",
       "    </tr>\n",
       "    <tr>\n",
       "      <th>4</th>\n",
       "      <td>Other</td>\n",
       "      <td>0</td>\n",
       "      <td>5730</td>\n",
       "      <td>44.89</td>\n",
       "    </tr>\n",
       "    <tr>\n",
       "      <th>5</th>\n",
       "      <td>Other</td>\n",
       "      <td>1</td>\n",
       "      <td>882</td>\n",
       "      <td>6.91</td>\n",
       "    </tr>\n",
       "    <tr>\n",
       "      <th>6</th>\n",
       "      <td>White</td>\n",
       "      <td>0</td>\n",
       "      <td>2048</td>\n",
       "      <td>16.05</td>\n",
       "    </tr>\n",
       "    <tr>\n",
       "      <th>7</th>\n",
       "      <td>White</td>\n",
       "      <td>1</td>\n",
       "      <td>158</td>\n",
       "      <td>1.24</td>\n",
       "    </tr>\n",
       "  </tbody>\n",
       "</table>\n",
       "</div>"
      ],
      "text/plain": [
       "  fe_race_eth  value     n  percent_race_eth\n",
       "0       Black      0  1226              9.61\n",
       "1       Black      1   192              1.50\n",
       "2    Hispanic      0  2180             17.08\n",
       "3    Hispanic      1   348              2.73\n",
       "4       Other      0  5730             44.89\n",
       "5       Other      1   882              6.91\n",
       "6       White      0  2048             16.05\n",
       "7       White      1   158              1.24"
      ]
     },
     "execution_count": 42,
     "metadata": {},
     "output_type": "execute_result"
    }
   ],
   "source": [
    "race_eth_df"
   ]
  },
  {
   "cell_type": "code",
   "execution_count": 43,
   "id": "f5f3ae00",
   "metadata": {
    "ExecuteTime": {
     "end_time": "2023-08-21T19:52:37.463505Z",
     "start_time": "2023-08-21T19:52:37.368100Z"
    },
    "scrolled": true
   },
   "outputs": [
    {
     "data": {
      "text/plain": [
       "value\n",
       "0    38.852647\n",
       "1    46.291772\n",
       "Name: age, dtype: float64"
      ]
     },
     "execution_count": 43,
     "metadata": {},
     "output_type": "execute_result"
    }
   ],
   "source": [
    "#Average age of case and control groups for dataset\n",
    "covnopro_limited_rel_df.groupby([\"value\"],dropna=False).mean(\"age\")[\"age\"]"
   ]
  },
  {
   "cell_type": "code",
   "execution_count": 44,
   "id": "934a034f",
   "metadata": {
    "ExecuteTime": {
     "end_time": "2023-08-21T19:52:37.602129Z",
     "start_time": "2023-08-21T19:52:37.466401Z"
    }
   },
   "outputs": [
    {
     "data": {
      "text/plain": [
       "value\n",
       "0    25.257443\n",
       "1    25.094659\n",
       "Name: age, dtype: float64"
      ]
     },
     "execution_count": 44,
     "metadata": {},
     "output_type": "execute_result"
    }
   ],
   "source": [
    "#Standard deviation for age of case and control groups for dataset\n",
    "covnopro_limited_rel_df.groupby([\"value\"],dropna=False).agg(np.std)[\"age\"]"
   ]
  },
  {
   "cell_type": "code",
   "execution_count": 45,
   "id": "e76b5184",
   "metadata": {
    "ExecuteTime": {
     "end_time": "2023-08-21T19:52:37.720078Z",
     "start_time": "2023-08-21T19:52:37.605151Z"
    }
   },
   "outputs": [
    {
     "data": {
      "text/html": [
       "<div>\n",
       "<style scoped>\n",
       "    .dataframe tbody tr th:only-of-type {\n",
       "        vertical-align: middle;\n",
       "    }\n",
       "\n",
       "    .dataframe tbody tr th {\n",
       "        vertical-align: top;\n",
       "    }\n",
       "\n",
       "    .dataframe thead th {\n",
       "        text-align: right;\n",
       "    }\n",
       "</style>\n",
       "<table border=\"1\" class=\"dataframe\">\n",
       "  <thead>\n",
       "    <tr style=\"text-align: right;\">\n",
       "      <th></th>\n",
       "      <th>fe_race_eth</th>\n",
       "      <th>ptid</th>\n",
       "    </tr>\n",
       "  </thead>\n",
       "  <tbody>\n",
       "    <tr>\n",
       "      <th>0</th>\n",
       "      <td>Black</td>\n",
       "      <td>1418</td>\n",
       "    </tr>\n",
       "    <tr>\n",
       "      <th>1</th>\n",
       "      <td>Hispanic</td>\n",
       "      <td>2528</td>\n",
       "    </tr>\n",
       "    <tr>\n",
       "      <th>2</th>\n",
       "      <td>Other</td>\n",
       "      <td>6612</td>\n",
       "    </tr>\n",
       "    <tr>\n",
       "      <th>3</th>\n",
       "      <td>White</td>\n",
       "      <td>2206</td>\n",
       "    </tr>\n",
       "  </tbody>\n",
       "</table>\n",
       "</div>"
      ],
      "text/plain": [
       "  fe_race_eth  ptid\n",
       "0       Black  1418\n",
       "1    Hispanic  2528\n",
       "2       Other  6612\n",
       "3       White  2206"
      ]
     },
     "execution_count": 45,
     "metadata": {},
     "output_type": "execute_result"
    }
   ],
   "source": [
    "#Totals by race/ethnicity\n",
    "covnopro_limited_rel_df.groupby([\"fe_race_eth\"],dropna=False ).count()\\\n",
    "[\"ptid\"].transpose().reset_index()"
   ]
  },
  {
   "cell_type": "markdown",
   "id": "ad74885c",
   "metadata": {},
   "source": [
    "## Graphs"
   ]
  },
  {
   "cell_type": "code",
   "execution_count": 46,
   "id": "3d97c388",
   "metadata": {
    "ExecuteTime": {
     "end_time": "2023-08-21T19:52:38.716132Z",
     "start_time": "2023-08-21T19:52:37.722866Z"
    }
   },
   "outputs": [],
   "source": [
    "%matplotlib inline  \n",
    "import seaborn as sns\n",
    "import matplotlib.pyplot as plt\n",
    "import numpy as np"
   ]
  },
  {
   "cell_type": "code",
   "execution_count": 47,
   "id": "c0ff55c7",
   "metadata": {
    "ExecuteTime": {
     "end_time": "2023-08-21T19:52:38.737494Z",
     "start_time": "2023-08-21T19:52:38.718759Z"
    }
   },
   "outputs": [
    {
     "data": {
      "text/plain": [
       "2.2487667371388302"
      ]
     },
     "execution_count": 47,
     "metadata": {},
     "output_type": "execute_result"
    }
   ],
   "source": [
    "#Average number of family members - use noproband covid susceptibility because includes max patients included\n",
    "count_fam = covnopro_limited_df.groupby([\"famid\"]).count()[\"ptid\"].reset_index()\n",
    "np.mean( count_fam[\"ptid\"] )"
   ]
  },
  {
   "cell_type": "code",
   "execution_count": 48,
   "id": "6afdd0b2",
   "metadata": {
    "ExecuteTime": {
     "end_time": "2023-08-21T19:52:39.100679Z",
     "start_time": "2023-08-21T19:52:38.740611Z"
    }
   },
   "outputs": [
    {
     "data": {
      "text/plain": [
       "Text(0, 0.5, 'Number of Families')"
      ]
     },
     "execution_count": 48,
     "metadata": {},
     "output_type": "execute_result"
    },
    {
     "data": {
      "image/png": "[encoded data removed]",
      "text/plain": [
       "<Figure size 432x288 with 1 Axes>"
      ]
     },
     "metadata": {
      "needs_background": "light"
     },
     "output_type": "display_data"
    }
   ],
   "source": [
    "hist_df = count_fam.groupby(\"ptid\").count().reset_index()\\\n",
    ".rename(columns={\"ptid\":\"Number of Family Members\",\"famid\":\"Number of Families\"})\n",
    "\n",
    "fig, ax = plt.subplots()\n",
    "bars = ax.bar( hist_df[\"Number of Family Members\"], hist_df[\"Number of Families\"],color=\"lightsteelblue\", )\n",
    "\n",
    "ax.bar_label(bars)\n",
    "sns.despine()\n",
    "\n",
    "plt.xlabel(\"Number of Family Members\")\n",
    "plt.ylabel(\"Number of Families\")"
   ]
  },
  {
   "cell_type": "code",
   "execution_count": 49,
   "id": "37148d1c",
   "metadata": {
    "ExecuteTime": {
     "end_time": "2023-08-21T19:52:39.400972Z",
     "start_time": "2023-08-21T19:52:39.103715Z"
    }
   },
   "outputs": [
    {
     "name": "stdout",
     "output_type": "stream",
     "text": [
      "17336\n",
      "17336\n"
     ]
    },
    {
     "data": {
      "text/plain": [
       "[Text(0, 0, '6124'), Text(0, 0, '1171'), Text(0, 0, '190'), Text(0, 0, '133')]"
      ]
     },
     "execution_count": 49,
     "metadata": {},
     "output_type": "execute_result"
    },
    {
     "data": {
      "image/png": "[encoded data removed]",
      "text/plain": [
       "<Figure size 432x288 with 1 Axes>"
      ]
     },
     "metadata": {
      "needs_background": "light"
     },
     "output_type": "display_data"
    }
   ],
   "source": [
    "# Set the palette using the name of a palette:\n",
    "sns.set_palette(\"Blues\")\n",
    "\n",
    "#Make sure there aren't duplicates because of demo\n",
    "\n",
    "rel_only_df = rel_limit_df[[\"ptid\",\"relation_mrn\",\"rel_degree\"]]\n",
    "print( len(rel_limit_df) )\n",
    "\n",
    "rel_only_df.drop_duplicates(inplace=True)\n",
    "print( len(rel_only_df) )\n",
    "\n",
    "#Count of individuals by degree, can be case OR control\n",
    "degree_counts_all = rel_limit_df.groupby(\"rel_degree\").agg({\"mrn\":'count'}).reset_index()\n",
    "\n",
    "degree_counts = degree_counts_all[ degree_counts_all[\"rel_degree\"].isin([\"First\",\"Second\",\"Third\",\"Fourth\"]) ]\n",
    "#degree_counts = degree_counts_all\n",
    "\n",
    "#Divide by 2 since reciprical of every relationship is included\n",
    "degree_counts[\"unique_rel_count\"] = degree_counts[\"mrn\"]/2\n",
    "degree_counts.sort_values(by=\"unique_rel_count\", ascending=False, inplace=True)\n",
    "\n",
    "ax = sns.barplot(x=\"rel_degree\", y=\"unique_rel_count\", \\\n",
    "                 data=degree_counts)\n",
    "sns.despine()\n",
    "\n",
    "ax.set_xlabel(\"Degree\", fontsize = 12)\n",
    "ax.set_ylabel(\"Number of Relationships\", fontsize = 12)\n",
    "sns.despine()\n",
    "\n",
    "ax.bar_label(ax.containers[0])"
   ]
  },
  {
   "cell_type": "code",
   "execution_count": 50,
   "id": "44a41e99",
   "metadata": {
    "ExecuteTime": {
     "end_time": "2023-08-21T19:53:00.942551Z",
     "start_time": "2023-08-21T19:52:39.404591Z"
    }
   },
   "outputs": [],
   "source": [
    "#Map hhid and bid to patients\n",
    "rel_limit_df[\"hhid\"] = rel_limit_df[\"ptid\"].astype(int).map(mrn2hhid)\n",
    "rel_limit_df[\"bid\"] = rel_limit_df[\"ptid\"].astype(int).map(mrn2bid)\n",
    "\n",
    "rel_limit_df[\"rel_hhid\"] = rel_limit_df[\"relation_mrn\"].astype(int).map(mrn2hhid)\n",
    "rel_limit_df[\"rel_bid\"] = rel_limit_df[\"relation_mrn\"].astype(int).map(mrn2bid)"
   ]
  },
  {
   "cell_type": "code",
   "execution_count": 51,
   "id": "c76caca2",
   "metadata": {
    "ExecuteTime": {
     "end_time": "2023-08-21T19:53:01.024655Z",
     "start_time": "2023-08-21T19:53:00.950299Z"
    }
   },
   "outputs": [
    {
     "data": {
      "text/plain": [
       "0.5197226870666986"
      ]
     },
     "execution_count": 51,
     "metadata": {},
     "output_type": "execute_result"
    }
   ],
   "source": [
    "#Percent relatives that share hhid (will be the same as bid overlap)\n",
    "len( rel_limit_df[ rel_limit_df[\"hhid\"] == rel_limit_df[\"rel_hhid\"]][\"ptid\"].unique())\\\n",
    "/len(rel_limit_df[\"ptid\"].unique())"
   ]
  },
  {
   "cell_type": "code",
   "execution_count": 52,
   "id": "e05cdc56",
   "metadata": {
    "ExecuteTime": {
     "end_time": "2023-08-21T19:53:01.185083Z",
     "start_time": "2023-08-21T19:53:01.028004Z"
    }
   },
   "outputs": [],
   "source": [
    "share_hhid_df = rel_limit_df[ (rel_limit_df['hhid'] == rel_limit_df['rel_hhid'] ) &\\\n",
    "            (rel_limit_df['mrn'] != rel_limit_df['relation_mrn'] )\n",
    "            \n",
    "            ]"
   ]
  },
  {
   "cell_type": "code",
   "execution_count": 53,
   "id": "5323050b",
   "metadata": {
    "ExecuteTime": {
     "end_time": "2023-08-21T19:53:01.335475Z",
     "start_time": "2023-08-21T19:53:01.187882Z"
    }
   },
   "outputs": [],
   "source": [
    "#percent that live together\n",
    "\n",
    "degree_hhid_list = list()\n",
    "for degree in [\"First\",\"Second\",\"Third\",\"Fourth\"]:\n",
    "    \n",
    "    shared_hhid_count = len( share_hhid_df[share_hhid_df[\"rel_degree\"] == degree][[\"mrn\",\"relation_mrn\"]].drop_duplicates() )\n",
    "    all_degree = len( rel_limit_df[rel_limit_df[\"rel_degree\"] == degree][[\"mrn\",\"relation_mrn\"]].drop_duplicates() )\n",
    "    \n",
    "    percent_live_together = shared_hhid_count/all_degree\n",
    "    #must divide by 2 since reciprical\n",
    "    total_live_together = shared_hhid_count/2\n",
    "    total_with_that_rel = all_degree/2\n",
    "    \n",
    "    degree_hhid_list.append([degree,total_live_together,total_with_that_rel,percent_live_together])\n",
    "    "
   ]
  },
  {
   "cell_type": "code",
   "execution_count": 54,
   "id": "080bb9a6",
   "metadata": {
    "ExecuteTime": {
     "end_time": "2023-08-21T19:53:01.411957Z",
     "start_time": "2023-08-21T19:53:01.338508Z"
    }
   },
   "outputs": [
    {
     "data": {
      "text/html": [
       "<div>\n",
       "<style scoped>\n",
       "    .dataframe tbody tr th:only-of-type {\n",
       "        vertical-align: middle;\n",
       "    }\n",
       "\n",
       "    .dataframe tbody tr th {\n",
       "        vertical-align: top;\n",
       "    }\n",
       "\n",
       "    .dataframe thead th {\n",
       "        text-align: right;\n",
       "    }\n",
       "</style>\n",
       "<table border=\"1\" class=\"dataframe\">\n",
       "  <thead>\n",
       "    <tr style=\"text-align: right;\">\n",
       "      <th></th>\n",
       "      <th>Degree</th>\n",
       "      <th>N Lives Together</th>\n",
       "      <th>N</th>\n",
       "      <th>Percent lives together</th>\n",
       "    </tr>\n",
       "  </thead>\n",
       "  <tbody>\n",
       "    <tr>\n",
       "      <th>0</th>\n",
       "      <td>First</td>\n",
       "      <td>3294.0</td>\n",
       "      <td>6124.0</td>\n",
       "      <td>0.537884</td>\n",
       "    </tr>\n",
       "    <tr>\n",
       "      <th>1</th>\n",
       "      <td>Second</td>\n",
       "      <td>255.0</td>\n",
       "      <td>1171.0</td>\n",
       "      <td>0.217763</td>\n",
       "    </tr>\n",
       "    <tr>\n",
       "      <th>2</th>\n",
       "      <td>Third</td>\n",
       "      <td>13.0</td>\n",
       "      <td>190.0</td>\n",
       "      <td>0.068421</td>\n",
       "    </tr>\n",
       "    <tr>\n",
       "      <th>3</th>\n",
       "      <td>Fourth</td>\n",
       "      <td>9.0</td>\n",
       "      <td>133.0</td>\n",
       "      <td>0.067669</td>\n",
       "    </tr>\n",
       "  </tbody>\n",
       "</table>\n",
       "</div>"
      ],
      "text/plain": [
       "   Degree  N Lives Together       N  Percent lives together\n",
       "0   First            3294.0  6124.0                0.537884\n",
       "1  Second             255.0  1171.0                0.217763\n",
       "2   Third              13.0   190.0                0.068421\n",
       "3  Fourth               9.0   133.0                0.067669"
      ]
     },
     "execution_count": 54,
     "metadata": {},
     "output_type": "execute_result"
    }
   ],
   "source": [
    "pd.DataFrame(degree_hhid_list,columns=[\"Degree\",\"N Lives Together\",\"N\",\"Percent lives together\"])"
   ]
  },
  {
   "cell_type": "code",
   "execution_count": 55,
   "id": "3ec6791e",
   "metadata": {
    "ExecuteTime": {
     "end_time": "2023-08-21T19:53:01.530404Z",
     "start_time": "2023-08-21T19:53:01.415558Z"
    },
    "scrolled": true
   },
   "outputs": [
    {
     "data": {
      "text/plain": [
       "0.5197226870666986"
      ]
     },
     "execution_count": 55,
     "metadata": {},
     "output_type": "execute_result"
    }
   ],
   "source": [
    "#Percent relatives that share hhid\n",
    "len( rel_limit_df[ rel_limit_df[\"bid\"] == rel_limit_df[\"rel_bid\"]][\"ptid\"].unique())\\\n",
    "/len(rel_limit_df[\"ptid\"].unique())\n"
   ]
  },
  {
   "cell_type": "markdown",
   "id": "ab35f2f0",
   "metadata": {},
   "source": [
    "## Get age by week"
   ]
  },
  {
   "cell_type": "code",
   "execution_count": 56,
   "id": "422ff8ab",
   "metadata": {
    "ExecuteTime": {
     "end_time": "2023-08-21T19:53:01.706955Z",
     "start_time": "2023-08-21T19:53:01.533356Z"
    }
   },
   "outputs": [],
   "source": [
    "mrn2age = dict( zip( demo_df[\"ptid\"], demo_df[\"age\"] ) )"
   ]
  },
  {
   "cell_type": "code",
   "execution_count": 57,
   "id": "bf9b02e4",
   "metadata": {
    "ExecuteTime": {
     "end_time": "2023-08-21T19:53:01.784451Z",
     "start_time": "2023-08-21T19:53:01.710514Z"
    }
   },
   "outputs": [],
   "source": [
    "\n",
    "regex = r'(\\d+_\\d+_\\d+)'\n",
    "\n",
    "pull_date = lambda trait_name: datetime.strptime(re.findall(regex, trait_name)[0]\\\n",
    "                                                 ,'%Y-%m-%d').date()\n",
    "\n",
    "pull_date_window = lambda trait_name: datetime.strptime(re.findall(regex, trait_name)[0]\\\n",
    "                                                 ,'%m_%d_%Y').date()"
   ]
  },
  {
   "cell_type": "code",
   "execution_count": 58,
   "id": "7c9b5281",
   "metadata": {
    "ExecuteTime": {
     "end_time": "2023-08-21T19:54:11.697412Z",
     "start_time": "2023-08-21T19:53:01.799440Z"
    }
   },
   "outputs": [],
   "source": [
    "\n",
    "\n",
    "directory = cummulative_directory  # directory of gzip cummulative files\n",
    "\n",
    "# Get a list of all gzip files in the directory\n",
    "gzip_files = [file for file in os.listdir(directory) if file.endswith('.gz')]\n",
    "\n",
    "# # List to store the DataFrames\n",
    "\n",
    "cases = dict()\n",
    "controls = dict()\n",
    "\n",
    "\n",
    "percent_female_list = []\n",
    "# Iterate over each gzip file and read its contents into a DataFrame\n",
    "for file_name in gzip_files:\n",
    "#     print(file_name)\n",
    "    file_path = os.path.join(directory, file_name)\n",
    "    with gzip.open(file_path, 'rt') as file:\n",
    "        df = pd.read_csv(file, delimiter='\\t')  # Adjust the delimiter and other options as per your file format\n",
    "\n",
    "        #Map familiy IDS\n",
    "        df[\"famid\"] = df[\"ptid\"].map(mrn2famid)\n",
    "        df[\"sex\"] = df[\"ptid\"].map(mrn2sex)\n",
    "        \n",
    "        \n",
    "        #For every week, pull out cases and control IDs, and their ages\n",
    "        for pheno in df[\"pheno\"].unique():\n",
    "            \n",
    "            #Limit dataframe to those patients in solar run (ie for w/ proband has at least 1 case and 2 fam members)\n",
    "            df_solar = pull_fam_count(pheno, df, print_res=False, return_patient_limited_df=True)\n",
    "            \n",
    "            week = pull_date_window(pheno)\n",
    "            cases[week] = list(df_solar[ (df_solar[\"value\"] == 1) ][\"ptid\"].map(mrn2age))\n",
    "            controls[week] = list( df_solar[ (df_solar[\"value\"] == 0) ][\"ptid\"].map(mrn2age))\n",
    "            \n",
    "         \n",
    "            percent_female_list.append( (week, round( len( df_solar[ df_solar[\"sex\"] == \"F\"] ) / len(df_solar) * 100 , 2)))\n"
   ]
  },
  {
   "cell_type": "code",
   "execution_count": 59,
   "id": "5db3ce05",
   "metadata": {
    "ExecuteTime": {
     "end_time": "2023-08-21T19:54:12.003195Z",
     "start_time": "2023-08-21T19:54:11.702505Z"
    }
   },
   "outputs": [
    {
     "data": {
      "image/png": "[encoded data removed]",
      "text/plain": [
       "<Figure size 720x432 with 1 Axes>"
      ]
     },
     "metadata": {
      "needs_background": "light"
     },
     "output_type": "display_data"
    }
   ],
   "source": [
    "# Extract the weeks and percent female from the list of tuples\n",
    "weeks, percent_female = zip(*percent_female_list)\n",
    "\n",
    "# Set the figure size\n",
    "plt.figure(figsize=(10, 6))\n",
    "\n",
    "# Plot the line\n",
    "plt.scatter(weeks, percent_female, marker='o', color='purple')\n",
    "\n",
    "# Add x-axis and y-axis labels\n",
    "plt.xlabel('Week')\n",
    "plt.ylabel('Percent Female')\n",
    "\n",
    "# Set the y-axis limits to range from 0 to 100\n",
    "plt.ylim(0, 100)\n",
    "\n",
    "# Add a title\n",
    "plt.title('Percent Female by Week')\n",
    "\n",
    "# Show the plot\n",
    "plt.show()"
   ]
  },
  {
   "cell_type": "code",
   "execution_count": 60,
   "id": "64ad6cf4",
   "metadata": {
    "ExecuteTime": {
     "end_time": "2023-08-21T19:54:13.702905Z",
     "start_time": "2023-08-21T19:54:12.006880Z"
    }
   },
   "outputs": [
    {
     "data": {
      "image/png": "[encoded data removed]",
      "text/plain": [
       "<Figure size 1080x648 with 1 Axes>"
      ]
     },
     "metadata": {
      "needs_background": "light"
     },
     "output_type": "display_data"
    }
   ],
   "source": [
    "import matplotlib.pyplot as plt\n",
    "import numpy as np\n",
    "import matplotlib.patches as mpatches\n",
    "\n",
    "# Graph box and whisker plot of ages per week for cases and controls to see why it changes over time\n",
    "weeks = list(cases.keys())[::2]  # Select every other week\n",
    "\n",
    "case_ages = [cases[week] for week in weeks]\n",
    "control_ages = [controls[week] for week in weeks]\n",
    "\n",
    "# Set the figure size\n",
    "plt.figure(figsize=(15, 9))\n",
    "\n",
    "# Calculate the positions for box plots\n",
    "case_positions = np.arange(len(weeks)) - 0.2\n",
    "control_positions = np.arange(len(weeks)) + 0.2\n",
    "\n",
    "# Create the box plot for cases\n",
    "case_box = plt.boxplot(case_ages, positions=case_positions, widths=0.4, patch_artist=True, boxprops=dict(facecolor='lightblue'))\n",
    "\n",
    "# Create the box plot for controls\n",
    "control_box = plt.boxplot(control_ages, positions=control_positions, widths=0.4, patch_artist=True, boxprops=dict(facecolor='darkseagreen'))\n",
    "\n",
    "\n",
    "\n",
    "# Customize the style of the median line\n",
    "for box in case_box['medians']:\n",
    "    box.set(color='yellow', linewidth=2)  # Change median line color and thickness\n",
    "\n",
    "for box in control_box['medians']:\n",
    "    box.set(color='red', linewidth=2)  # Change median line color and thickness\n",
    "\n",
    "\n",
    "\n",
    "# Add x-axis labels and title with increased font size\n",
    "plt.xlabel(\"Week\", fontsize=16)\n",
    "plt.ylabel(\"Age\", fontsize=16)\n",
    "plt.title(\"Distribution of Ages for Cases and Controls by Week (every other week included)\", fontsize=20)\n",
    "\n",
    "\n",
    "# Set x-axis tick labels with every 4th label\n",
    "plt.xticks(range(0, len(weeks), 4), weeks[::4], fontsize=12)\n",
    "\n",
    "\n",
    "# Create custom legend\n",
    "cases_patch = mpatches.Patch(color='lightblue', label='Cases')\n",
    "controls_patch = mpatches.Patch(color='darkseagreen', label='Controls')\n",
    "plt.legend(handles=[cases_patch, controls_patch], fontsize=14, loc='upper right')\n",
    "\n",
    "# Remove top and right borders\n",
    "sns.despine()\n",
    "\n",
    "\n",
    "plt.tight_layout()\n",
    "plt.show()\n",
    "\n"
   ]
  },
  {
   "cell_type": "code",
   "execution_count": null,
   "id": "631dfe4e",
   "metadata": {},
   "outputs": [],
   "source": []
  },
  {
   "cell_type": "code",
   "execution_count": null,
   "id": "51ed0eef",
   "metadata": {},
   "outputs": [],
   "source": []
  }
 ],
 "metadata": {
  "kernelspec": {
   "display_name": "covid_herit",
   "language": "python",
   "name": "covid_herit"
  },
  "language_info": {
   "codemirror_mode": {
    "name": "ipython",
    "version": 3
   },
   "file_extension": ".py",
   "mimetype": "text/x-python",
   "name": "python",
   "nbconvert_exporter": "python",
   "pygments_lexer": "ipython3",
   "version": "3.8.10"
  },
  "toc": {
   "base_numbering": 1,
   "nav_menu": {},
   "number_sections": true,
   "sideBar": true,
   "skip_h1_title": false,
   "title_cell": "Table of Contents",
   "title_sidebar": "Contents",
   "toc_cell": false,
   "toc_position": {},
   "toc_section_display": true,
   "toc_window_display": false
  },
  "varInspector": {
   "cols": {
    "lenName": 16,
    "lenType": 16,
    "lenVar": 40
   },
   "kernels_config": {
    "python": {
     "delete_cmd_postfix": "",
     "delete_cmd_prefix": "del ",
     "library": "var_list.py",
     "varRefreshCmd": "print(var_dic_list())"
    },
    "r": {
     "delete_cmd_postfix": ") ",
     "delete_cmd_prefix": "rm(",
     "library": "var_list.r",
     "varRefreshCmd": "cat(var_dic_list()) "
    }
   },
   "types_to_exclude": [
    "module",
    "function",
    "builtin_function_or_method",
    "instance",
    "_Feature"
   ],
   "window_display": false
  }
 },
 "nbformat": 4,
 "nbformat_minor": 5
}
