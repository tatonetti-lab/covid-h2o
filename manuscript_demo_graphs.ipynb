{
 "cells": [
  {
   "cell_type": "code",
   "execution_count": 1,
   "id": "62fe277d",
   "metadata": {
    "ExecuteTime": {
     "end_time": "2022-06-30T17:58:04.161629Z",
     "start_time": "2022-06-30T17:58:03.127835Z"
    }
   },
   "outputs": [],
   "source": [
    "import os\n",
    "import csv\n",
    "import paramiko\n",
    "import gzip\n",
    "\n",
    "import pymysql\n",
    "from sshtunnel import SSHTunnelForwarder\n",
    "\n",
    "from tqdm import tqdm\n",
    "\n",
    "from datetime import timedelta\n",
    "from datetime import date\n",
    "from datetime import datetime\n",
    "\n",
    "import pandas as pd\n"
   ]
  },
  {
   "cell_type": "code",
   "execution_count": 2,
   "id": "cf5555f6",
   "metadata": {
    "ExecuteTime": {
     "end_time": "2022-07-22T22:27:50.003194Z",
     "start_time": "2022-07-22T22:27:49.982647Z"
    }
   },
   "outputs": [
    {
     "data": {
      "text/plain": [
       "'3.8.10'"
      ]
     },
     "execution_count": 2,
     "metadata": {},
     "output_type": "execute_result"
    }
   ],
   "source": [
    "from platform import python_version \n",
    "python_version() "
   ]
  },
  {
   "cell_type": "code",
   "execution_count": 2,
   "id": "65168265",
   "metadata": {
    "ExecuteTime": {
     "end_time": "2022-06-30T17:58:04.445560Z",
     "start_time": "2022-06-30T17:58:04.432735Z"
    }
   },
   "outputs": [],
   "source": [
    "database = \"clinical_merge_v5_2020q4\"\n",
    "\n",
    "ped_data = '/home/kel2158/Projects/Heritability_Base_Data/pedigree_v3_updated_results/'\n",
    "output_folder= '/home/kel2158/Projects/COVIDHerit/data/12_29_21/'\n",
    "hhid_folder = '/home/kel2158/Projects/hhid_update/data/'\n",
    "\n",
    "\n",
    "demo_file = output_folder+'demo.txt.gz'\n",
    "hosp_days_file = output_folder+'days_hosp.txt.gz'\n",
    "covid_nopro_file = output_folder+'covid_noproband.txt.gz'\n",
    "covid_file = output_folder+'covid.txt.gz'\n",
    "\n",
    "hosp_stat_file = output_folder + 'hosp_stat.txt.gz'\n",
    "hosp_stat_nopro_file = output_folder + 'hosp_stat_noproband.txt.gz'\n",
    "high_deg_file = output_folder + 'covid_high_degfam.txt.gz'\n",
    "high_deg_nopro_file = output_folder + 'covid_high_degfam_noproband.txt.gz'\n",
    "\n",
    "\n",
    "#Input files\n",
    "finename_fam_input = ped_data+\"family_v3.txt.gz\"\n",
    "filename_hhid =  hhid_folder+'hhid_trimmed_notcln.txt.gz'\n",
    "buildid_file = hhid_folder+\"buildid_notcln.txt.gz\"\n",
    "filename_ped_input =  ped_data+\"pedigree_v3.txt.gz\""
   ]
  },
  {
   "cell_type": "code",
   "execution_count": 3,
   "id": "9f1b5217",
   "metadata": {
    "ExecuteTime": {
     "end_time": "2022-06-30T17:58:06.227441Z",
     "start_time": "2022-06-30T17:58:06.218854Z"
    }
   },
   "outputs": [],
   "source": [
    "def return_sign_in(login_loc = '/home/kel2158/login.txt'):\n",
    "    login_dict = dict()\n",
    "    with open(login_loc, \"r\") as file:\n",
    "        for line in file.readlines():\n",
    "            login_dict[ line.split(\",\")[0]] = line.split(\",\")[1].strip()\n",
    "    return(login_dict)"
   ]
  },
  {
   "cell_type": "code",
   "execution_count": 4,
   "id": "55a2f3a1",
   "metadata": {
    "ExecuteTime": {
     "end_time": "2022-06-30T17:58:10.561249Z",
     "start_time": "2022-06-30T17:58:10.476402Z"
    }
   },
   "outputs": [],
   "source": [
    "login_dict = return_sign_in()\n",
    "\n",
    "ssh = paramiko.SSHClient()\n",
    "ssh.set_missing_host_key_policy(paramiko.AutoAddPolicy())\n",
    "ssh.connect('10.144.220.21', username=login_dict['user'], password=login_dict['mimir_pw'])\n"
   ]
  },
  {
   "cell_type": "code",
   "execution_count": 5,
   "id": "290e652b",
   "metadata": {
    "ExecuteTime": {
     "end_time": "2022-06-30T17:58:13.340717Z",
     "start_time": "2022-06-30T17:58:13.036088Z"
    }
   },
   "outputs": [],
   "source": [
    "server = SSHTunnelForwarder(\n",
    "    '10.144.220.21',\n",
    "    ssh_username='kel2158',\n",
    "    ssh_password=login_dict['mimir_pw'],\n",
    "    remote_bind_address=('127.0.0.1', 3306)\n",
    ")\n",
    "server.start()\n",
    "\n",
    "db = pymysql.connect(\n",
    "    host='127.0.0.1',\n",
    "    port=server.local_bind_port,\n",
    "    user=login_dict['user'],\n",
    "    password=login_dict[\"db_pw\"],\n",
    "    db=database\n",
    ")\n",
    "\n",
    "cur = db.cursor()\n",
    "\n"
   ]
  },
  {
   "cell_type": "code",
   "execution_count": null,
   "id": "d7dacc67",
   "metadata": {},
   "outputs": [],
   "source": []
  },
  {
   "cell_type": "markdown",
   "id": "446c04f8",
   "metadata": {},
   "source": [
    "## Pull Data"
   ]
  },
  {
   "cell_type": "code",
   "execution_count": 6,
   "id": "424eabcd",
   "metadata": {
    "ExecuteTime": {
     "end_time": "2022-06-30T17:58:18.123069Z",
     "start_time": "2022-06-30T17:58:15.437607Z"
    }
   },
   "outputs": [],
   "source": [
    "#Read in time to first pcr trait file \n",
    "file_name = filename_ped_input\n",
    "gfile = gzip.open(file_name)\n",
    "ped_df = pd.read_csv(gfile,sep='\\t')\n",
    "gfile.close()\n",
    "\n"
   ]
  },
  {
   "cell_type": "code",
   "execution_count": 7,
   "id": "05a9a457",
   "metadata": {
    "ExecuteTime": {
     "end_time": "2022-06-30T17:58:19.165313Z",
     "start_time": "2022-06-30T17:58:18.914056Z"
    }
   },
   "outputs": [],
   "source": [
    "#Read in time to first pcr trait file \n",
    "file_name = demo_file\n",
    "gfile = gzip.open(file_name)\n",
    "demo_df = pd.read_csv(gfile,sep='\\t')\n",
    "gfile.close()\n",
    "\n"
   ]
  },
  {
   "cell_type": "code",
   "execution_count": 8,
   "id": "f13cf9b8",
   "metadata": {
    "ExecuteTime": {
     "end_time": "2022-06-30T17:58:20.594871Z",
     "start_time": "2022-06-30T17:58:20.235020Z"
    }
   },
   "outputs": [],
   "source": [
    "#Read in time to first pcr trait file \n",
    "file_name = finename_fam_input\n",
    "gfile = gzip.open(file_name)\n",
    "fam_df = pd.read_csv(gfile,sep='\\t')\n",
    "gfile.close()\n"
   ]
  },
  {
   "cell_type": "code",
   "execution_count": 9,
   "id": "020de5ca",
   "metadata": {
    "ExecuteTime": {
     "end_time": "2022-06-30T17:58:22.517852Z",
     "start_time": "2022-06-30T17:58:21.068756Z"
    }
   },
   "outputs": [],
   "source": [
    "#Read in HHID file \n",
    "file_name = filename_hhid\n",
    "gfile = gzip.open(file_name)\n",
    "hhid_df = pd.read_csv(gfile,sep='\\t')\n",
    "gfile.close()\n",
    "\n",
    "\n",
    "mrn2hhid = dict(zip( hhid_df[\"mrn\"], hhid_df[\"trimmed_hhid\"] ))"
   ]
  },
  {
   "cell_type": "code",
   "execution_count": 10,
   "id": "77b4b888",
   "metadata": {
    "ExecuteTime": {
     "end_time": "2022-06-30T17:58:41.256214Z",
     "start_time": "2022-06-30T17:58:22.693481Z"
    }
   },
   "outputs": [],
   "source": [
    "#Read in BuildingID file \n",
    "file_name = buildid_file\n",
    "gfile = gzip.open(file_name)\n",
    "bid_df = pd.read_csv(gfile,sep='\\t')\n",
    "gfile.close()\n",
    "\n",
    "\n",
    "mrn2bid = dict(zip( bid_df[\"mrn\"], bid_df[\"building_id\"] ))"
   ]
  },
  {
   "cell_type": "code",
   "execution_count": 11,
   "id": "b421f195",
   "metadata": {
    "ExecuteTime": {
     "end_time": "2022-06-30T17:58:41.278282Z",
     "start_time": "2022-06-30T17:58:41.260860Z"
    }
   },
   "outputs": [],
   "source": [
    "#Read in time to first pcr trait file \n",
    "file_name = time2pcr_file\n",
    "gfile = gzip.open(file_name)\n",
    "time2pcr_df = pd.read_csv(gfile,sep='\\t')\n",
    "gfile.close()\n"
   ]
  },
  {
   "cell_type": "code",
   "execution_count": 12,
   "id": "ef8b1e4a",
   "metadata": {
    "ExecuteTime": {
     "end_time": "2022-06-30T17:58:50.051223Z",
     "start_time": "2022-06-30T17:58:50.010275Z"
    }
   },
   "outputs": [],
   "source": [
    "#Read in covid susceptibility file\n",
    "file_name = covid_file\n",
    "gfile = gzip.open(file_name)\n",
    "cov_df = pd.read_csv(gfile,sep='\\t')\n",
    "gfile.close()"
   ]
  },
  {
   "cell_type": "code",
   "execution_count": 13,
   "id": "a82a84db",
   "metadata": {
    "ExecuteTime": {
     "end_time": "2022-06-30T17:58:50.489348Z",
     "start_time": "2022-06-30T17:58:50.446682Z"
    }
   },
   "outputs": [],
   "source": [
    "#Read in cov noproband\n",
    "file_name = covid_nopro_file\n",
    "gfile = gzip.open(file_name)\n",
    "covnopro_df = pd.read_csv(gfile,sep='\\t')\n",
    "gfile.close()\n"
   ]
  },
  {
   "cell_type": "code",
   "execution_count": 14,
   "id": "f54dcbce",
   "metadata": {
    "ExecuteTime": {
     "end_time": "2022-06-30T17:58:51.187523Z",
     "start_time": "2022-06-30T17:58:51.163854Z"
    }
   },
   "outputs": [],
   "source": [
    "#Read in days_hosp\n",
    "file_name = hosp_days_file\n",
    "gfile = gzip.open(file_name)\n",
    "hospday_df = pd.read_csv(gfile,sep='\\t')\n",
    "\n",
    "gfile.close()\n"
   ]
  },
  {
   "cell_type": "code",
   "execution_count": 15,
   "id": "4f1208fa",
   "metadata": {
    "ExecuteTime": {
     "end_time": "2022-06-30T17:58:52.567104Z",
     "start_time": "2022-06-30T17:58:52.546014Z"
    }
   },
   "outputs": [],
   "source": [
    "#Read in hospitalization_stat\n",
    "file_name = hosp_stat_file\n",
    "gfile = gzip.open(file_name)\n",
    "hosp_df = pd.read_csv(gfile,sep='\\t')\n",
    "\n",
    "gfile.close()\n"
   ]
  },
  {
   "cell_type": "code",
   "execution_count": 16,
   "id": "9764af51",
   "metadata": {
    "ExecuteTime": {
     "end_time": "2022-06-30T17:58:53.000355Z",
     "start_time": "2022-06-30T17:58:52.979733Z"
    }
   },
   "outputs": [],
   "source": [
    "#Read in hospitalization_stat_noproband\n",
    "file_name = hosp_stat_nopro_file\n",
    "gfile = gzip.open(file_name)\n",
    "hosp_nopro_df = pd.read_csv(gfile,sep='\\t')\n",
    "\n",
    "gfile.close()\n"
   ]
  },
  {
   "cell_type": "code",
   "execution_count": 17,
   "id": "14b83792",
   "metadata": {
    "ExecuteTime": {
     "end_time": "2022-06-30T17:58:53.762727Z",
     "start_time": "2022-06-30T17:58:53.748220Z"
    }
   },
   "outputs": [],
   "source": [
    "#Read in high_deg\n",
    "file_name = high_deg_file\n",
    "gfile = gzip.open(file_name)\n",
    "high_deg_df = pd.read_csv(gfile,sep='\\t')\n",
    "\n",
    "gfile.close()\n"
   ]
  },
  {
   "cell_type": "code",
   "execution_count": 18,
   "id": "593143de",
   "metadata": {
    "ExecuteTime": {
     "end_time": "2022-06-30T17:58:55.234266Z",
     "start_time": "2022-06-30T17:58:55.219972Z"
    }
   },
   "outputs": [],
   "source": [
    "#Read in high_deg_noproband\n",
    "file_name = high_deg_nopro_file\n",
    "gfile = gzip.open(file_name)\n",
    "high_deg_nopro_df = pd.read_csv(gfile,sep='\\t')\n",
    "\n",
    "gfile.close()\n"
   ]
  },
  {
   "cell_type": "code",
   "execution_count": 19,
   "id": "01d843e2",
   "metadata": {
    "ExecuteTime": {
     "end_time": "2022-06-30T18:00:05.751058Z",
     "start_time": "2022-06-30T17:58:57.286146Z"
    }
   },
   "outputs": [],
   "source": [
    "pull_data_query = \"\"\"SELECT *\n",
    "FROM clinical_relationships_v3.all_relationships_to_generate_pedigree_file\"\"\"\n",
    "\n",
    "\n",
    "cur.execute(pull_data_query)\n",
    "rawdata = cur.fetchall()\n",
    "\n",
    "rel_df = pd.DataFrame(list(rawdata),\n",
    "                    columns=[\"mrn\",\"relationship\",\"relation_mrn\",\"provided_relationship\",\n",
    "                             ])"
   ]
  },
  {
   "cell_type": "code",
   "execution_count": 20,
   "id": "5a9c38fd",
   "metadata": {
    "ExecuteTime": {
     "end_time": "2022-06-30T18:00:05.933328Z",
     "start_time": "2022-06-30T18:00:05.754964Z"
    }
   },
   "outputs": [],
   "source": [
    "pull_data_query = \"\"\"SELECT *\n",
    "FROM clinical_relationships.relationships_degree\"\"\"\n",
    "\n",
    "\n",
    "cur.execute(pull_data_query)\n",
    "rawdata = cur.fetchall()\n",
    "\n",
    "reldegree_df = pd.DataFrame(list(rawdata),\n",
    "                    columns=[\"relationship\",\"degree\"\n",
    "                             ])\n",
    "\n",
    "rel2degree = dict( zip( reldegree_df[\"relationship\"],reldegree_df[\"degree\"] ) ) "
   ]
  },
  {
   "cell_type": "code",
   "execution_count": 26,
   "id": "b73d69f3",
   "metadata": {
    "ExecuteTime": {
     "end_time": "2022-06-30T18:01:06.872147Z",
     "start_time": "2022-06-30T18:01:06.837452Z"
    }
   },
   "outputs": [],
   "source": [
    "db.close()\n",
    "server.stop() "
   ]
  },
  {
   "cell_type": "markdown",
   "id": "7c191475",
   "metadata": {},
   "source": [
    "## Functions"
   ]
  },
  {
   "cell_type": "code",
   "execution_count": 21,
   "id": "e5d936ad",
   "metadata": {
    "ExecuteTime": {
     "end_time": "2022-06-30T18:00:05.951524Z",
     "start_time": "2022-06-30T18:00:05.936509Z"
    }
   },
   "outputs": [],
   "source": [
    "def pull_fam_count( pheno, df, print_res = True, \\\n",
    "                   return_fams_df=False, type_pheno=\"binary_withproband\",\n",
    "                   return_patient_limited_df = False ):\n",
    "    \n",
    "    \"\"\"Returns the number of families in a phenotype for SOLAR based on pheno \n",
    "     Needs phenotype column, famid column and ptid column\"\"\"    \n",
    "    \n",
    "    #subset on phenotype of interest and those in our pedigree\n",
    "    df_phenosub = df[ (df[\"pheno\"] == pheno ) \n",
    "                       &  (~df[\"famid\"].isnull())] \n",
    "    \n",
    "    #Get the total number of  members in each fam and then number of cases\n",
    "    df_phenogrouped = df_phenosub.groupby( 'famid' )\\\n",
    "        .agg({ \"ptid\":\"count\",\"value\":sum })\\\n",
    "        .reset_index()\\\n",
    "        .rename(columns={ \"ptid\":\"num_fam_members\",\"value\":\"num_cases\" })\n",
    "    \n",
    "    #Subset to fams that will be included in SOLAR\n",
    "    #ie has more than one family member an at least one case in each family\n",
    "    if type_pheno == \"binary_withproband\":\n",
    "        solar_fams_df = df_phenogrouped[ (df_phenogrouped[\"num_fam_members\"] > 1) \\\n",
    "                                        & (df_phenogrouped[\"num_cases\"] > 0) ]\n",
    "    \n",
    "    else:\n",
    "         solar_fams_df = df_phenogrouped[ (df_phenogrouped[\"num_fam_members\"] > 1)]\n",
    "    \n",
    "    solar_limited_df = df_phenosub[ df_phenosub[\"famid\"].isin(solar_fams_df[\"famid\"].unique())]\n",
    "    solar_limited_df.drop_duplicates(inplace=True)\n",
    "    solar_patients = set( solar_limited_df[\"ptid\"] )\n",
    "    \n",
    "    \n",
    "    \n",
    "    if print_res:\n",
    "            print(f'There are {len(solar_fams_df)} SOLAR families')\n",
    "    \n",
    "    if return_fams_df:\n",
    "        return solar_fams_df, solar_patients\n",
    "    \n",
    "    elif return_patient_limited_df == True:\n",
    "        return solar_limited_df\n",
    "    \n",
    "    else:\n",
    "        return(len( solar_fams_df) )\n",
    "    "
   ]
  },
  {
   "cell_type": "markdown",
   "id": "d07dc8cc",
   "metadata": {},
   "source": [
    "## Process Data"
   ]
  },
  {
   "cell_type": "code",
   "execution_count": 22,
   "id": "4f178eee",
   "metadata": {
    "ExecuteTime": {
     "end_time": "2022-06-30T18:00:06.096773Z",
     "start_time": "2022-06-30T18:00:05.955858Z"
    }
   },
   "outputs": [],
   "source": [
    "#Map for differences in how SOLAR includes people\n",
    "#Options: binary_withproband OR quant_or_binary_noproband\n",
    "pheno2type = {   \n",
    "\"covid\":\"binary_withproband\",\n",
    "\"covid_noproband\":\"binary_noproband\",\n",
    "\"days_hosp\":\"quant\",\n",
    "    \"hosp_stat\":\"binary_withproband\",\n",
    "    \"hosp_stat_nopro\":\"binary_noproband\",\n",
    "    \"covid_highdeg_fam\":\"binary_withproband\",\n",
    "    \"covid_highdeg_nopro\":\"binary_noproband\",\n",
    "}\n",
    "\n"
   ]
  },
  {
   "cell_type": "code",
   "execution_count": 23,
   "id": "c0f2b694",
   "metadata": {
    "ExecuteTime": {
     "end_time": "2022-06-30T18:00:07.537974Z",
     "start_time": "2022-06-30T18:00:06.100073Z"
    }
   },
   "outputs": [],
   "source": [
    "#Info for mapping\n",
    "mrn2sex = dict(zip( demo_df[\"ptid\"],demo_df[\"sex\"] ))\n",
    "mrn2famid = dict(zip( fam_df[\"ptid\"],fam_df[\"famid\"] ))\n",
    "\n",
    "#Map famid to demo df\n",
    "demo_df[\"famid\"]  = demo_df[\"ptid\"].map(mrn2famid)\n",
    "\n",
    "pheno_dfs = [cov_df, covnopro_df, \n",
    "             hospday_df,hosp_df,hosp_nopro_df,\n",
    "             high_deg_df,high_deg_nopro_df]\n"
   ]
  },
  {
   "cell_type": "code",
   "execution_count": 24,
   "id": "ef12ae92",
   "metadata": {
    "ExecuteTime": {
     "end_time": "2022-06-30T18:00:07.548133Z",
     "start_time": "2022-06-30T18:00:07.540884Z"
    }
   },
   "outputs": [],
   "source": [
    "def merge_limit2solar(df, pheno):\n",
    "    #Merge with demo data\n",
    "    df = df.merge(demo_df, how=\"left\", left_on=\"ptid\", right_on=\"ptid\") \n",
    "    \n",
    "    #Get patients included in solar runs\n",
    "    df = pull_fam_count(pheno, df,\n",
    "                                type_pheno=pheno2type[pheno],\n",
    "                                return_patient_limited_df=True)\n",
    "    return df\n",
    "\n"
   ]
  },
  {
   "cell_type": "code",
   "execution_count": 27,
   "id": "5d1e987b",
   "metadata": {
    "ExecuteTime": {
     "end_time": "2022-06-30T19:33:00.672070Z",
     "start_time": "2022-06-30T19:32:59.998214Z"
    }
   },
   "outputs": [
    {
     "name": "stdout",
     "output_type": "stream",
     "text": [
      "There are 5676 SOLAR families\n",
      "There are 1324 SOLAR families\n",
      "There are 158 SOLAR families\n",
      "There are 115 SOLAR families\n",
      "There are 158 SOLAR families\n",
      "There are 296 SOLAR families\n",
      "There are 962 SOLAR families\n"
     ]
    }
   ],
   "source": [
    "#Map demo and limit to SOLAR patients\n",
    "covnopro_limited_df = merge_limit2solar(covnopro_df,\"covid_noproband\")\n",
    "cov_limited_df = merge_limit2solar(cov_df,\"covid\")\n",
    "hospday_limited_df = merge_limit2solar(hospday_df,\"days_hosp\")\n",
    "\n",
    "hosp_limited_df = merge_limit2solar(hosp_df,\"hosp_stat\")\n",
    "hosp_nopro_limited_df = merge_limit2solar(hosp_nopro_df,\"hosp_stat_nopro\")\n",
    "highdeg_limited_df = merge_limit2solar(high_deg_df,\"covid_highdeg_fam\")\n",
    "highdeg_nopro_limited_df = merge_limit2solar(high_deg_nopro_df,\"covid_highdeg_nopro\")\n",
    "\n",
    "\n",
    "df_limited = [covnopro_limited_df,cov_limited_df,hospday_limited_df ,\n",
    "             hosp_limited_df,hosp_nopro_limited_df,highdeg_limited_df,highdeg_nopro_limited_df]"
   ]
  },
  {
   "cell_type": "code",
   "execution_count": 28,
   "id": "44ecd33f",
   "metadata": {
    "ExecuteTime": {
     "end_time": "2022-06-30T19:33:38.251517Z",
     "start_time": "2022-06-30T19:33:38.157165Z"
    }
   },
   "outputs": [
    {
     "name": "stdout",
     "output_type": "stream",
     "text": [
      "covid_noproband\n",
      "covid\n",
      "days_hosp\n",
      "hosp_stat\n",
      "hosp_stat_nopro\n",
      "covid_highdeg_fam\n",
      "covid_highdeg_nopro\n"
     ]
    }
   ],
   "source": [
    "holder_list = list()\n",
    "holder_list_cols = [\"pheno\",\"nfemale_cases\",\"nnon_female_cases\",\"nfemale\",\"nnonfemales\",\n",
    "                   \"percent_controls_female\",\"percent_female_controls\",\"percent_nonfemale_controls\"]\n",
    "for df in df_limited:\n",
    "\n",
    "    pheno = df[\"pheno\"].unique()[0]\n",
    "    print(pheno )\n",
    "    \n",
    "    type_pheno = pheno2type[pheno]\n",
    "    \n",
    "    if type_pheno == \"quant\":\n",
    "        \n",
    "        count_df = df.groupby( [ \"sex\" ] ).count().reset_index()\n",
    "    \n",
    "        total_f = count_df[ count_df[\"sex\"] == \"F\" ][\"ptid\"].sum()\n",
    "        total_nf = count_df[ count_df[\"sex\"] == \"M\" ][\"ptid\"].sum()\n",
    "    \n",
    "        f_cases = total_f\n",
    "        nf_cases = total_nf\n",
    "       \n",
    "    \n",
    "    else:\n",
    "        count_df = df.groupby( [ \"sex\", \"value\" ] ).count().reset_index()\n",
    "    \n",
    "        total_f = count_df[ count_df[\"sex\"] == \"F\" ][\"ptid\"].sum()\n",
    "        total_nf = count_df[ count_df[\"sex\"] == \"M\" ][\"ptid\"].sum()\n",
    "    \n",
    "        f_cases = count_df[ ( count_df[\"sex\"] == \"F\") & ( count_df[\"value\"] == 1) ][\"ptid\"].sum()\n",
    "        nf_cases = count_df[ ( count_df[\"sex\"] == \"M\") & ( count_df[\"value\"] == 1) ][\"ptid\"].sum()\n",
    "    \n",
    "    \n",
    "    percent_f = total_f/(total_f+total_nf)\n",
    "\n",
    "    percent_controls_f = round( f_cases/(f_cases+nf_cases)*100 )\n",
    "    percent_f_controls =  round( f_cases/(total_f)*100)\n",
    "    percent_nf_controls =  round( nf_cases/(total_nf)*100)\n",
    "    \n",
    "    holder_list.append([pheno,f_cases,nf_cases,total_f,total_nf,percent_controls_f,\n",
    "                       percent_f_controls,percent_nf_controls])\n",
    "    \n",
    "    \n",
    "samp_df = pd.DataFrame(holder_list,columns=holder_list_cols)\n"
   ]
  },
  {
   "cell_type": "code",
   "execution_count": 29,
   "id": "4634d708",
   "metadata": {
    "ExecuteTime": {
     "end_time": "2022-06-30T19:33:41.446333Z",
     "start_time": "2022-06-30T19:33:41.412874Z"
    },
    "scrolled": true
   },
   "outputs": [
    {
     "data": {
      "text/html": [
       "<div>\n",
       "<style scoped>\n",
       "    .dataframe tbody tr th:only-of-type {\n",
       "        vertical-align: middle;\n",
       "    }\n",
       "\n",
       "    .dataframe tbody tr th {\n",
       "        vertical-align: top;\n",
       "    }\n",
       "\n",
       "    .dataframe thead th {\n",
       "        text-align: right;\n",
       "    }\n",
       "</style>\n",
       "<table border=\"1\" class=\"dataframe\">\n",
       "  <thead>\n",
       "    <tr style=\"text-align: right;\">\n",
       "      <th></th>\n",
       "      <th>pheno</th>\n",
       "      <th>nfemale_cases</th>\n",
       "      <th>nnon_female_cases</th>\n",
       "      <th>nfemale</th>\n",
       "      <th>nnonfemales</th>\n",
       "      <th>percent_controls_female</th>\n",
       "      <th>percent_female_controls</th>\n",
       "      <th>percent_nonfemale_controls</th>\n",
       "    </tr>\n",
       "  </thead>\n",
       "  <tbody>\n",
       "    <tr>\n",
       "      <th>0</th>\n",
       "      <td>covid_noproband</td>\n",
       "      <td>1091</td>\n",
       "      <td>489</td>\n",
       "      <td>8554</td>\n",
       "      <td>4203</td>\n",
       "      <td>69</td>\n",
       "      <td>13</td>\n",
       "      <td>12</td>\n",
       "    </tr>\n",
       "    <tr>\n",
       "      <th>1</th>\n",
       "      <td>covid</td>\n",
       "      <td>1091</td>\n",
       "      <td>489</td>\n",
       "      <td>2133</td>\n",
       "      <td>1040</td>\n",
       "      <td>69</td>\n",
       "      <td>51</td>\n",
       "      <td>47</td>\n",
       "    </tr>\n",
       "    <tr>\n",
       "      <th>2</th>\n",
       "      <td>days_hosp</td>\n",
       "      <td>214</td>\n",
       "      <td>122</td>\n",
       "      <td>214</td>\n",
       "      <td>122</td>\n",
       "      <td>64</td>\n",
       "      <td>100</td>\n",
       "      <td>100</td>\n",
       "    </tr>\n",
       "    <tr>\n",
       "      <th>3</th>\n",
       "      <td>hosp_stat</td>\n",
       "      <td>126</td>\n",
       "      <td>70</td>\n",
       "      <td>158</td>\n",
       "      <td>87</td>\n",
       "      <td>64</td>\n",
       "      <td>80</td>\n",
       "      <td>80</td>\n",
       "    </tr>\n",
       "    <tr>\n",
       "      <th>4</th>\n",
       "      <td>hosp_stat_nopro</td>\n",
       "      <td>126</td>\n",
       "      <td>70</td>\n",
       "      <td>214</td>\n",
       "      <td>122</td>\n",
       "      <td>64</td>\n",
       "      <td>59</td>\n",
       "      <td>57</td>\n",
       "    </tr>\n",
       "    <tr>\n",
       "      <th>5</th>\n",
       "      <td>covid_highdeg_fam</td>\n",
       "      <td>257</td>\n",
       "      <td>112</td>\n",
       "      <td>624</td>\n",
       "      <td>303</td>\n",
       "      <td>70</td>\n",
       "      <td>41</td>\n",
       "      <td>37</td>\n",
       "    </tr>\n",
       "    <tr>\n",
       "      <th>6</th>\n",
       "      <td>covid_highdeg_nopro</td>\n",
       "      <td>257</td>\n",
       "      <td>112</td>\n",
       "      <td>1832</td>\n",
       "      <td>869</td>\n",
       "      <td>70</td>\n",
       "      <td>14</td>\n",
       "      <td>13</td>\n",
       "    </tr>\n",
       "  </tbody>\n",
       "</table>\n",
       "</div>"
      ],
      "text/plain": [
       "                 pheno  nfemale_cases  nnon_female_cases  nfemale  \\\n",
       "0      covid_noproband           1091                489     8554   \n",
       "1                covid           1091                489     2133   \n",
       "2            days_hosp            214                122      214   \n",
       "3            hosp_stat            126                 70      158   \n",
       "4      hosp_stat_nopro            126                 70      214   \n",
       "5    covid_highdeg_fam            257                112      624   \n",
       "6  covid_highdeg_nopro            257                112     1832   \n",
       "\n",
       "   nnonfemales  percent_controls_female  percent_female_controls  \\\n",
       "0         4203                       69                       13   \n",
       "1         1040                       69                       51   \n",
       "2          122                       64                      100   \n",
       "3           87                       64                       80   \n",
       "4          122                       64                       59   \n",
       "5          303                       70                       41   \n",
       "6          869                       70                       14   \n",
       "\n",
       "   percent_nonfemale_controls  \n",
       "0                          12  \n",
       "1                          47  \n",
       "2                         100  \n",
       "3                          80  \n",
       "4                          57  \n",
       "5                          37  \n",
       "6                          13  "
      ]
     },
     "execution_count": 29,
     "metadata": {},
     "output_type": "execute_result"
    }
   ],
   "source": [
    "samp_df"
   ]
  },
  {
   "cell_type": "code",
   "execution_count": 30,
   "id": "30398be3",
   "metadata": {
    "ExecuteTime": {
     "end_time": "2022-06-30T19:33:54.295581Z",
     "start_time": "2022-06-30T19:33:53.767575Z"
    },
    "code_folding": []
   },
   "outputs": [],
   "source": [
    "covnopro_limited_rel_df = covnopro_limited_df.copy()\n",
    "covnopro_limited_rel_df[\"ptid\"] = covnopro_limited_rel_df[\"ptid\"].astype(str)\n",
    "\n",
    "#Merge relationship and pheno and limit to solar families AND both sides of relationship must\n",
    "#have covid tests so limit rel file where relation_mrn is in pheno_df also\n",
    "rel_limit_df = covnopro_limited_rel_df.merge( rel_df[ rel_df[\"relation_mrn\"].isin( covnopro_limited_rel_df[\"ptid\"] ) ]\n",
    "                                         , how='inner', left_on='ptid', right_on='mrn')\n",
    " \n",
    "#Map the degree of relationship    \n",
    "rel_limit_df[\"rel_degree\"] = rel_limit_df[\"relationship\"].map(rel2degree)"
   ]
  },
  {
   "cell_type": "markdown",
   "id": "5883515f",
   "metadata": {},
   "source": [
    "## Check Ethnicity"
   ]
  },
  {
   "cell_type": "code",
   "execution_count": 32,
   "id": "10622e96",
   "metadata": {
    "ExecuteTime": {
     "end_time": "2022-06-30T19:34:08.366180Z",
     "start_time": "2022-06-30T19:34:08.353822Z"
    }
   },
   "outputs": [],
   "source": [
    "#Dictionary to map ethnicity to SOLARStrap friendly coding\n",
    "map_ethnic_dict = { \"NOT HISPANIC OR LATINO OR SPANISH ORIGIN\":'U',\n",
    "\"DECLINED\":'U',\n",
    "\"HISPANIC OR LATINO OR SPANISH ORIGIN\":'H',\n",
    "\"AFRICAN AMERICAN\":'B',\n",
    "\"MULTI-RACIAL\":\"Other\",\n",
    "\"UNKNOWN\":\"U\",\n",
    "\"CAUCASIAN\":\"W\",\n",
    "None:\"U\",\n",
    "\"(null)\":'U',\n",
    "\"ASIAN / PACIFIC ISLANDER\":\"Other\",\n",
    "\"AMERICAN INDIAN / ESKIMO\":\"Other\"\n",
    "                  }\n",
    "\n",
    "map_race_dict = {'WHITE':'W'\n",
    "                    , 'BLACK OR AFRICAN AMERICAN':'B'\n",
    "                    , 'ASIAN':'Other'\n",
    "                    ,'OTHER COMBINATIONS NOT DESCRIBED':'Other'\n",
    "                   ,'AMERICAN INDIAN OR ALASKA NATION':'Other'\n",
    "                   ,'NAT.HAWAIIAN/OTH.PACIFIC ISLAND':'Other'\n",
    "                    ,'SEPHARDIC JEWISH':'Other'\n",
    "                       ,'ASHKENAZI JEWISH':'Other'\n",
    "                    ,'NULL':'NA'\n",
    "                  , '(null)':'NA'\n",
    "                  , 'DECLINED':'NA'\n",
    "              }\n"
   ]
  },
  {
   "cell_type": "code",
   "execution_count": 33,
   "id": "5a0f30d7",
   "metadata": {
    "ExecuteTime": {
     "end_time": "2022-06-30T19:34:08.731693Z",
     "start_time": "2022-06-30T19:34:08.719095Z"
    }
   },
   "outputs": [],
   "source": [
    "#Solar implementation on combining race and ethnicity\n",
    "def fe_ethnicity_race(mrn, race, ethnicity):\n",
    "    if race in ('NA','U', 'D'):\n",
    "        if ethnicity == 'W':\n",
    "            race = 'White'\n",
    "        elif ethnicity == 'B':\n",
    "            race = 'Black'\n",
    "        elif ethnicity in ('H', 'S', 'O'):\n",
    "            race = 'Hispanic'\n",
    "        elif ethnicity in ('NULL', '', 'U', 'D', '2'):\n",
    "            race = 'Unknown'\n",
    "        else:\n",
    "            race = 'Other'\n",
    "    else:\n",
    "        if race == 'W':\n",
    "            if ethnicity == 'H':\n",
    "                race = 'Hispanic'\n",
    "            else:\n",
    "                race = 'White'\n",
    "        elif race == 'B':\n",
    "            if ethnicity == 'H':\n",
    "                race = 'Hispanic'\n",
    "            else:\n",
    "                race = 'Black'\n",
    "        elif race == 'O':\n",
    "            race = 'Hispanic'\n",
    "        else:\n",
    "            race = 'Other'\n",
    "    \n",
    "    empi2race_eth[mrn] = race\n",
    "#    mrn2race_fe[race][mrn] = 1"
   ]
  },
  {
   "cell_type": "code",
   "execution_count": 34,
   "id": "dc86d167",
   "metadata": {
    "ExecuteTime": {
     "end_time": "2022-06-30T19:34:10.684628Z",
     "start_time": "2022-06-30T19:34:10.661585Z"
    }
   },
   "outputs": [],
   "source": [
    "rel_limit_df[\"ethnicity_mapped\"] = rel_limit_df[\"ethnic_code\"].map(map_ethnic_dict).fillna(rel_limit_df[\"ethnic_code\"])\n",
    "rel_limit_df[\"race_mapped\"] = rel_limit_df[\"race_code\"].map(map_race_dict).fillna(rel_limit_df[\"race_code\"])"
   ]
  },
  {
   "cell_type": "code",
   "execution_count": 35,
   "id": "9ef39af6",
   "metadata": {
    "ExecuteTime": {
     "end_time": "2022-06-30T19:34:13.953039Z",
     "start_time": "2022-06-30T19:34:12.159692Z"
    }
   },
   "outputs": [],
   "source": [
    "empi2race_eth = defaultdict(dict)\n",
    "\n",
    "for row in rel_limit_df.iterrows():\n",
    "    \n",
    "    mrn = str(row[1][\"mrn\"])\n",
    "    race = row[1][\"race_mapped\"]\n",
    "    ethnicity = row[1][\"ethnicity_mapped\"]\n",
    "    \n",
    "    fe_ethnicity_race(mrn, race, ethnicity)"
   ]
  },
  {
   "cell_type": "code",
   "execution_count": 36,
   "id": "cd4c84f9",
   "metadata": {
    "ExecuteTime": {
     "end_time": "2022-06-30T19:34:13.968501Z",
     "start_time": "2022-06-30T19:34:13.956165Z"
    }
   },
   "outputs": [],
   "source": [
    "def assign_family_ethnicities(fam2empi, empi2demog, print_breakdown=True):\n",
    "    \"\"\"\n",
    "    Assign each family a single ethnicity. This makes the (incorrect) assumption that everyone in the same\n",
    "    family will have the same ethnicity. However, because there are so much missing data, this is better\n",
    "    than nothing at all.\n",
    "\n",
    "    fam2empi        dict, map from family id to a set of patients identifiers that belong in that family\n",
    "    empi2demog      dict, map from patient identifiers to the demographic data (including self-reported race/ethnicity data)\n",
    "    \"\"\"\n",
    "\n",
    "    print(\"Identifying most commonly reported ethnicity for each family...\")\n",
    "\n",
    "    eth2fam = defaultdict(set)\n",
    "    fam2eth = dict()\n",
    "   \n",
    "    for fid, members in tqdm(fam2empi.items()):\n",
    "        \n",
    "\n",
    "        family_ethnicities = [empi2race_eth[e] for e in members if empi2race_eth.get(e,0) != 0 if empi2race_eth[e] != 'Unknown' ]\n",
    "        if len(family_ethnicities) == 0:\n",
    "            mode = 'Unknown'\n",
    "        else:\n",
    "            mode = max(set(family_ethnicities), key=family_ethnicities.count)\n",
    "\n",
    "        eth2fam[mode].add(fid)\n",
    "        fam2eth[fid] = mode\n",
    "\n",
    "    if print_breakdown:\n",
    "        for eth, families in eth2fam.items():\n",
    "            print( \"\\t%s: %d\" % (eth, len(families)))\n",
    "\n",
    "    return eth2fam, fam2eth\n"
   ]
  },
  {
   "cell_type": "code",
   "execution_count": 37,
   "id": "e8726430",
   "metadata": {
    "ExecuteTime": {
     "end_time": "2022-06-30T19:34:15.879664Z",
     "start_time": "2022-06-30T19:34:14.541671Z"
    },
    "code_folding": []
   },
   "outputs": [
    {
     "name": "stderr",
     "output_type": "stream",
     "text": [
      "12549it [00:01, 9678.75it/s]\n"
     ]
    }
   ],
   "source": [
    "#map family to patient ID\n",
    "fam2empi = defaultdict(list)\n",
    "\n",
    "for row in tqdm( fam_df[ fam_df[\"ptid\"].isin(rel_limit_df[\"ptid\"].astype(int)) ]\\\n",
    "                .iterrows() ):\n",
    "    fam2empi[row[1][\"famid\"]].append(row[1][\"ptid\"].astype(str))"
   ]
  },
  {
   "cell_type": "code",
   "execution_count": 38,
   "id": "ee6a49cc",
   "metadata": {
    "ExecuteTime": {
     "end_time": "2022-06-30T19:34:15.958854Z",
     "start_time": "2022-06-30T19:34:15.882763Z"
    }
   },
   "outputs": [
    {
     "name": "stdout",
     "output_type": "stream",
     "text": [
      "Identifying most commonly reported ethnicity for each family...\n"
     ]
    },
    {
     "name": "stderr",
     "output_type": "stream",
     "text": [
      "100%|█████████████████████████████████████████████████████████████████████████████████████████████████████████████████████████████████████████████████| 5591/5591 [00:00<00:00, 88836.52it/s]"
     ]
    },
    {
     "name": "stdout",
     "output_type": "stream",
     "text": [
      "\tWhite: 1287\n",
      "\tBlack: 714\n",
      "\tOther: 2007\n",
      "\tHispanic: 1583\n"
     ]
    },
    {
     "name": "stderr",
     "output_type": "stream",
     "text": [
      "\n"
     ]
    }
   ],
   "source": [
    "eth2fam, fam2eth = assign_family_ethnicities(fam2empi,empi2race_eth)"
   ]
  },
  {
   "cell_type": "code",
   "execution_count": 40,
   "id": "f247db35",
   "metadata": {
    "ExecuteTime": {
     "end_time": "2022-06-30T19:34:28.494831Z",
     "start_time": "2022-06-30T19:34:28.465717Z"
    }
   },
   "outputs": [],
   "source": [
    "rel_limit_df[\"fam_race_eth\"] = rel_limit_df[\"famid\"].map(fam2eth)\n",
    "rel_limit_df[\"fe_race_eth\"] = rel_limit_df[\"mrn\"].astype(str).map(empi2race_eth)"
   ]
  },
  {
   "cell_type": "code",
   "execution_count": 43,
   "id": "926f92ef",
   "metadata": {
    "ExecuteTime": {
     "end_time": "2022-06-30T19:37:24.342233Z",
     "start_time": "2022-06-30T19:37:23.949901Z"
    }
   },
   "outputs": [],
   "source": [
    "import statistics\n",
    "\n",
    "demo_counts = list()\n",
    "for df in df_limited:\n",
    "    pheno = df[\"pheno\"].unique()[0]\n",
    "    \n",
    "    df[\"fam_race_eth\"] = df[\"famid\"].map(fam2eth)\n",
    "    df[\"fe_race_eth\"] = df[\"ptid\"].astype(str).map(empi2race_eth)\n",
    "    \n",
    "    #patients in phenotype\n",
    "    df_demo_rel = rel_limit_df[ rel_limit_df[\"ptid\"].isin( df[\"ptid\"].astype(str) )]\n",
    "    \n",
    "    #Limit race columns\n",
    "    df_race_rel = df_demo_rel[[\"ptid\",\"fe_race_eth\"]]\n",
    "    df_race_rel.drop_duplicates(inplace=True)\n",
    "    race_group = df_race_rel.groupby(\"fe_race_eth\").count()[\"ptid\"] \n",
    "    \n",
    "    #Get age dataframe\n",
    "    df_demo_age = df_demo_rel[[\"ptid\",\"age\"]]\n",
    "    df_demo_age.drop_duplicates(inplace=True)\n",
    "    \n",
    "    #Females\n",
    "    female_patients = len( df_demo_rel[ df_demo_rel[\"sex\"] == \"F\"][\"ptid\"].unique() )\n",
    "    total_patients = len( df_demo_rel[\"ptid\"].unique())\n",
    "\n",
    "    \n",
    "    cols = [\"pheno\",\"total patients\",\"female_n\",\"female_percent\",\"age\",\\\n",
    "            \"age_standard_dev\",\"black\",\"hispanic\",\"other\",\"white\",\\\n",
    "       \"black_percent\",\"hispanic_percent\",\"other_percent\",\"white_percent\"]\n",
    "    \n",
    "    holder_list = list()\n",
    "    holder_list.append(pheno)\n",
    "    holder_list.append(total_patients)\n",
    "    holder_list.append(female_patients)\n",
    "    holder_list.append(round( female_patients/total_patients, 2) )\n",
    "    holder_list.append(df_demo_age[\"age\"].mean())\n",
    "    holder_list.append(statistics.stdev( df_demo_age[\"age\"]))\n",
    "    holder_list.extend(race_group.values)\n",
    "    holder_list.extend(race_group/total_patients)                                 \n",
    "    \n",
    "    demo_counts.append(holder_list)\n",
    "\n",
    "    \n",
    "demo_combined_df = pd.DataFrame(demo_counts,columns=cols) "
   ]
  },
  {
   "cell_type": "code",
   "execution_count": 44,
   "id": "57fdf0cf",
   "metadata": {
    "ExecuteTime": {
     "end_time": "2022-06-30T19:37:26.919435Z",
     "start_time": "2022-06-30T19:37:26.891774Z"
    }
   },
   "outputs": [
    {
     "data": {
      "text/html": [
       "<div>\n",
       "<style scoped>\n",
       "    .dataframe tbody tr th:only-of-type {\n",
       "        vertical-align: middle;\n",
       "    }\n",
       "\n",
       "    .dataframe tbody tr th {\n",
       "        vertical-align: top;\n",
       "    }\n",
       "\n",
       "    .dataframe thead th {\n",
       "        text-align: right;\n",
       "    }\n",
       "</style>\n",
       "<table border=\"1\" class=\"dataframe\">\n",
       "  <thead>\n",
       "    <tr style=\"text-align: right;\">\n",
       "      <th></th>\n",
       "      <th>pheno</th>\n",
       "      <th>total patients</th>\n",
       "      <th>female_n</th>\n",
       "      <th>female_percent</th>\n",
       "      <th>age</th>\n",
       "      <th>age_standard_dev</th>\n",
       "      <th>black</th>\n",
       "      <th>hispanic</th>\n",
       "      <th>other</th>\n",
       "      <th>white</th>\n",
       "      <th>black_percent</th>\n",
       "      <th>hispanic_percent</th>\n",
       "      <th>other_percent</th>\n",
       "      <th>white_percent</th>\n",
       "    </tr>\n",
       "  </thead>\n",
       "  <tbody>\n",
       "    <tr>\n",
       "      <th>0</th>\n",
       "      <td>covid_noproband</td>\n",
       "      <td>12549</td>\n",
       "      <td>8404</td>\n",
       "      <td>0.67</td>\n",
       "      <td>39.633038</td>\n",
       "      <td>25.357465</td>\n",
       "      <td>1397</td>\n",
       "      <td>2480</td>\n",
       "      <td>6479</td>\n",
       "      <td>2193</td>\n",
       "      <td>0.111324</td>\n",
       "      <td>0.197625</td>\n",
       "      <td>0.516296</td>\n",
       "      <td>0.174755</td>\n",
       "    </tr>\n",
       "    <tr>\n",
       "      <th>1</th>\n",
       "      <td>covid</td>\n",
       "      <td>3111</td>\n",
       "      <td>2087</td>\n",
       "      <td>0.67</td>\n",
       "      <td>40.500161</td>\n",
       "      <td>26.249126</td>\n",
       "      <td>351</td>\n",
       "      <td>692</td>\n",
       "      <td>1746</td>\n",
       "      <td>322</td>\n",
       "      <td>0.112825</td>\n",
       "      <td>0.222437</td>\n",
       "      <td>0.561234</td>\n",
       "      <td>0.103504</td>\n",
       "    </tr>\n",
       "    <tr>\n",
       "      <th>2</th>\n",
       "      <td>days_hosp</td>\n",
       "      <td>335</td>\n",
       "      <td>213</td>\n",
       "      <td>0.64</td>\n",
       "      <td>44.958209</td>\n",
       "      <td>28.012584</td>\n",
       "      <td>30</td>\n",
       "      <td>84</td>\n",
       "      <td>205</td>\n",
       "      <td>16</td>\n",
       "      <td>0.089552</td>\n",
       "      <td>0.250746</td>\n",
       "      <td>0.611940</td>\n",
       "      <td>0.047761</td>\n",
       "    </tr>\n",
       "    <tr>\n",
       "      <th>3</th>\n",
       "      <td>hosp_stat</td>\n",
       "      <td>244</td>\n",
       "      <td>157</td>\n",
       "      <td>0.64</td>\n",
       "      <td>51.586066</td>\n",
       "      <td>26.769646</td>\n",
       "      <td>26</td>\n",
       "      <td>51</td>\n",
       "      <td>155</td>\n",
       "      <td>12</td>\n",
       "      <td>0.106557</td>\n",
       "      <td>0.209016</td>\n",
       "      <td>0.635246</td>\n",
       "      <td>0.049180</td>\n",
       "    </tr>\n",
       "    <tr>\n",
       "      <th>4</th>\n",
       "      <td>hosp_stat_nopro</td>\n",
       "      <td>335</td>\n",
       "      <td>213</td>\n",
       "      <td>0.64</td>\n",
       "      <td>44.958209</td>\n",
       "      <td>28.012584</td>\n",
       "      <td>30</td>\n",
       "      <td>84</td>\n",
       "      <td>205</td>\n",
       "      <td>16</td>\n",
       "      <td>0.089552</td>\n",
       "      <td>0.250746</td>\n",
       "      <td>0.611940</td>\n",
       "      <td>0.047761</td>\n",
       "    </tr>\n",
       "    <tr>\n",
       "      <th>5</th>\n",
       "      <td>covid_highdeg_fam</td>\n",
       "      <td>924</td>\n",
       "      <td>622</td>\n",
       "      <td>0.67</td>\n",
       "      <td>42.965368</td>\n",
       "      <td>26.720959</td>\n",
       "      <td>77</td>\n",
       "      <td>253</td>\n",
       "      <td>530</td>\n",
       "      <td>64</td>\n",
       "      <td>0.083333</td>\n",
       "      <td>0.273810</td>\n",
       "      <td>0.573593</td>\n",
       "      <td>0.069264</td>\n",
       "    </tr>\n",
       "    <tr>\n",
       "      <th>6</th>\n",
       "      <td>covid_highdeg_nopro</td>\n",
       "      <td>2688</td>\n",
       "      <td>1823</td>\n",
       "      <td>0.68</td>\n",
       "      <td>41.426711</td>\n",
       "      <td>26.269463</td>\n",
       "      <td>248</td>\n",
       "      <td>655</td>\n",
       "      <td>1527</td>\n",
       "      <td>258</td>\n",
       "      <td>0.092262</td>\n",
       "      <td>0.243676</td>\n",
       "      <td>0.568080</td>\n",
       "      <td>0.095982</td>\n",
       "    </tr>\n",
       "  </tbody>\n",
       "</table>\n",
       "</div>"
      ],
      "text/plain": [
       "                 pheno  total patients  female_n  female_percent        age  \\\n",
       "0      covid_noproband           12549      8404            0.67  39.633038   \n",
       "1                covid            3111      2087            0.67  40.500161   \n",
       "2            days_hosp             335       213            0.64  44.958209   \n",
       "3            hosp_stat             244       157            0.64  51.586066   \n",
       "4      hosp_stat_nopro             335       213            0.64  44.958209   \n",
       "5    covid_highdeg_fam             924       622            0.67  42.965368   \n",
       "6  covid_highdeg_nopro            2688      1823            0.68  41.426711   \n",
       "\n",
       "   age_standard_dev  black  hispanic  other  white  black_percent  \\\n",
       "0         25.357465   1397      2480   6479   2193       0.111324   \n",
       "1         26.249126    351       692   1746    322       0.112825   \n",
       "2         28.012584     30        84    205     16       0.089552   \n",
       "3         26.769646     26        51    155     12       0.106557   \n",
       "4         28.012584     30        84    205     16       0.089552   \n",
       "5         26.720959     77       253    530     64       0.083333   \n",
       "6         26.269463    248       655   1527    258       0.092262   \n",
       "\n",
       "   hispanic_percent  other_percent  white_percent  \n",
       "0          0.197625       0.516296       0.174755  \n",
       "1          0.222437       0.561234       0.103504  \n",
       "2          0.250746       0.611940       0.047761  \n",
       "3          0.209016       0.635246       0.049180  \n",
       "4          0.250746       0.611940       0.047761  \n",
       "5          0.273810       0.573593       0.069264  \n",
       "6          0.243676       0.568080       0.095982  "
      ]
     },
     "execution_count": 44,
     "metadata": {},
     "output_type": "execute_result"
    }
   ],
   "source": [
    "demo_combined_df"
   ]
  },
  {
   "cell_type": "markdown",
   "id": "ad74885c",
   "metadata": {},
   "source": [
    "## Graphs"
   ]
  },
  {
   "cell_type": "code",
   "execution_count": 46,
   "id": "3d97c388",
   "metadata": {
    "ExecuteTime": {
     "end_time": "2022-06-30T19:38:17.097873Z",
     "start_time": "2022-06-30T19:38:16.610209Z"
    }
   },
   "outputs": [],
   "source": [
    "%matplotlib inline  \n",
    "import seaborn as sns\n",
    "import matplotlib.pyplot as plt"
   ]
  },
  {
   "cell_type": "code",
   "execution_count": 47,
   "id": "c0ff55c7",
   "metadata": {
    "ExecuteTime": {
     "end_time": "2022-06-30T19:38:19.048881Z",
     "start_time": "2022-06-30T19:38:19.017298Z"
    }
   },
   "outputs": [
    {
     "data": {
      "text/plain": [
       "2.2487667371388302"
      ]
     },
     "execution_count": 47,
     "metadata": {},
     "output_type": "execute_result"
    }
   ],
   "source": [
    "#Average number of family members - use noproband covid susceptibility because includes max patients included\n",
    "count_fam = covnopro_limited_df.groupby([\"famid\"]).count()[\"ptid\"].reset_index()\n",
    "np.mean( count_fam[\"ptid\"] )"
   ]
  },
  {
   "cell_type": "code",
   "execution_count": 50,
   "id": "6afdd0b2",
   "metadata": {
    "ExecuteTime": {
     "end_time": "2022-06-30T19:38:40.828100Z",
     "start_time": "2022-06-30T19:38:40.516541Z"
    }
   },
   "outputs": [
    {
     "data": {
      "text/plain": [
       "Text(0, 0.5, 'Number of Families')"
      ]
     },
     "execution_count": 50,
     "metadata": {},
     "output_type": "execute_result"
    },
    {
     "data": {
      "image/png": "[encoded data removed]",
      "text/plain": [
       "<Figure size 432x288 with 1 Axes>"
      ]
     },
     "metadata": {
      "needs_background": "light"
     },
     "output_type": "display_data"
    }
   ],
   "source": [
    "hist_df = count_fam.groupby(\"ptid\").count().reset_index()\\\n",
    ".rename(columns={\"ptid\":\"Number of Family Members\",\"famid\":\"Number of Families\"})\n",
    "\n",
    "fig, ax = plt.subplots()\n",
    "bars = ax.bar( hist_df[\"Number of Family Members\"], hist_df[\"Number of Families\"],color=\"lightsteelblue\", )\n",
    "\n",
    "ax.bar_label(bars)\n",
    "sns.despine()\n",
    "\n",
    "plt.xlabel(\"Number of Family Members\")\n",
    "plt.ylabel(\"Number of Families\")"
   ]
  },
  {
   "cell_type": "code",
   "execution_count": 52,
   "id": "37148d1c",
   "metadata": {
    "ExecuteTime": {
     "end_time": "2022-06-30T19:39:28.957241Z",
     "start_time": "2022-06-30T19:39:28.652653Z"
    }
   },
   "outputs": [
    {
     "name": "stdout",
     "output_type": "stream",
     "text": [
      "17336\n",
      "17336\n"
     ]
    },
    {
     "data": {
      "text/plain": [
       "[Text(0, 0, '6124'), Text(0, 0, '1171'), Text(0, 0, '190'), Text(0, 0, '133')]"
      ]
     },
     "execution_count": 52,
     "metadata": {},
     "output_type": "execute_result"
    },
    {
     "data": {
      "image/png": "[encoded data removed]",
      "text/plain": [
       "<Figure size 432x288 with 1 Axes>"
      ]
     },
     "metadata": {
      "needs_background": "light"
     },
     "output_type": "display_data"
    }
   ],
   "source": [
    "# Set the palette using the name of a palette:\n",
    "sns.set_palette(\"Blues\")\n",
    "\n",
    "#Make sure there aren't duplicates because of demo\n",
    "\n",
    "rel_only_df = rel_limit_df[[\"ptid\",\"relation_mrn\",\"rel_degree\"]]\n",
    "print( len(rel_limit_df) )\n",
    "\n",
    "rel_only_df.drop_duplicates(inplace=True)\n",
    "print( len(rel_only_df) )\n",
    "\n",
    "#Count of individuals by degree, can be case OR control\n",
    "degree_counts_all = rel_limit_df.groupby(\"rel_degree\").agg({\"mrn\":'count'}).reset_index()\n",
    "\n",
    "degree_counts = degree_counts_all[ degree_counts_all[\"rel_degree\"].isin([\"First\",\"Second\",\"Third\",\"Fourth\"]) ]\n",
    "\n",
    "#Divide by 2 since reciprical of every relationship is included\n",
    "degree_counts[\"unique_rel_count\"] = degree_counts[\"mrn\"]/2\n",
    "degree_counts.sort_values(by=\"unique_rel_count\", ascending=False, inplace=True)\n",
    "\n",
    "ax = sns.barplot(x=\"rel_degree\", y=\"unique_rel_count\", \\\n",
    "                 data=degree_counts)\n",
    "sns.despine()\n",
    "\n",
    "ax.set_xlabel(\"Degree\", fontsize = 12)\n",
    "ax.set_ylabel(\"Number of Relationships\", fontsize = 12)\n",
    "sns.despine()\n",
    "\n",
    "ax.bar_label(ax.containers[0])"
   ]
  },
  {
   "cell_type": "code",
   "execution_count": 53,
   "id": "44a41e99",
   "metadata": {
    "ExecuteTime": {
     "end_time": "2022-06-30T19:39:50.784880Z",
     "start_time": "2022-06-30T19:39:32.164527Z"
    }
   },
   "outputs": [],
   "source": [
    "#Map hhid abd bid to patients\n",
    "rel_limit_df[\"hhid\"] = rel_limit_df[\"ptid\"].astype(int).map(mrn2hhid)\n",
    "rel_limit_df[\"bid\"] = rel_limit_df[\"ptid\"].astype(int).map(mrn2bid)\n",
    "\n",
    "rel_limit_df[\"rel_hhid\"] = rel_limit_df[\"relation_mrn\"].astype(int).map(mrn2hhid)\n",
    "rel_limit_df[\"rel_bid\"] = rel_limit_df[\"relation_mrn\"].astype(int).map(mrn2bid)"
   ]
  },
  {
   "cell_type": "code",
   "execution_count": 54,
   "id": "c76caca2",
   "metadata": {
    "ExecuteTime": {
     "end_time": "2022-06-30T19:39:50.849870Z",
     "start_time": "2022-06-30T19:39:50.789368Z"
    }
   },
   "outputs": [
    {
     "data": {
      "text/plain": [
       "0.5197226870666986"
      ]
     },
     "execution_count": 54,
     "metadata": {},
     "output_type": "execute_result"
    }
   ],
   "source": [
    "#Percent relatives that share hhid (will be the same as bid overlap)\n",
    "len( rel_limit_df[ rel_limit_df[\"hhid\"] == rel_limit_df[\"rel_hhid\"]][\"ptid\"].unique())\\\n",
    "/len(rel_limit_df[\"ptid\"].unique())"
   ]
  },
  {
   "cell_type": "code",
   "execution_count": 67,
   "id": "e05cdc56",
   "metadata": {
    "ExecuteTime": {
     "end_time": "2022-06-30T20:00:01.698407Z",
     "start_time": "2022-06-30T20:00:01.675413Z"
    }
   },
   "outputs": [],
   "source": [
    "share_hhid_df = rel_limit_df[ (rel_limit_df['hhid'] == rel_limit_df['rel_hhid'] ) &\\\n",
    "            (rel_limit_df['mrn'] != rel_limit_df['relation_mrn'] )\n",
    "            \n",
    "            ]"
   ]
  },
  {
   "cell_type": "code",
   "execution_count": 68,
   "id": "5323050b",
   "metadata": {
    "ExecuteTime": {
     "end_time": "2022-06-30T20:00:03.097766Z",
     "start_time": "2022-06-30T20:00:03.019757Z"
    }
   },
   "outputs": [],
   "source": [
    "#percent that live together\n",
    "\n",
    "degree_hhid_list = list()\n",
    "for degree in [\"First\",\"Second\",\"Third\",\"Fourth\"]:\n",
    "    \n",
    "    shared_hhid_count = len( share_hhid_df[share_hhid_df[\"rel_degree\"] == degree][[\"mrn\",\"relation_mrn\"]].drop_duplicates() )\n",
    "    all_degree = len( rel_limit_df[rel_limit_df[\"rel_degree\"] == degree][[\"mrn\",\"relation_mrn\"]].drop_duplicates() )\n",
    "    \n",
    "    percent_live_together = shared_hhid_count/all_degree\n",
    "    #must divide by 2 since reciprical\n",
    "    total_live_together = shared_hhid_count/2\n",
    "    total_with_that_rel = all_degree/2\n",
    "    \n",
    "    degree_hhid_list.append([degree,total_live_together,total_with_that_rel,percent_live_together])\n",
    "    "
   ]
  },
  {
   "cell_type": "code",
   "execution_count": 69,
   "id": "080bb9a6",
   "metadata": {
    "ExecuteTime": {
     "end_time": "2022-06-30T20:00:09.684870Z",
     "start_time": "2022-06-30T20:00:09.665412Z"
    }
   },
   "outputs": [
    {
     "data": {
      "text/html": [
       "<div>\n",
       "<style scoped>\n",
       "    .dataframe tbody tr th:only-of-type {\n",
       "        vertical-align: middle;\n",
       "    }\n",
       "\n",
       "    .dataframe tbody tr th {\n",
       "        vertical-align: top;\n",
       "    }\n",
       "\n",
       "    .dataframe thead th {\n",
       "        text-align: right;\n",
       "    }\n",
       "</style>\n",
       "<table border=\"1\" class=\"dataframe\">\n",
       "  <thead>\n",
       "    <tr style=\"text-align: right;\">\n",
       "      <th></th>\n",
       "      <th>Degree</th>\n",
       "      <th>N Lives Together</th>\n",
       "      <th>N</th>\n",
       "      <th>Percent lives together</th>\n",
       "    </tr>\n",
       "  </thead>\n",
       "  <tbody>\n",
       "    <tr>\n",
       "      <th>0</th>\n",
       "      <td>First</td>\n",
       "      <td>3294.0</td>\n",
       "      <td>6124.0</td>\n",
       "      <td>0.537884</td>\n",
       "    </tr>\n",
       "    <tr>\n",
       "      <th>1</th>\n",
       "      <td>Second</td>\n",
       "      <td>255.0</td>\n",
       "      <td>1171.0</td>\n",
       "      <td>0.217763</td>\n",
       "    </tr>\n",
       "    <tr>\n",
       "      <th>2</th>\n",
       "      <td>Third</td>\n",
       "      <td>13.0</td>\n",
       "      <td>190.0</td>\n",
       "      <td>0.068421</td>\n",
       "    </tr>\n",
       "    <tr>\n",
       "      <th>3</th>\n",
       "      <td>Fourth</td>\n",
       "      <td>9.0</td>\n",
       "      <td>133.0</td>\n",
       "      <td>0.067669</td>\n",
       "    </tr>\n",
       "  </tbody>\n",
       "</table>\n",
       "</div>"
      ],
      "text/plain": [
       "   Degree  N Lives Together       N  Percent lives together\n",
       "0   First            3294.0  6124.0                0.537884\n",
       "1  Second             255.0  1171.0                0.217763\n",
       "2   Third              13.0   190.0                0.068421\n",
       "3  Fourth               9.0   133.0                0.067669"
      ]
     },
     "execution_count": 69,
     "metadata": {},
     "output_type": "execute_result"
    }
   ],
   "source": [
    "pd.DataFrame(degree_hhid_list,columns=[\"Degree\",\"N Lives Together\",\"N\",\"Percent lives together\"])"
   ]
  },
  {
   "cell_type": "code",
   "execution_count": 72,
   "id": "3ec6791e",
   "metadata": {
    "ExecuteTime": {
     "end_time": "2022-06-30T20:01:07.954227Z",
     "start_time": "2022-06-30T20:01:07.927781Z"
    }
   },
   "outputs": [
    {
     "data": {
      "text/plain": [
       "0.5197226870666986"
      ]
     },
     "execution_count": 72,
     "metadata": {},
     "output_type": "execute_result"
    }
   ],
   "source": [
    "#Percent relatives that share hhid\n",
    "len( rel_limit_df[ rel_limit_df[\"bid\"] == rel_limit_df[\"rel_bid\"]][\"ptid\"].unique())\\\n",
    "/len(rel_limit_df[\"ptid\"].unique())\n"
   ]
  }
 ],
 "metadata": {
  "kernelspec": {
   "display_name": "covid_herit",
   "language": "python",
   "name": "covid_herit"
  },
  "language_info": {
   "codemirror_mode": {
    "name": "ipython",
    "version": 3
   },
   "file_extension": ".py",
   "mimetype": "text/x-python",
   "name": "python",
   "nbconvert_exporter": "python",
   "pygments_lexer": "ipython3",
   "version": "3.8.10"
  },
  "toc": {
   "base_numbering": 1,
   "nav_menu": {},
   "number_sections": true,
   "sideBar": true,
   "skip_h1_title": false,
   "title_cell": "Table of Contents",
   "title_sidebar": "Contents",
   "toc_cell": false,
   "toc_position": {},
   "toc_section_display": true,
   "toc_window_display": false
  },
  "varInspector": {
   "cols": {
    "lenName": 16,
    "lenType": 16,
    "lenVar": 40
   },
   "kernels_config": {
    "python": {
     "delete_cmd_postfix": "",
     "delete_cmd_prefix": "del ",
     "library": "var_list.py",
     "varRefreshCmd": "print(var_dic_list())"
    },
    "r": {
     "delete_cmd_postfix": ") ",
     "delete_cmd_prefix": "rm(",
     "library": "var_list.r",
     "varRefreshCmd": "cat(var_dic_list()) "
    }
   },
   "types_to_exclude": [
    "module",
    "function",
    "builtin_function_or_method",
    "instance",
    "_Feature"
   ],
   "window_display": false
  }
 },
 "nbformat": 4,
 "nbformat_minor": 5
}
